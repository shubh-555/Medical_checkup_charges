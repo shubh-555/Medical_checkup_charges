{
 "cells": [
  {
   "cell_type": "code",
   "execution_count": 1,
   "id": "a148ba72",
   "metadata": {},
   "outputs": [],
   "source": [
    "import pandas as pd\n",
    "import numpy as np\n",
    "import matplotlib.pyplot as plt\n",
    "import seaborn as sns\n",
    "from sklearn.impute import KNNImputer\n",
    "from statsmodels.stats.outliers_influence import variance_inflation_factor\n",
    "from sklearn.decomposition import PCA\n",
    "from sklearn.model_selection import train_test_split,GridSearchCV,RandomizedSearchCV\n",
    "from sklearn.linear_model import LinearRegression\n",
    "from sklearn.metrics import r2_score,mean_squared_error,mean_absolute_error\n",
    "from sklearn.neighbors import KNeighborsRegressor\n",
    "from sklearn.preprocessing import MinMaxScaler\n",
    "from sklearn.tree import DecisionTreeRegressor\n",
    "from sklearn.ensemble import RandomForestRegressor,AdaBoostRegressor\n",
    "from scipy.stats import shapiro,kstest\n",
    "import statsmodels.api as sm"
   ]
  },
  {
   "cell_type": "markdown",
   "id": "8884a353",
   "metadata": {},
   "source": [
    "# Data Gathering"
   ]
  },
  {
   "cell_type": "code",
   "execution_count": 2,
   "id": "f76fcfe8",
   "metadata": {
    "scrolled": true
   },
   "outputs": [
    {
     "data": {
      "text/html": [
       "<div>\n",
       "<style scoped>\n",
       "    .dataframe tbody tr th:only-of-type {\n",
       "        vertical-align: middle;\n",
       "    }\n",
       "\n",
       "    .dataframe tbody tr th {\n",
       "        vertical-align: top;\n",
       "    }\n",
       "\n",
       "    .dataframe thead th {\n",
       "        text-align: right;\n",
       "    }\n",
       "</style>\n",
       "<table border=\"1\" class=\"dataframe\">\n",
       "  <thead>\n",
       "    <tr style=\"text-align: right;\">\n",
       "      <th></th>\n",
       "      <th>Unnamed: 0</th>\n",
       "      <th>CaseOrder</th>\n",
       "      <th>Customer_id</th>\n",
       "      <th>Interaction</th>\n",
       "      <th>UID</th>\n",
       "      <th>City</th>\n",
       "      <th>State</th>\n",
       "      <th>County</th>\n",
       "      <th>Zip</th>\n",
       "      <th>Lat</th>\n",
       "      <th>...</th>\n",
       "      <th>TotalCharge</th>\n",
       "      <th>Additional_charges</th>\n",
       "      <th>Item1</th>\n",
       "      <th>Item2</th>\n",
       "      <th>Item3</th>\n",
       "      <th>Item4</th>\n",
       "      <th>Item5</th>\n",
       "      <th>Item6</th>\n",
       "      <th>Item7</th>\n",
       "      <th>Item8</th>\n",
       "    </tr>\n",
       "  </thead>\n",
       "  <tbody>\n",
       "    <tr>\n",
       "      <th>0</th>\n",
       "      <td>1</td>\n",
       "      <td>1</td>\n",
       "      <td>C412403</td>\n",
       "      <td>8cd49b13-f45a-4b47-a2bd-173ffa932c2f</td>\n",
       "      <td>3a83ddb66e2ae73798bdf1d705dc0932</td>\n",
       "      <td>Eva</td>\n",
       "      <td>AL</td>\n",
       "      <td>Morgan</td>\n",
       "      <td>35621</td>\n",
       "      <td>34.34960</td>\n",
       "      <td>...</td>\n",
       "      <td>3191.048774</td>\n",
       "      <td>17939.403420</td>\n",
       "      <td>3</td>\n",
       "      <td>3</td>\n",
       "      <td>2</td>\n",
       "      <td>2</td>\n",
       "      <td>4</td>\n",
       "      <td>3</td>\n",
       "      <td>3</td>\n",
       "      <td>4</td>\n",
       "    </tr>\n",
       "    <tr>\n",
       "      <th>1</th>\n",
       "      <td>2</td>\n",
       "      <td>2</td>\n",
       "      <td>Z919181</td>\n",
       "      <td>d2450b70-0337-4406-bdbb-bc1037f1734c</td>\n",
       "      <td>176354c5eef714957d486009feabf195</td>\n",
       "      <td>Marianna</td>\n",
       "      <td>FL</td>\n",
       "      <td>Jackson</td>\n",
       "      <td>32446</td>\n",
       "      <td>30.84513</td>\n",
       "      <td>...</td>\n",
       "      <td>4214.905346</td>\n",
       "      <td>17612.998120</td>\n",
       "      <td>3</td>\n",
       "      <td>4</td>\n",
       "      <td>3</td>\n",
       "      <td>4</td>\n",
       "      <td>4</td>\n",
       "      <td>4</td>\n",
       "      <td>3</td>\n",
       "      <td>3</td>\n",
       "    </tr>\n",
       "    <tr>\n",
       "      <th>2</th>\n",
       "      <td>3</td>\n",
       "      <td>3</td>\n",
       "      <td>F995323</td>\n",
       "      <td>a2057123-abf5-4a2c-abad-8ffe33512562</td>\n",
       "      <td>e19a0fa00aeda885b8a436757e889bc9</td>\n",
       "      <td>Sioux Falls</td>\n",
       "      <td>SD</td>\n",
       "      <td>Minnehaha</td>\n",
       "      <td>57110</td>\n",
       "      <td>43.54321</td>\n",
       "      <td>...</td>\n",
       "      <td>2177.586768</td>\n",
       "      <td>17505.192460</td>\n",
       "      <td>2</td>\n",
       "      <td>4</td>\n",
       "      <td>4</td>\n",
       "      <td>4</td>\n",
       "      <td>3</td>\n",
       "      <td>4</td>\n",
       "      <td>3</td>\n",
       "      <td>3</td>\n",
       "    </tr>\n",
       "    <tr>\n",
       "      <th>3</th>\n",
       "      <td>4</td>\n",
       "      <td>4</td>\n",
       "      <td>A879973</td>\n",
       "      <td>1dec528d-eb34-4079-adce-0d7a40e82205</td>\n",
       "      <td>cd17d7b6d152cb6f23957346d11c3f07</td>\n",
       "      <td>New Richland</td>\n",
       "      <td>MN</td>\n",
       "      <td>Waseca</td>\n",
       "      <td>56072</td>\n",
       "      <td>43.89744</td>\n",
       "      <td>...</td>\n",
       "      <td>2465.118965</td>\n",
       "      <td>12993.437350</td>\n",
       "      <td>3</td>\n",
       "      <td>5</td>\n",
       "      <td>5</td>\n",
       "      <td>3</td>\n",
       "      <td>4</td>\n",
       "      <td>5</td>\n",
       "      <td>5</td>\n",
       "      <td>5</td>\n",
       "    </tr>\n",
       "    <tr>\n",
       "      <th>4</th>\n",
       "      <td>5</td>\n",
       "      <td>5</td>\n",
       "      <td>C544523</td>\n",
       "      <td>5885f56b-d6da-43a3-8760-83583af94266</td>\n",
       "      <td>d2f0425877b10ed6bb381f3e2579424a</td>\n",
       "      <td>West Point</td>\n",
       "      <td>VA</td>\n",
       "      <td>King William</td>\n",
       "      <td>23181</td>\n",
       "      <td>37.59894</td>\n",
       "      <td>...</td>\n",
       "      <td>1885.655137</td>\n",
       "      <td>3716.525786</td>\n",
       "      <td>2</td>\n",
       "      <td>1</td>\n",
       "      <td>3</td>\n",
       "      <td>3</td>\n",
       "      <td>5</td>\n",
       "      <td>3</td>\n",
       "      <td>4</td>\n",
       "      <td>3</td>\n",
       "    </tr>\n",
       "  </tbody>\n",
       "</table>\n",
       "<p>5 rows × 53 columns</p>\n",
       "</div>"
      ],
      "text/plain": [
       "   Unnamed: 0  CaseOrder Customer_id                           Interaction  \\\n",
       "0           1          1     C412403  8cd49b13-f45a-4b47-a2bd-173ffa932c2f   \n",
       "1           2          2     Z919181  d2450b70-0337-4406-bdbb-bc1037f1734c   \n",
       "2           3          3     F995323  a2057123-abf5-4a2c-abad-8ffe33512562   \n",
       "3           4          4     A879973  1dec528d-eb34-4079-adce-0d7a40e82205   \n",
       "4           5          5     C544523  5885f56b-d6da-43a3-8760-83583af94266   \n",
       "\n",
       "                                UID          City State        County    Zip  \\\n",
       "0  3a83ddb66e2ae73798bdf1d705dc0932           Eva    AL        Morgan  35621   \n",
       "1  176354c5eef714957d486009feabf195      Marianna    FL       Jackson  32446   \n",
       "2  e19a0fa00aeda885b8a436757e889bc9   Sioux Falls    SD     Minnehaha  57110   \n",
       "3  cd17d7b6d152cb6f23957346d11c3f07  New Richland    MN        Waseca  56072   \n",
       "4  d2f0425877b10ed6bb381f3e2579424a    West Point    VA  King William  23181   \n",
       "\n",
       "        Lat  ...  TotalCharge  Additional_charges Item1 Item2 Item3  Item4  \\\n",
       "0  34.34960  ...  3191.048774        17939.403420     3     3     2      2   \n",
       "1  30.84513  ...  4214.905346        17612.998120     3     4     3      4   \n",
       "2  43.54321  ...  2177.586768        17505.192460     2     4     4      4   \n",
       "3  43.89744  ...  2465.118965        12993.437350     3     5     5      3   \n",
       "4  37.59894  ...  1885.655137         3716.525786     2     1     3      3   \n",
       "\n",
       "   Item5 Item6 Item7  Item8  \n",
       "0      4     3     3      4  \n",
       "1      4     4     3      3  \n",
       "2      3     4     3      3  \n",
       "3      4     5     5      5  \n",
       "4      5     3     4      3  \n",
       "\n",
       "[5 rows x 53 columns]"
      ]
     },
     "execution_count": 2,
     "metadata": {},
     "output_type": "execute_result"
    }
   ],
   "source": [
    "df = pd.read_csv('medical_raw_data.csv')\n",
    "df.head()"
   ]
  },
  {
   "cell_type": "code",
   "execution_count": 3,
   "id": "ec47eb2a",
   "metadata": {
    "scrolled": true
   },
   "outputs": [],
   "source": [
    "\n",
    "# df.columns.get_loc('TotalCharge')"
   ]
  },
  {
   "cell_type": "code",
   "execution_count": 4,
   "id": "b04ad876",
   "metadata": {},
   "outputs": [],
   "source": [
    "# df.columns.get_loc('Additional_charges')"
   ]
  },
  {
   "cell_type": "code",
   "execution_count": 5,
   "id": "94ac411d",
   "metadata": {},
   "outputs": [],
   "source": [
    "# df.columns.values[43] = \"Additional_charges\"\n",
    "# df.columns.values[44] = \"TotalCharge\""
   ]
  },
  {
   "cell_type": "code",
   "execution_count": 6,
   "id": "6f75ebea",
   "metadata": {},
   "outputs": [],
   "source": [
    "# swap_list = ['TotalCharge','Additional_charges']\n",
    "# df=df.reindex(columns=swap_list)"
   ]
  },
  {
   "cell_type": "code",
   "execution_count": 7,
   "id": "5dbd28fe",
   "metadata": {},
   "outputs": [],
   "source": [
    "# def swap_columns(df,col1,col2):\n",
    "#     col_list = list(df.columns)\n",
    "#     x,y = col_list.index(col1),col_list.index(col2)\n",
    "#     col_list[y],col_list[x]=col_list[x],col_list[y]\n",
    "#     df=df[col_list]\n",
    "#     return df"
   ]
  },
  {
   "cell_type": "code",
   "execution_count": 8,
   "id": "13b51b11",
   "metadata": {},
   "outputs": [],
   "source": [
    "# swap_columns(df,'Additional_charges','TotalCharge')"
   ]
  },
  {
   "cell_type": "code",
   "execution_count": 9,
   "id": "9dd7e30b",
   "metadata": {},
   "outputs": [],
   "source": [
    "df.rename(columns={'Additional_charges':'Total_Charges','TotalCharge':'Additional_charges'},inplace =True)"
   ]
  },
  {
   "cell_type": "code",
   "execution_count": 10,
   "id": "0e6dc199",
   "metadata": {},
   "outputs": [
    {
     "data": {
      "text/html": [
       "<div>\n",
       "<style scoped>\n",
       "    .dataframe tbody tr th:only-of-type {\n",
       "        vertical-align: middle;\n",
       "    }\n",
       "\n",
       "    .dataframe tbody tr th {\n",
       "        vertical-align: top;\n",
       "    }\n",
       "\n",
       "    .dataframe thead th {\n",
       "        text-align: right;\n",
       "    }\n",
       "</style>\n",
       "<table border=\"1\" class=\"dataframe\">\n",
       "  <thead>\n",
       "    <tr style=\"text-align: right;\">\n",
       "      <th></th>\n",
       "      <th>Unnamed: 0</th>\n",
       "      <th>CaseOrder</th>\n",
       "      <th>Customer_id</th>\n",
       "      <th>Interaction</th>\n",
       "      <th>UID</th>\n",
       "      <th>City</th>\n",
       "      <th>State</th>\n",
       "      <th>County</th>\n",
       "      <th>Zip</th>\n",
       "      <th>Lat</th>\n",
       "      <th>...</th>\n",
       "      <th>Additional_charges</th>\n",
       "      <th>Total_Charges</th>\n",
       "      <th>Item1</th>\n",
       "      <th>Item2</th>\n",
       "      <th>Item3</th>\n",
       "      <th>Item4</th>\n",
       "      <th>Item5</th>\n",
       "      <th>Item6</th>\n",
       "      <th>Item7</th>\n",
       "      <th>Item8</th>\n",
       "    </tr>\n",
       "  </thead>\n",
       "  <tbody>\n",
       "    <tr>\n",
       "      <th>0</th>\n",
       "      <td>1</td>\n",
       "      <td>1</td>\n",
       "      <td>C412403</td>\n",
       "      <td>8cd49b13-f45a-4b47-a2bd-173ffa932c2f</td>\n",
       "      <td>3a83ddb66e2ae73798bdf1d705dc0932</td>\n",
       "      <td>Eva</td>\n",
       "      <td>AL</td>\n",
       "      <td>Morgan</td>\n",
       "      <td>35621</td>\n",
       "      <td>34.34960</td>\n",
       "      <td>...</td>\n",
       "      <td>3191.048774</td>\n",
       "      <td>17939.403420</td>\n",
       "      <td>3</td>\n",
       "      <td>3</td>\n",
       "      <td>2</td>\n",
       "      <td>2</td>\n",
       "      <td>4</td>\n",
       "      <td>3</td>\n",
       "      <td>3</td>\n",
       "      <td>4</td>\n",
       "    </tr>\n",
       "    <tr>\n",
       "      <th>1</th>\n",
       "      <td>2</td>\n",
       "      <td>2</td>\n",
       "      <td>Z919181</td>\n",
       "      <td>d2450b70-0337-4406-bdbb-bc1037f1734c</td>\n",
       "      <td>176354c5eef714957d486009feabf195</td>\n",
       "      <td>Marianna</td>\n",
       "      <td>FL</td>\n",
       "      <td>Jackson</td>\n",
       "      <td>32446</td>\n",
       "      <td>30.84513</td>\n",
       "      <td>...</td>\n",
       "      <td>4214.905346</td>\n",
       "      <td>17612.998120</td>\n",
       "      <td>3</td>\n",
       "      <td>4</td>\n",
       "      <td>3</td>\n",
       "      <td>4</td>\n",
       "      <td>4</td>\n",
       "      <td>4</td>\n",
       "      <td>3</td>\n",
       "      <td>3</td>\n",
       "    </tr>\n",
       "    <tr>\n",
       "      <th>2</th>\n",
       "      <td>3</td>\n",
       "      <td>3</td>\n",
       "      <td>F995323</td>\n",
       "      <td>a2057123-abf5-4a2c-abad-8ffe33512562</td>\n",
       "      <td>e19a0fa00aeda885b8a436757e889bc9</td>\n",
       "      <td>Sioux Falls</td>\n",
       "      <td>SD</td>\n",
       "      <td>Minnehaha</td>\n",
       "      <td>57110</td>\n",
       "      <td>43.54321</td>\n",
       "      <td>...</td>\n",
       "      <td>2177.586768</td>\n",
       "      <td>17505.192460</td>\n",
       "      <td>2</td>\n",
       "      <td>4</td>\n",
       "      <td>4</td>\n",
       "      <td>4</td>\n",
       "      <td>3</td>\n",
       "      <td>4</td>\n",
       "      <td>3</td>\n",
       "      <td>3</td>\n",
       "    </tr>\n",
       "    <tr>\n",
       "      <th>3</th>\n",
       "      <td>4</td>\n",
       "      <td>4</td>\n",
       "      <td>A879973</td>\n",
       "      <td>1dec528d-eb34-4079-adce-0d7a40e82205</td>\n",
       "      <td>cd17d7b6d152cb6f23957346d11c3f07</td>\n",
       "      <td>New Richland</td>\n",
       "      <td>MN</td>\n",
       "      <td>Waseca</td>\n",
       "      <td>56072</td>\n",
       "      <td>43.89744</td>\n",
       "      <td>...</td>\n",
       "      <td>2465.118965</td>\n",
       "      <td>12993.437350</td>\n",
       "      <td>3</td>\n",
       "      <td>5</td>\n",
       "      <td>5</td>\n",
       "      <td>3</td>\n",
       "      <td>4</td>\n",
       "      <td>5</td>\n",
       "      <td>5</td>\n",
       "      <td>5</td>\n",
       "    </tr>\n",
       "    <tr>\n",
       "      <th>4</th>\n",
       "      <td>5</td>\n",
       "      <td>5</td>\n",
       "      <td>C544523</td>\n",
       "      <td>5885f56b-d6da-43a3-8760-83583af94266</td>\n",
       "      <td>d2f0425877b10ed6bb381f3e2579424a</td>\n",
       "      <td>West Point</td>\n",
       "      <td>VA</td>\n",
       "      <td>King William</td>\n",
       "      <td>23181</td>\n",
       "      <td>37.59894</td>\n",
       "      <td>...</td>\n",
       "      <td>1885.655137</td>\n",
       "      <td>3716.525786</td>\n",
       "      <td>2</td>\n",
       "      <td>1</td>\n",
       "      <td>3</td>\n",
       "      <td>3</td>\n",
       "      <td>5</td>\n",
       "      <td>3</td>\n",
       "      <td>4</td>\n",
       "      <td>3</td>\n",
       "    </tr>\n",
       "    <tr>\n",
       "      <th>...</th>\n",
       "      <td>...</td>\n",
       "      <td>...</td>\n",
       "      <td>...</td>\n",
       "      <td>...</td>\n",
       "      <td>...</td>\n",
       "      <td>...</td>\n",
       "      <td>...</td>\n",
       "      <td>...</td>\n",
       "      <td>...</td>\n",
       "      <td>...</td>\n",
       "      <td>...</td>\n",
       "      <td>...</td>\n",
       "      <td>...</td>\n",
       "      <td>...</td>\n",
       "      <td>...</td>\n",
       "      <td>...</td>\n",
       "      <td>...</td>\n",
       "      <td>...</td>\n",
       "      <td>...</td>\n",
       "      <td>...</td>\n",
       "      <td>...</td>\n",
       "    </tr>\n",
       "    <tr>\n",
       "      <th>9995</th>\n",
       "      <td>9996</td>\n",
       "      <td>9996</td>\n",
       "      <td>B863060</td>\n",
       "      <td>a25b594d-0328-486f-a9b9-0567eb0f9723</td>\n",
       "      <td>39184dc28cc038871912ccc4500049e5</td>\n",
       "      <td>Norlina</td>\n",
       "      <td>NC</td>\n",
       "      <td>Warren</td>\n",
       "      <td>27563</td>\n",
       "      <td>36.42886</td>\n",
       "      <td>...</td>\n",
       "      <td>6651.241294</td>\n",
       "      <td>8927.642189</td>\n",
       "      <td>3</td>\n",
       "      <td>2</td>\n",
       "      <td>2</td>\n",
       "      <td>3</td>\n",
       "      <td>4</td>\n",
       "      <td>3</td>\n",
       "      <td>4</td>\n",
       "      <td>2</td>\n",
       "    </tr>\n",
       "    <tr>\n",
       "      <th>9996</th>\n",
       "      <td>9997</td>\n",
       "      <td>9997</td>\n",
       "      <td>P712040</td>\n",
       "      <td>70711574-f7b1-4a17-b15f-48c54564b70f</td>\n",
       "      <td>3cd124ccd43147404292e883bf9ec55c</td>\n",
       "      <td>Milmay</td>\n",
       "      <td>NJ</td>\n",
       "      <td>Atlantic</td>\n",
       "      <td>8340</td>\n",
       "      <td>39.43609</td>\n",
       "      <td>...</td>\n",
       "      <td>7851.522660</td>\n",
       "      <td>28507.147340</td>\n",
       "      <td>3</td>\n",
       "      <td>3</td>\n",
       "      <td>4</td>\n",
       "      <td>2</td>\n",
       "      <td>5</td>\n",
       "      <td>3</td>\n",
       "      <td>4</td>\n",
       "      <td>4</td>\n",
       "    </tr>\n",
       "    <tr>\n",
       "      <th>9997</th>\n",
       "      <td>9998</td>\n",
       "      <td>9998</td>\n",
       "      <td>R778890</td>\n",
       "      <td>1d79569d-8e0f-4180-a207-d67ee4527d26</td>\n",
       "      <td>41b770aeee97a5b9e7f69c906a8119d7</td>\n",
       "      <td>Southside</td>\n",
       "      <td>TN</td>\n",
       "      <td>Montgomery</td>\n",
       "      <td>37171</td>\n",
       "      <td>36.36655</td>\n",
       "      <td>...</td>\n",
       "      <td>7725.953391</td>\n",
       "      <td>15281.214660</td>\n",
       "      <td>3</td>\n",
       "      <td>3</td>\n",
       "      <td>3</td>\n",
       "      <td>4</td>\n",
       "      <td>4</td>\n",
       "      <td>2</td>\n",
       "      <td>3</td>\n",
       "      <td>2</td>\n",
       "    </tr>\n",
       "    <tr>\n",
       "      <th>9998</th>\n",
       "      <td>9999</td>\n",
       "      <td>9999</td>\n",
       "      <td>E344109</td>\n",
       "      <td>f5a68e69-2a60-409b-a92f-ac0847b27db0</td>\n",
       "      <td>2bb491ef5b1beb1fed758cc6885c167a</td>\n",
       "      <td>Quinn</td>\n",
       "      <td>SD</td>\n",
       "      <td>Pennington</td>\n",
       "      <td>57775</td>\n",
       "      <td>44.10354</td>\n",
       "      <td>...</td>\n",
       "      <td>8462.831883</td>\n",
       "      <td>7781.678412</td>\n",
       "      <td>5</td>\n",
       "      <td>5</td>\n",
       "      <td>3</td>\n",
       "      <td>4</td>\n",
       "      <td>4</td>\n",
       "      <td>3</td>\n",
       "      <td>4</td>\n",
       "      <td>3</td>\n",
       "    </tr>\n",
       "    <tr>\n",
       "      <th>9999</th>\n",
       "      <td>10000</td>\n",
       "      <td>10000</td>\n",
       "      <td>I569847</td>\n",
       "      <td>bc482c02-f8c9-4423-99de-3db5e62a18d5</td>\n",
       "      <td>95663a202338000abdf7e09311c2a8a1</td>\n",
       "      <td>Coraopolis</td>\n",
       "      <td>PA</td>\n",
       "      <td>Allegheny</td>\n",
       "      <td>15108</td>\n",
       "      <td>40.49998</td>\n",
       "      <td>...</td>\n",
       "      <td>8700.856021</td>\n",
       "      <td>11643.189930</td>\n",
       "      <td>4</td>\n",
       "      <td>3</td>\n",
       "      <td>3</td>\n",
       "      <td>2</td>\n",
       "      <td>3</td>\n",
       "      <td>6</td>\n",
       "      <td>4</td>\n",
       "      <td>3</td>\n",
       "    </tr>\n",
       "  </tbody>\n",
       "</table>\n",
       "<p>10000 rows × 53 columns</p>\n",
       "</div>"
      ],
      "text/plain": [
       "      Unnamed: 0  CaseOrder Customer_id                           Interaction  \\\n",
       "0              1          1     C412403  8cd49b13-f45a-4b47-a2bd-173ffa932c2f   \n",
       "1              2          2     Z919181  d2450b70-0337-4406-bdbb-bc1037f1734c   \n",
       "2              3          3     F995323  a2057123-abf5-4a2c-abad-8ffe33512562   \n",
       "3              4          4     A879973  1dec528d-eb34-4079-adce-0d7a40e82205   \n",
       "4              5          5     C544523  5885f56b-d6da-43a3-8760-83583af94266   \n",
       "...          ...        ...         ...                                   ...   \n",
       "9995        9996       9996     B863060  a25b594d-0328-486f-a9b9-0567eb0f9723   \n",
       "9996        9997       9997     P712040  70711574-f7b1-4a17-b15f-48c54564b70f   \n",
       "9997        9998       9998     R778890  1d79569d-8e0f-4180-a207-d67ee4527d26   \n",
       "9998        9999       9999     E344109  f5a68e69-2a60-409b-a92f-ac0847b27db0   \n",
       "9999       10000      10000     I569847  bc482c02-f8c9-4423-99de-3db5e62a18d5   \n",
       "\n",
       "                                   UID          City State        County  \\\n",
       "0     3a83ddb66e2ae73798bdf1d705dc0932           Eva    AL        Morgan   \n",
       "1     176354c5eef714957d486009feabf195      Marianna    FL       Jackson   \n",
       "2     e19a0fa00aeda885b8a436757e889bc9   Sioux Falls    SD     Minnehaha   \n",
       "3     cd17d7b6d152cb6f23957346d11c3f07  New Richland    MN        Waseca   \n",
       "4     d2f0425877b10ed6bb381f3e2579424a    West Point    VA  King William   \n",
       "...                                ...           ...   ...           ...   \n",
       "9995  39184dc28cc038871912ccc4500049e5       Norlina    NC        Warren   \n",
       "9996  3cd124ccd43147404292e883bf9ec55c        Milmay    NJ      Atlantic   \n",
       "9997  41b770aeee97a5b9e7f69c906a8119d7     Southside    TN    Montgomery   \n",
       "9998  2bb491ef5b1beb1fed758cc6885c167a         Quinn    SD    Pennington   \n",
       "9999  95663a202338000abdf7e09311c2a8a1    Coraopolis    PA     Allegheny   \n",
       "\n",
       "        Zip       Lat  ...  Additional_charges  Total_Charges Item1 Item2  \\\n",
       "0     35621  34.34960  ...         3191.048774   17939.403420     3     3   \n",
       "1     32446  30.84513  ...         4214.905346   17612.998120     3     4   \n",
       "2     57110  43.54321  ...         2177.586768   17505.192460     2     4   \n",
       "3     56072  43.89744  ...         2465.118965   12993.437350     3     5   \n",
       "4     23181  37.59894  ...         1885.655137    3716.525786     2     1   \n",
       "...     ...       ...  ...                 ...            ...   ...   ...   \n",
       "9995  27563  36.42886  ...         6651.241294    8927.642189     3     2   \n",
       "9996   8340  39.43609  ...         7851.522660   28507.147340     3     3   \n",
       "9997  37171  36.36655  ...         7725.953391   15281.214660     3     3   \n",
       "9998  57775  44.10354  ...         8462.831883    7781.678412     5     5   \n",
       "9999  15108  40.49998  ...         8700.856021   11643.189930     4     3   \n",
       "\n",
       "     Item3  Item4  Item5 Item6 Item7  Item8  \n",
       "0        2      2      4     3     3      4  \n",
       "1        3      4      4     4     3      3  \n",
       "2        4      4      3     4     3      3  \n",
       "3        5      3      4     5     5      5  \n",
       "4        3      3      5     3     4      3  \n",
       "...    ...    ...    ...   ...   ...    ...  \n",
       "9995     2      3      4     3     4      2  \n",
       "9996     4      2      5     3     4      4  \n",
       "9997     3      4      4     2     3      2  \n",
       "9998     3      4      4     3     4      3  \n",
       "9999     3      2      3     6     4      3  \n",
       "\n",
       "[10000 rows x 53 columns]"
      ]
     },
     "execution_count": 10,
     "metadata": {},
     "output_type": "execute_result"
    }
   ],
   "source": [
    "df"
   ]
  },
  {
   "cell_type": "markdown",
   "id": "c2fc8148",
   "metadata": {},
   "source": [
    "# EDA"
   ]
  },
  {
   "cell_type": "code",
   "execution_count": 11,
   "id": "27c32d74",
   "metadata": {},
   "outputs": [
    {
     "data": {
      "text/plain": [
       "Unnamed: 0             0.00\n",
       "CaseOrder              0.00\n",
       "Customer_id            0.00\n",
       "Interaction            0.00\n",
       "UID                    0.00\n",
       "City                   0.00\n",
       "State                  0.00\n",
       "County                 0.00\n",
       "Zip                    0.00\n",
       "Lat                    0.00\n",
       "Lng                    0.00\n",
       "Population             0.00\n",
       "Area                   0.00\n",
       "Timezone               0.00\n",
       "Job                    0.00\n",
       "Children              25.88\n",
       "Age                   24.14\n",
       "Education              0.00\n",
       "Employment             0.00\n",
       "Income                24.64\n",
       "Marital                0.00\n",
       "Gender                 0.00\n",
       "ReAdmis                0.00\n",
       "VitD_levels            0.00\n",
       "Doc_visits             0.00\n",
       "Full_meals_eaten       0.00\n",
       "VitD_supp              0.00\n",
       "Soft_drink            24.67\n",
       "Initial_admin          0.00\n",
       "HighBlood              0.00\n",
       "Stroke                 0.00\n",
       "Complication_risk      0.00\n",
       "Overweight             9.82\n",
       "Arthritis              0.00\n",
       "Diabetes               0.00\n",
       "Hyperlipidemia         0.00\n",
       "BackPain               0.00\n",
       "Anxiety                9.84\n",
       "Allergic_rhinitis      0.00\n",
       "Reflux_esophagitis     0.00\n",
       "Asthma                 0.00\n",
       "Services               0.00\n",
       "Initial_days          10.56\n",
       "Additional_charges     0.00\n",
       "Total_Charges          0.00\n",
       "Item1                  0.00\n",
       "Item2                  0.00\n",
       "Item3                  0.00\n",
       "Item4                  0.00\n",
       "Item5                  0.00\n",
       "Item6                  0.00\n",
       "Item7                  0.00\n",
       "Item8                  0.00\n",
       "dtype: float64"
      ]
     },
     "execution_count": 11,
     "metadata": {},
     "output_type": "execute_result"
    }
   ],
   "source": [
    "df.isna().sum()/len(df)*100"
   ]
  },
  {
   "cell_type": "code",
   "execution_count": null,
   "id": "ebd8c542",
   "metadata": {},
   "outputs": [],
   "source": []
  },
  {
   "cell_type": "code",
   "execution_count": 12,
   "id": "f487fa43",
   "metadata": {},
   "outputs": [
    {
     "data": {
      "text/plain": [
       "2588"
      ]
     },
     "execution_count": 12,
     "metadata": {},
     "output_type": "execute_result"
    }
   ],
   "source": [
    "df['Children'].isna().sum()"
   ]
  },
  {
   "cell_type": "code",
   "execution_count": 13,
   "id": "06e11755",
   "metadata": {},
   "outputs": [],
   "source": [
    "df.drop(['Unnamed: 0','CaseOrder'],axis=1,inplace=True)\n",
    "df.drop(['Customer_id','Interaction','UID'],axis=1,inplace=True)\n",
    "df.drop(['Marital','Employment','City','Education','County','State','Job','Item1','Item2','Item3','Item4','Item5','Item6','Item7','Item8','Zip','Lat','Lng','Population','Timezone',],axis=1,inplace=True)"
   ]
  },
  {
   "cell_type": "code",
   "execution_count": 14,
   "id": "c116806e",
   "metadata": {},
   "outputs": [
    {
     "data": {
      "text/plain": [
       "Area                   object\n",
       "Children              float64\n",
       "Age                   float64\n",
       "Income                float64\n",
       "Gender                 object\n",
       "ReAdmis                object\n",
       "VitD_levels           float64\n",
       "Doc_visits              int64\n",
       "Full_meals_eaten        int64\n",
       "VitD_supp               int64\n",
       "Soft_drink             object\n",
       "Initial_admin          object\n",
       "HighBlood              object\n",
       "Stroke                 object\n",
       "Complication_risk      object\n",
       "Overweight            float64\n",
       "Arthritis              object\n",
       "Diabetes               object\n",
       "Hyperlipidemia         object\n",
       "BackPain               object\n",
       "Anxiety               float64\n",
       "Allergic_rhinitis      object\n",
       "Reflux_esophagitis     object\n",
       "Asthma                 object\n",
       "Services               object\n",
       "Initial_days          float64\n",
       "Additional_charges    float64\n",
       "Total_Charges         float64\n",
       "dtype: object"
      ]
     },
     "execution_count": 14,
     "metadata": {},
     "output_type": "execute_result"
    }
   ],
   "source": [
    "df.dtypes"
   ]
  },
  {
   "cell_type": "markdown",
   "id": "7cb2ca2a",
   "metadata": {},
   "source": [
    "# Null values handaling"
   ]
  },
  {
   "cell_type": "code",
   "execution_count": 15,
   "id": "80a0871d",
   "metadata": {},
   "outputs": [],
   "source": [
    "df['Soft_drink'].fillna(df['Soft_drink'].mode()[0],inplace=True)"
   ]
  },
  {
   "cell_type": "code",
   "execution_count": 16,
   "id": "b93ed60e",
   "metadata": {},
   "outputs": [
    {
     "data": {
      "text/plain": [
       "0"
      ]
     },
     "execution_count": 16,
     "metadata": {},
     "output_type": "execute_result"
    }
   ],
   "source": [
    "df['Soft_drink'].isna().sum()"
   ]
  },
  {
   "cell_type": "markdown",
   "id": "d8795814",
   "metadata": {},
   "source": [
    "# Encoding"
   ]
  },
  {
   "cell_type": "code",
   "execution_count": 17,
   "id": "cf7af774",
   "metadata": {},
   "outputs": [
    {
     "data": {
      "text/html": [
       "<div>\n",
       "<style scoped>\n",
       "    .dataframe tbody tr th:only-of-type {\n",
       "        vertical-align: middle;\n",
       "    }\n",
       "\n",
       "    .dataframe tbody tr th {\n",
       "        vertical-align: top;\n",
       "    }\n",
       "\n",
       "    .dataframe thead th {\n",
       "        text-align: right;\n",
       "    }\n",
       "</style>\n",
       "<table border=\"1\" class=\"dataframe\">\n",
       "  <thead>\n",
       "    <tr style=\"text-align: right;\">\n",
       "      <th></th>\n",
       "      <th>Area</th>\n",
       "      <th>Children</th>\n",
       "      <th>Age</th>\n",
       "      <th>Income</th>\n",
       "      <th>Gender</th>\n",
       "      <th>ReAdmis</th>\n",
       "      <th>VitD_levels</th>\n",
       "      <th>Doc_visits</th>\n",
       "      <th>Full_meals_eaten</th>\n",
       "      <th>VitD_supp</th>\n",
       "      <th>...</th>\n",
       "      <th>Hyperlipidemia</th>\n",
       "      <th>BackPain</th>\n",
       "      <th>Anxiety</th>\n",
       "      <th>Allergic_rhinitis</th>\n",
       "      <th>Reflux_esophagitis</th>\n",
       "      <th>Asthma</th>\n",
       "      <th>Services</th>\n",
       "      <th>Initial_days</th>\n",
       "      <th>Additional_charges</th>\n",
       "      <th>Total_Charges</th>\n",
       "    </tr>\n",
       "  </thead>\n",
       "  <tbody>\n",
       "    <tr>\n",
       "      <th>0</th>\n",
       "      <td>Suburban</td>\n",
       "      <td>1.0</td>\n",
       "      <td>53.0</td>\n",
       "      <td>86575.93</td>\n",
       "      <td>Male</td>\n",
       "      <td>No</td>\n",
       "      <td>17.802330</td>\n",
       "      <td>6</td>\n",
       "      <td>0</td>\n",
       "      <td>0</td>\n",
       "      <td>...</td>\n",
       "      <td>No</td>\n",
       "      <td>Yes</td>\n",
       "      <td>1.0</td>\n",
       "      <td>Yes</td>\n",
       "      <td>No</td>\n",
       "      <td>Yes</td>\n",
       "      <td>Blood Work</td>\n",
       "      <td>10.585770</td>\n",
       "      <td>3191.048774</td>\n",
       "      <td>17939.403420</td>\n",
       "    </tr>\n",
       "    <tr>\n",
       "      <th>1</th>\n",
       "      <td>Urban</td>\n",
       "      <td>3.0</td>\n",
       "      <td>51.0</td>\n",
       "      <td>46805.99</td>\n",
       "      <td>Female</td>\n",
       "      <td>No</td>\n",
       "      <td>18.994640</td>\n",
       "      <td>4</td>\n",
       "      <td>2</td>\n",
       "      <td>1</td>\n",
       "      <td>...</td>\n",
       "      <td>No</td>\n",
       "      <td>No</td>\n",
       "      <td>NaN</td>\n",
       "      <td>No</td>\n",
       "      <td>Yes</td>\n",
       "      <td>No</td>\n",
       "      <td>Intravenous</td>\n",
       "      <td>15.129562</td>\n",
       "      <td>4214.905346</td>\n",
       "      <td>17612.998120</td>\n",
       "    </tr>\n",
       "    <tr>\n",
       "      <th>2</th>\n",
       "      <td>Suburban</td>\n",
       "      <td>3.0</td>\n",
       "      <td>53.0</td>\n",
       "      <td>14370.14</td>\n",
       "      <td>Female</td>\n",
       "      <td>No</td>\n",
       "      <td>17.415889</td>\n",
       "      <td>4</td>\n",
       "      <td>1</td>\n",
       "      <td>0</td>\n",
       "      <td>...</td>\n",
       "      <td>No</td>\n",
       "      <td>No</td>\n",
       "      <td>NaN</td>\n",
       "      <td>No</td>\n",
       "      <td>No</td>\n",
       "      <td>No</td>\n",
       "      <td>Blood Work</td>\n",
       "      <td>4.772177</td>\n",
       "      <td>2177.586768</td>\n",
       "      <td>17505.192460</td>\n",
       "    </tr>\n",
       "    <tr>\n",
       "      <th>3</th>\n",
       "      <td>Suburban</td>\n",
       "      <td>0.0</td>\n",
       "      <td>78.0</td>\n",
       "      <td>39741.49</td>\n",
       "      <td>Male</td>\n",
       "      <td>No</td>\n",
       "      <td>17.420079</td>\n",
       "      <td>4</td>\n",
       "      <td>1</td>\n",
       "      <td>0</td>\n",
       "      <td>...</td>\n",
       "      <td>No</td>\n",
       "      <td>No</td>\n",
       "      <td>NaN</td>\n",
       "      <td>No</td>\n",
       "      <td>Yes</td>\n",
       "      <td>Yes</td>\n",
       "      <td>Blood Work</td>\n",
       "      <td>1.714879</td>\n",
       "      <td>2465.118965</td>\n",
       "      <td>12993.437350</td>\n",
       "    </tr>\n",
       "    <tr>\n",
       "      <th>4</th>\n",
       "      <td>Rural</td>\n",
       "      <td>NaN</td>\n",
       "      <td>22.0</td>\n",
       "      <td>1209.56</td>\n",
       "      <td>Female</td>\n",
       "      <td>No</td>\n",
       "      <td>16.870524</td>\n",
       "      <td>5</td>\n",
       "      <td>0</td>\n",
       "      <td>2</td>\n",
       "      <td>...</td>\n",
       "      <td>Yes</td>\n",
       "      <td>No</td>\n",
       "      <td>0.0</td>\n",
       "      <td>Yes</td>\n",
       "      <td>No</td>\n",
       "      <td>No</td>\n",
       "      <td>CT Scan</td>\n",
       "      <td>1.254807</td>\n",
       "      <td>1885.655137</td>\n",
       "      <td>3716.525786</td>\n",
       "    </tr>\n",
       "    <tr>\n",
       "      <th>...</th>\n",
       "      <td>...</td>\n",
       "      <td>...</td>\n",
       "      <td>...</td>\n",
       "      <td>...</td>\n",
       "      <td>...</td>\n",
       "      <td>...</td>\n",
       "      <td>...</td>\n",
       "      <td>...</td>\n",
       "      <td>...</td>\n",
       "      <td>...</td>\n",
       "      <td>...</td>\n",
       "      <td>...</td>\n",
       "      <td>...</td>\n",
       "      <td>...</td>\n",
       "      <td>...</td>\n",
       "      <td>...</td>\n",
       "      <td>...</td>\n",
       "      <td>...</td>\n",
       "      <td>...</td>\n",
       "      <td>...</td>\n",
       "      <td>...</td>\n",
       "    </tr>\n",
       "    <tr>\n",
       "      <th>9995</th>\n",
       "      <td>Urban</td>\n",
       "      <td>NaN</td>\n",
       "      <td>25.0</td>\n",
       "      <td>45967.61</td>\n",
       "      <td>Male</td>\n",
       "      <td>No</td>\n",
       "      <td>16.481612</td>\n",
       "      <td>4</td>\n",
       "      <td>2</td>\n",
       "      <td>1</td>\n",
       "      <td>...</td>\n",
       "      <td>No</td>\n",
       "      <td>No</td>\n",
       "      <td>1.0</td>\n",
       "      <td>No</td>\n",
       "      <td>Yes</td>\n",
       "      <td>No</td>\n",
       "      <td>Intravenous</td>\n",
       "      <td>51.561217</td>\n",
       "      <td>6651.241294</td>\n",
       "      <td>8927.642189</td>\n",
       "    </tr>\n",
       "    <tr>\n",
       "      <th>9996</th>\n",
       "      <td>Urban</td>\n",
       "      <td>4.0</td>\n",
       "      <td>87.0</td>\n",
       "      <td>14983.02</td>\n",
       "      <td>Male</td>\n",
       "      <td>Yes</td>\n",
       "      <td>18.451601</td>\n",
       "      <td>5</td>\n",
       "      <td>0</td>\n",
       "      <td>0</td>\n",
       "      <td>...</td>\n",
       "      <td>No</td>\n",
       "      <td>No</td>\n",
       "      <td>0.0</td>\n",
       "      <td>No</td>\n",
       "      <td>No</td>\n",
       "      <td>Yes</td>\n",
       "      <td>CT Scan</td>\n",
       "      <td>68.668237</td>\n",
       "      <td>7851.522660</td>\n",
       "      <td>28507.147340</td>\n",
       "    </tr>\n",
       "    <tr>\n",
       "      <th>9997</th>\n",
       "      <td>Rural</td>\n",
       "      <td>3.0</td>\n",
       "      <td>NaN</td>\n",
       "      <td>65917.81</td>\n",
       "      <td>Female</td>\n",
       "      <td>Yes</td>\n",
       "      <td>15.752751</td>\n",
       "      <td>4</td>\n",
       "      <td>2</td>\n",
       "      <td>0</td>\n",
       "      <td>...</td>\n",
       "      <td>No</td>\n",
       "      <td>No</td>\n",
       "      <td>1.0</td>\n",
       "      <td>Yes</td>\n",
       "      <td>No</td>\n",
       "      <td>No</td>\n",
       "      <td>Intravenous</td>\n",
       "      <td>NaN</td>\n",
       "      <td>7725.953391</td>\n",
       "      <td>15281.214660</td>\n",
       "    </tr>\n",
       "    <tr>\n",
       "      <th>9998</th>\n",
       "      <td>Rural</td>\n",
       "      <td>3.0</td>\n",
       "      <td>43.0</td>\n",
       "      <td>29702.32</td>\n",
       "      <td>Male</td>\n",
       "      <td>Yes</td>\n",
       "      <td>21.956305</td>\n",
       "      <td>5</td>\n",
       "      <td>2</td>\n",
       "      <td>1</td>\n",
       "      <td>...</td>\n",
       "      <td>No</td>\n",
       "      <td>Yes</td>\n",
       "      <td>0.0</td>\n",
       "      <td>No</td>\n",
       "      <td>No</td>\n",
       "      <td>No</td>\n",
       "      <td>Blood Work</td>\n",
       "      <td>63.356903</td>\n",
       "      <td>8462.831883</td>\n",
       "      <td>7781.678412</td>\n",
       "    </tr>\n",
       "    <tr>\n",
       "      <th>9999</th>\n",
       "      <td>Urban</td>\n",
       "      <td>8.0</td>\n",
       "      <td>NaN</td>\n",
       "      <td>62682.63</td>\n",
       "      <td>Female</td>\n",
       "      <td>Yes</td>\n",
       "      <td>20.421883</td>\n",
       "      <td>5</td>\n",
       "      <td>0</td>\n",
       "      <td>1</td>\n",
       "      <td>...</td>\n",
       "      <td>Yes</td>\n",
       "      <td>No</td>\n",
       "      <td>0.0</td>\n",
       "      <td>Yes</td>\n",
       "      <td>No</td>\n",
       "      <td>No</td>\n",
       "      <td>Blood Work</td>\n",
       "      <td>70.850592</td>\n",
       "      <td>8700.856021</td>\n",
       "      <td>11643.189930</td>\n",
       "    </tr>\n",
       "  </tbody>\n",
       "</table>\n",
       "<p>10000 rows × 28 columns</p>\n",
       "</div>"
      ],
      "text/plain": [
       "          Area  Children   Age    Income  Gender ReAdmis  VitD_levels  \\\n",
       "0     Suburban       1.0  53.0  86575.93    Male      No    17.802330   \n",
       "1        Urban       3.0  51.0  46805.99  Female      No    18.994640   \n",
       "2     Suburban       3.0  53.0  14370.14  Female      No    17.415889   \n",
       "3     Suburban       0.0  78.0  39741.49    Male      No    17.420079   \n",
       "4        Rural       NaN  22.0   1209.56  Female      No    16.870524   \n",
       "...        ...       ...   ...       ...     ...     ...          ...   \n",
       "9995     Urban       NaN  25.0  45967.61    Male      No    16.481612   \n",
       "9996     Urban       4.0  87.0  14983.02    Male     Yes    18.451601   \n",
       "9997     Rural       3.0   NaN  65917.81  Female     Yes    15.752751   \n",
       "9998     Rural       3.0  43.0  29702.32    Male     Yes    21.956305   \n",
       "9999     Urban       8.0   NaN  62682.63  Female     Yes    20.421883   \n",
       "\n",
       "      Doc_visits  Full_meals_eaten  VitD_supp  ... Hyperlipidemia BackPain  \\\n",
       "0              6                 0          0  ...             No      Yes   \n",
       "1              4                 2          1  ...             No       No   \n",
       "2              4                 1          0  ...             No       No   \n",
       "3              4                 1          0  ...             No       No   \n",
       "4              5                 0          2  ...            Yes       No   \n",
       "...          ...               ...        ...  ...            ...      ...   \n",
       "9995           4                 2          1  ...             No       No   \n",
       "9996           5                 0          0  ...             No       No   \n",
       "9997           4                 2          0  ...             No       No   \n",
       "9998           5                 2          1  ...             No      Yes   \n",
       "9999           5                 0          1  ...            Yes       No   \n",
       "\n",
       "     Anxiety Allergic_rhinitis Reflux_esophagitis  Asthma     Services  \\\n",
       "0        1.0               Yes                 No     Yes   Blood Work   \n",
       "1        NaN                No                Yes      No  Intravenous   \n",
       "2        NaN                No                 No      No   Blood Work   \n",
       "3        NaN                No                Yes     Yes   Blood Work   \n",
       "4        0.0               Yes                 No      No      CT Scan   \n",
       "...      ...               ...                ...     ...          ...   \n",
       "9995     1.0                No                Yes      No  Intravenous   \n",
       "9996     0.0                No                 No     Yes      CT Scan   \n",
       "9997     1.0               Yes                 No      No  Intravenous   \n",
       "9998     0.0                No                 No      No   Blood Work   \n",
       "9999     0.0               Yes                 No      No   Blood Work   \n",
       "\n",
       "     Initial_days Additional_charges Total_Charges  \n",
       "0       10.585770        3191.048774  17939.403420  \n",
       "1       15.129562        4214.905346  17612.998120  \n",
       "2        4.772177        2177.586768  17505.192460  \n",
       "3        1.714879        2465.118965  12993.437350  \n",
       "4        1.254807        1885.655137   3716.525786  \n",
       "...           ...                ...           ...  \n",
       "9995    51.561217        6651.241294   8927.642189  \n",
       "9996    68.668237        7851.522660  28507.147340  \n",
       "9997          NaN        7725.953391  15281.214660  \n",
       "9998    63.356903        8462.831883   7781.678412  \n",
       "9999    70.850592        8700.856021  11643.189930  \n",
       "\n",
       "[10000 rows x 28 columns]"
      ]
     },
     "execution_count": 17,
     "metadata": {},
     "output_type": "execute_result"
    }
   ],
   "source": [
    "df"
   ]
  },
  {
   "cell_type": "code",
   "execution_count": 18,
   "id": "be2cac30",
   "metadata": {},
   "outputs": [],
   "source": [
    "\n",
    "df['Area'].replace({'Rural':0, 'Suburban': 1, 'Urban': 2},inplace=True)\n",
    "\n",
    "\n",
    "\n",
    "\n",
    "\n",
    "\n",
    "\n",
    "\n",
    "\n",
    "\n"
   ]
  },
  {
   "cell_type": "code",
   "execution_count": 19,
   "id": "cf9284c3",
   "metadata": {},
   "outputs": [],
   "source": [
    "# df2['Employment'].replace({'Full Time': 3,\n",
    "#  'Student': 0,\n",
    "#  'Part Time': 1,\n",
    "#  'Unemployed': 2,\n",
    "#  'Retired': 4},inplace=True)"
   ]
  },
  {
   "cell_type": "code",
   "execution_count": 20,
   "id": "bf92ccbb",
   "metadata": {},
   "outputs": [],
   "source": [
    "# df2['Marital'].replace({'Widowed': 3,\n",
    "#  'Married': 1,\n",
    "#  'Separated': 2,\n",
    "#  'Never Married': 0,\n",
    "#  'Divorced': 2},inplace=True)"
   ]
  },
  {
   "cell_type": "code",
   "execution_count": 21,
   "id": "6aa116cf",
   "metadata": {},
   "outputs": [],
   "source": [
    "df['Gender'].replace({'Female': 0, 'Male': 1, 'Prefer not to answer': 2},inplace = True)"
   ]
  },
  {
   "cell_type": "code",
   "execution_count": 22,
   "id": "cc528841",
   "metadata": {},
   "outputs": [],
   "source": [
    "df['ReAdmis'].replace({'No': 0, 'Yes': 1},inplace = True)"
   ]
  },
  {
   "cell_type": "code",
   "execution_count": 23,
   "id": "4a5d2469",
   "metadata": {},
   "outputs": [],
   "source": [
    "df['Soft_drink'].replace({'No': 0, 'Yes': 1},inplace = True)"
   ]
  },
  {
   "cell_type": "code",
   "execution_count": 24,
   "id": "c6f8400e",
   "metadata": {},
   "outputs": [],
   "source": [
    "df['Initial_admin'].replace({'Emergency Admission': 0,\n",
    " 'Elective Admission': 1,\n",
    " 'Observation Admission': 2},inplace=True)"
   ]
  },
  {
   "cell_type": "code",
   "execution_count": 25,
   "id": "501e5c8b",
   "metadata": {},
   "outputs": [],
   "source": [
    "\n",
    "df['HighBlood'].replace({'No': 0, 'Yes': 1},inplace = True)"
   ]
  },
  {
   "cell_type": "code",
   "execution_count": 26,
   "id": "c7a0d520",
   "metadata": {},
   "outputs": [],
   "source": [
    "df['Stroke'].replace({'No': 0, 'Yes': 1},inplace = True)"
   ]
  },
  {
   "cell_type": "code",
   "execution_count": 27,
   "id": "1c292982",
   "metadata": {},
   "outputs": [],
   "source": [
    "df['Complication_risk'].replace({'Medium': 1, 'High': 2, 'Low': 0},inplace =True)"
   ]
  },
  {
   "cell_type": "code",
   "execution_count": 28,
   "id": "4dd1d4c7",
   "metadata": {},
   "outputs": [],
   "source": [
    "\n",
    "df['Arthritis'].replace({'No': 0, 'Yes': 1},inplace=True)\n",
    "\n",
    "\n",
    "\n",
    "\n",
    "\n",
    "\n"
   ]
  },
  {
   "cell_type": "code",
   "execution_count": 29,
   "id": "7d02500c",
   "metadata": {},
   "outputs": [],
   "source": [
    "df['Diabetes'].replace({'No': 0, 'Yes': 1},inplace=True)"
   ]
  },
  {
   "cell_type": "code",
   "execution_count": 30,
   "id": "a796f218",
   "metadata": {},
   "outputs": [],
   "source": [
    "df['Hyperlipidemia'].replace({'No': 0, 'Yes': 1},inplace=True)"
   ]
  },
  {
   "cell_type": "code",
   "execution_count": 31,
   "id": "c342b91c",
   "metadata": {},
   "outputs": [],
   "source": [
    "df['BackPain'].replace({'No': 0, 'Yes': 1},inplace=True)"
   ]
  },
  {
   "cell_type": "code",
   "execution_count": 32,
   "id": "f3064037",
   "metadata": {},
   "outputs": [],
   "source": [
    "df['Allergic_rhinitis'].replace({'No': 0, 'Yes': 1},inplace=True)"
   ]
  },
  {
   "cell_type": "code",
   "execution_count": 33,
   "id": "9d0d0a39",
   "metadata": {},
   "outputs": [],
   "source": [
    "df['Reflux_esophagitis'].replace({'No': 0, 'Yes': 1},inplace=True)"
   ]
  },
  {
   "cell_type": "code",
   "execution_count": 34,
   "id": "713f17f4",
   "metadata": {},
   "outputs": [],
   "source": [
    "\n",
    "df['Asthma'].replace({'No': 0, 'Yes': 1},inplace=True)"
   ]
  },
  {
   "cell_type": "code",
   "execution_count": 35,
   "id": "d45c1998",
   "metadata": {},
   "outputs": [],
   "source": [
    "df['Services'].replace({'Blood Work': 0, 'Intravenous': 1, 'CT Scan': 2, 'MRI': 3},inplace=True)"
   ]
  },
  {
   "cell_type": "code",
   "execution_count": null,
   "id": "2b5c8abf",
   "metadata": {},
   "outputs": [],
   "source": []
  },
  {
   "cell_type": "code",
   "execution_count": 36,
   "id": "cfbf4c5d",
   "metadata": {},
   "outputs": [],
   "source": [
    "# df2['Employment'].replace({'Full Time': 3,\n",
    "#  'Student': 0,\n",
    "#  'Part Time': 1,\n",
    "#  'Unemployed': 2,\n",
    "#  'Retired': 4},inplace=True)\n",
    "\n",
    "# df2['Marital'].replace({'Widowed': 2045,\n",
    "#  'Married': 2023,\n",
    "#  'Separated': 1987,\n",
    "#  'Never Married': 1984,\n",
    "#  'Divorced': 1961},inplace=True)\n",
    "\n",
    "# df2['Gender'].replace({'Female': 0, 'Male': 1, 'Prefer not to answer': 2},inplace = True)\n",
    "\n",
    "# df2['ReAdmis'].replace({'No': 0, 'Yes': 1},inplace = True)\n",
    "\n",
    "# df2['Soft_drink'].replace({'No': 0, 'Yes': 1},inplace = True)\n",
    "\n",
    "# df2['Initial_admin'].replace({'Emergency Admission': 0,\n",
    "#  'Elective Admission': 1,\n",
    "#  'Observation Admission': 2},inplace=True)\n",
    "\n",
    "\n",
    "# df2['HighBlood'].replace({'No': 0, 'Yes': 1},inplace = True)\n",
    "\n",
    "# df2['Stroke'].replace({'No': 0, 'Yes': 1},inplace = True)\n",
    "\n",
    "# df2['Complication_risk'].replace({'Medium': 1, 'High': 2, 'Low': 0},inplace =True)\n",
    "\n",
    "\n",
    "# df2['Arthritis'].replace({'No': 0, 'Yes': 1},inplace=True)\n",
    "\n",
    "# df2['Diabetes'].replace({'No': 0, 'Yes': 1},inplace=True)\n",
    "\n",
    "# df2['Hyperlipidemia'].replace({'No': 0, 'Yes': 1},inplace=True)\n",
    "\n",
    "# df2['BackPain'].replace({'No': 0, 'Yes': 1},inplace=True)\n",
    "\n",
    "# df2['Allergic_rhinitis'].replace({'No': 0, 'Yes': 1},inplace=True)\n",
    "\n",
    "# df2['Reflux_esophagitis'].replace({'No': 0, 'Yes': 1},inplace=True)\n",
    "\n",
    "\n",
    "# df2['Asthma'].replace({'No': 0, 'Yes': 1},inplace=True)\n",
    "\n",
    "\n",
    "# df2['Services'].replace({'Blood Work': 0, 'Intravenous': 1, 'CT Scan': 2, 'MRI': 3},inplace=True)\n"
   ]
  },
  {
   "cell_type": "markdown",
   "id": "19a40592",
   "metadata": {},
   "source": [
    "# nullvalue handling"
   ]
  },
  {
   "cell_type": "code",
   "execution_count": 37,
   "id": "efed1d21",
   "metadata": {},
   "outputs": [],
   "source": [
    "# df2['Overweight'].fillna(df2['Overweight'].mean(),inplace=True)\n",
    "# df2['Anxiety'].fillna(df2['Anxiety'].mean(),inplace=True)\n",
    "# df2['Initial_days'].fillna(df2['Initial_days'].mean(),inplace=True)\n",
    "# df2['Income'].fillna(df['Income'].mean(),inplace=True)\n",
    "# df2['Age'].fillna(df['Income'].mean(),inplace=True)\n",
    "# df2['Children'].fillna(df['Income'].mean(),inplace=True)"
   ]
  },
  {
   "cell_type": "code",
   "execution_count": 38,
   "id": "811db585",
   "metadata": {},
   "outputs": [
    {
     "data": {
      "text/html": [
       "<div>\n",
       "<style scoped>\n",
       "    .dataframe tbody tr th:only-of-type {\n",
       "        vertical-align: middle;\n",
       "    }\n",
       "\n",
       "    .dataframe tbody tr th {\n",
       "        vertical-align: top;\n",
       "    }\n",
       "\n",
       "    .dataframe thead th {\n",
       "        text-align: right;\n",
       "    }\n",
       "</style>\n",
       "<table border=\"1\" class=\"dataframe\">\n",
       "  <thead>\n",
       "    <tr style=\"text-align: right;\">\n",
       "      <th></th>\n",
       "      <th>Area</th>\n",
       "      <th>Children</th>\n",
       "      <th>Age</th>\n",
       "      <th>Income</th>\n",
       "      <th>Gender</th>\n",
       "      <th>ReAdmis</th>\n",
       "      <th>VitD_levels</th>\n",
       "      <th>Doc_visits</th>\n",
       "      <th>Full_meals_eaten</th>\n",
       "      <th>VitD_supp</th>\n",
       "      <th>...</th>\n",
       "      <th>Hyperlipidemia</th>\n",
       "      <th>BackPain</th>\n",
       "      <th>Anxiety</th>\n",
       "      <th>Allergic_rhinitis</th>\n",
       "      <th>Reflux_esophagitis</th>\n",
       "      <th>Asthma</th>\n",
       "      <th>Services</th>\n",
       "      <th>Initial_days</th>\n",
       "      <th>Additional_charges</th>\n",
       "      <th>Total_Charges</th>\n",
       "    </tr>\n",
       "  </thead>\n",
       "  <tbody>\n",
       "    <tr>\n",
       "      <th>0</th>\n",
       "      <td>1.0</td>\n",
       "      <td>1.0</td>\n",
       "      <td>53.0</td>\n",
       "      <td>86575.93</td>\n",
       "      <td>1.0</td>\n",
       "      <td>0.0</td>\n",
       "      <td>17.802330</td>\n",
       "      <td>6.0</td>\n",
       "      <td>0.0</td>\n",
       "      <td>0.0</td>\n",
       "      <td>...</td>\n",
       "      <td>0.0</td>\n",
       "      <td>1.0</td>\n",
       "      <td>1.0</td>\n",
       "      <td>1.0</td>\n",
       "      <td>0.0</td>\n",
       "      <td>1.0</td>\n",
       "      <td>0.0</td>\n",
       "      <td>10.585770</td>\n",
       "      <td>3191.048774</td>\n",
       "      <td>17939.403420</td>\n",
       "    </tr>\n",
       "    <tr>\n",
       "      <th>1</th>\n",
       "      <td>2.0</td>\n",
       "      <td>3.0</td>\n",
       "      <td>51.0</td>\n",
       "      <td>46805.99</td>\n",
       "      <td>0.0</td>\n",
       "      <td>0.0</td>\n",
       "      <td>18.994640</td>\n",
       "      <td>4.0</td>\n",
       "      <td>2.0</td>\n",
       "      <td>1.0</td>\n",
       "      <td>...</td>\n",
       "      <td>0.0</td>\n",
       "      <td>0.0</td>\n",
       "      <td>0.6</td>\n",
       "      <td>0.0</td>\n",
       "      <td>1.0</td>\n",
       "      <td>0.0</td>\n",
       "      <td>1.0</td>\n",
       "      <td>15.129562</td>\n",
       "      <td>4214.905346</td>\n",
       "      <td>17612.998120</td>\n",
       "    </tr>\n",
       "    <tr>\n",
       "      <th>2</th>\n",
       "      <td>1.0</td>\n",
       "      <td>3.0</td>\n",
       "      <td>53.0</td>\n",
       "      <td>14370.14</td>\n",
       "      <td>0.0</td>\n",
       "      <td>0.0</td>\n",
       "      <td>17.415889</td>\n",
       "      <td>4.0</td>\n",
       "      <td>1.0</td>\n",
       "      <td>0.0</td>\n",
       "      <td>...</td>\n",
       "      <td>0.0</td>\n",
       "      <td>0.0</td>\n",
       "      <td>0.4</td>\n",
       "      <td>0.0</td>\n",
       "      <td>0.0</td>\n",
       "      <td>0.0</td>\n",
       "      <td>0.0</td>\n",
       "      <td>4.772177</td>\n",
       "      <td>2177.586768</td>\n",
       "      <td>17505.192460</td>\n",
       "    </tr>\n",
       "    <tr>\n",
       "      <th>3</th>\n",
       "      <td>1.0</td>\n",
       "      <td>0.0</td>\n",
       "      <td>78.0</td>\n",
       "      <td>39741.49</td>\n",
       "      <td>1.0</td>\n",
       "      <td>0.0</td>\n",
       "      <td>17.420079</td>\n",
       "      <td>4.0</td>\n",
       "      <td>1.0</td>\n",
       "      <td>0.0</td>\n",
       "      <td>...</td>\n",
       "      <td>0.0</td>\n",
       "      <td>0.0</td>\n",
       "      <td>0.8</td>\n",
       "      <td>0.0</td>\n",
       "      <td>1.0</td>\n",
       "      <td>1.0</td>\n",
       "      <td>0.0</td>\n",
       "      <td>1.714879</td>\n",
       "      <td>2465.118965</td>\n",
       "      <td>12993.437350</td>\n",
       "    </tr>\n",
       "    <tr>\n",
       "      <th>4</th>\n",
       "      <td>0.0</td>\n",
       "      <td>1.4</td>\n",
       "      <td>22.0</td>\n",
       "      <td>1209.56</td>\n",
       "      <td>0.0</td>\n",
       "      <td>0.0</td>\n",
       "      <td>16.870524</td>\n",
       "      <td>5.0</td>\n",
       "      <td>0.0</td>\n",
       "      <td>2.0</td>\n",
       "      <td>...</td>\n",
       "      <td>1.0</td>\n",
       "      <td>0.0</td>\n",
       "      <td>0.0</td>\n",
       "      <td>1.0</td>\n",
       "      <td>0.0</td>\n",
       "      <td>0.0</td>\n",
       "      <td>2.0</td>\n",
       "      <td>1.254807</td>\n",
       "      <td>1885.655137</td>\n",
       "      <td>3716.525786</td>\n",
       "    </tr>\n",
       "    <tr>\n",
       "      <th>...</th>\n",
       "      <td>...</td>\n",
       "      <td>...</td>\n",
       "      <td>...</td>\n",
       "      <td>...</td>\n",
       "      <td>...</td>\n",
       "      <td>...</td>\n",
       "      <td>...</td>\n",
       "      <td>...</td>\n",
       "      <td>...</td>\n",
       "      <td>...</td>\n",
       "      <td>...</td>\n",
       "      <td>...</td>\n",
       "      <td>...</td>\n",
       "      <td>...</td>\n",
       "      <td>...</td>\n",
       "      <td>...</td>\n",
       "      <td>...</td>\n",
       "      <td>...</td>\n",
       "      <td>...</td>\n",
       "      <td>...</td>\n",
       "      <td>...</td>\n",
       "    </tr>\n",
       "    <tr>\n",
       "      <th>9995</th>\n",
       "      <td>2.0</td>\n",
       "      <td>1.6</td>\n",
       "      <td>25.0</td>\n",
       "      <td>45967.61</td>\n",
       "      <td>1.0</td>\n",
       "      <td>0.0</td>\n",
       "      <td>16.481612</td>\n",
       "      <td>4.0</td>\n",
       "      <td>2.0</td>\n",
       "      <td>1.0</td>\n",
       "      <td>...</td>\n",
       "      <td>0.0</td>\n",
       "      <td>0.0</td>\n",
       "      <td>1.0</td>\n",
       "      <td>0.0</td>\n",
       "      <td>1.0</td>\n",
       "      <td>0.0</td>\n",
       "      <td>1.0</td>\n",
       "      <td>51.561217</td>\n",
       "      <td>6651.241294</td>\n",
       "      <td>8927.642189</td>\n",
       "    </tr>\n",
       "    <tr>\n",
       "      <th>9996</th>\n",
       "      <td>2.0</td>\n",
       "      <td>4.0</td>\n",
       "      <td>87.0</td>\n",
       "      <td>14983.02</td>\n",
       "      <td>1.0</td>\n",
       "      <td>1.0</td>\n",
       "      <td>18.451601</td>\n",
       "      <td>5.0</td>\n",
       "      <td>0.0</td>\n",
       "      <td>0.0</td>\n",
       "      <td>...</td>\n",
       "      <td>0.0</td>\n",
       "      <td>0.0</td>\n",
       "      <td>0.0</td>\n",
       "      <td>0.0</td>\n",
       "      <td>0.0</td>\n",
       "      <td>1.0</td>\n",
       "      <td>2.0</td>\n",
       "      <td>68.668237</td>\n",
       "      <td>7851.522660</td>\n",
       "      <td>28507.147340</td>\n",
       "    </tr>\n",
       "    <tr>\n",
       "      <th>9997</th>\n",
       "      <td>0.0</td>\n",
       "      <td>3.0</td>\n",
       "      <td>71.0</td>\n",
       "      <td>65917.81</td>\n",
       "      <td>0.0</td>\n",
       "      <td>1.0</td>\n",
       "      <td>15.752751</td>\n",
       "      <td>4.0</td>\n",
       "      <td>2.0</td>\n",
       "      <td>0.0</td>\n",
       "      <td>...</td>\n",
       "      <td>0.0</td>\n",
       "      <td>0.0</td>\n",
       "      <td>1.0</td>\n",
       "      <td>1.0</td>\n",
       "      <td>0.0</td>\n",
       "      <td>0.0</td>\n",
       "      <td>1.0</td>\n",
       "      <td>60.176523</td>\n",
       "      <td>7725.953391</td>\n",
       "      <td>15281.214660</td>\n",
       "    </tr>\n",
       "    <tr>\n",
       "      <th>9998</th>\n",
       "      <td>0.0</td>\n",
       "      <td>3.0</td>\n",
       "      <td>43.0</td>\n",
       "      <td>29702.32</td>\n",
       "      <td>1.0</td>\n",
       "      <td>1.0</td>\n",
       "      <td>21.956305</td>\n",
       "      <td>5.0</td>\n",
       "      <td>2.0</td>\n",
       "      <td>1.0</td>\n",
       "      <td>...</td>\n",
       "      <td>0.0</td>\n",
       "      <td>1.0</td>\n",
       "      <td>0.0</td>\n",
       "      <td>0.0</td>\n",
       "      <td>0.0</td>\n",
       "      <td>0.0</td>\n",
       "      <td>0.0</td>\n",
       "      <td>63.356903</td>\n",
       "      <td>8462.831883</td>\n",
       "      <td>7781.678412</td>\n",
       "    </tr>\n",
       "    <tr>\n",
       "      <th>9999</th>\n",
       "      <td>2.0</td>\n",
       "      <td>8.0</td>\n",
       "      <td>52.8</td>\n",
       "      <td>62682.63</td>\n",
       "      <td>0.0</td>\n",
       "      <td>1.0</td>\n",
       "      <td>20.421883</td>\n",
       "      <td>5.0</td>\n",
       "      <td>0.0</td>\n",
       "      <td>1.0</td>\n",
       "      <td>...</td>\n",
       "      <td>1.0</td>\n",
       "      <td>0.0</td>\n",
       "      <td>0.0</td>\n",
       "      <td>1.0</td>\n",
       "      <td>0.0</td>\n",
       "      <td>0.0</td>\n",
       "      <td>0.0</td>\n",
       "      <td>70.850592</td>\n",
       "      <td>8700.856021</td>\n",
       "      <td>11643.189930</td>\n",
       "    </tr>\n",
       "  </tbody>\n",
       "</table>\n",
       "<p>10000 rows × 28 columns</p>\n",
       "</div>"
      ],
      "text/plain": [
       "      Area  Children   Age    Income  Gender  ReAdmis  VitD_levels  \\\n",
       "0      1.0       1.0  53.0  86575.93     1.0      0.0    17.802330   \n",
       "1      2.0       3.0  51.0  46805.99     0.0      0.0    18.994640   \n",
       "2      1.0       3.0  53.0  14370.14     0.0      0.0    17.415889   \n",
       "3      1.0       0.0  78.0  39741.49     1.0      0.0    17.420079   \n",
       "4      0.0       1.4  22.0   1209.56     0.0      0.0    16.870524   \n",
       "...    ...       ...   ...       ...     ...      ...          ...   \n",
       "9995   2.0       1.6  25.0  45967.61     1.0      0.0    16.481612   \n",
       "9996   2.0       4.0  87.0  14983.02     1.0      1.0    18.451601   \n",
       "9997   0.0       3.0  71.0  65917.81     0.0      1.0    15.752751   \n",
       "9998   0.0       3.0  43.0  29702.32     1.0      1.0    21.956305   \n",
       "9999   2.0       8.0  52.8  62682.63     0.0      1.0    20.421883   \n",
       "\n",
       "      Doc_visits  Full_meals_eaten  VitD_supp  ...  Hyperlipidemia  BackPain  \\\n",
       "0            6.0               0.0        0.0  ...             0.0       1.0   \n",
       "1            4.0               2.0        1.0  ...             0.0       0.0   \n",
       "2            4.0               1.0        0.0  ...             0.0       0.0   \n",
       "3            4.0               1.0        0.0  ...             0.0       0.0   \n",
       "4            5.0               0.0        2.0  ...             1.0       0.0   \n",
       "...          ...               ...        ...  ...             ...       ...   \n",
       "9995         4.0               2.0        1.0  ...             0.0       0.0   \n",
       "9996         5.0               0.0        0.0  ...             0.0       0.0   \n",
       "9997         4.0               2.0        0.0  ...             0.0       0.0   \n",
       "9998         5.0               2.0        1.0  ...             0.0       1.0   \n",
       "9999         5.0               0.0        1.0  ...             1.0       0.0   \n",
       "\n",
       "      Anxiety  Allergic_rhinitis  Reflux_esophagitis  Asthma  Services  \\\n",
       "0         1.0                1.0                 0.0     1.0       0.0   \n",
       "1         0.6                0.0                 1.0     0.0       1.0   \n",
       "2         0.4                0.0                 0.0     0.0       0.0   \n",
       "3         0.8                0.0                 1.0     1.0       0.0   \n",
       "4         0.0                1.0                 0.0     0.0       2.0   \n",
       "...       ...                ...                 ...     ...       ...   \n",
       "9995      1.0                0.0                 1.0     0.0       1.0   \n",
       "9996      0.0                0.0                 0.0     1.0       2.0   \n",
       "9997      1.0                1.0                 0.0     0.0       1.0   \n",
       "9998      0.0                0.0                 0.0     0.0       0.0   \n",
       "9999      0.0                1.0                 0.0     0.0       0.0   \n",
       "\n",
       "      Initial_days  Additional_charges  Total_Charges  \n",
       "0        10.585770         3191.048774   17939.403420  \n",
       "1        15.129562         4214.905346   17612.998120  \n",
       "2         4.772177         2177.586768   17505.192460  \n",
       "3         1.714879         2465.118965   12993.437350  \n",
       "4         1.254807         1885.655137    3716.525786  \n",
       "...            ...                 ...            ...  \n",
       "9995     51.561217         6651.241294    8927.642189  \n",
       "9996     68.668237         7851.522660   28507.147340  \n",
       "9997     60.176523         7725.953391   15281.214660  \n",
       "9998     63.356903         8462.831883    7781.678412  \n",
       "9999     70.850592         8700.856021   11643.189930  \n",
       "\n",
       "[10000 rows x 28 columns]"
      ]
     },
     "execution_count": 38,
     "metadata": {},
     "output_type": "execute_result"
    }
   ],
   "source": [
    "impute = KNNImputer()\n",
    "arr = impute.fit_transform(df)\n",
    "df = pd.DataFrame(arr,columns=df.columns)\n",
    "df"
   ]
  },
  {
   "cell_type": "code",
   "execution_count": 39,
   "id": "e920766d",
   "metadata": {},
   "outputs": [
    {
     "data": {
      "text/plain": [
       "0"
      ]
     },
     "execution_count": 39,
     "metadata": {},
     "output_type": "execute_result"
    }
   ],
   "source": [
    "df['Age'].isna().sum()"
   ]
  },
  {
   "cell_type": "code",
   "execution_count": 40,
   "id": "281ee9de",
   "metadata": {},
   "outputs": [
    {
     "data": {
      "text/plain": [
       "Area                  0\n",
       "Children              0\n",
       "Age                   0\n",
       "Income                0\n",
       "Gender                0\n",
       "ReAdmis               0\n",
       "VitD_levels           0\n",
       "Doc_visits            0\n",
       "Full_meals_eaten      0\n",
       "VitD_supp             0\n",
       "Soft_drink            0\n",
       "Initial_admin         0\n",
       "HighBlood             0\n",
       "Stroke                0\n",
       "Complication_risk     0\n",
       "Overweight            0\n",
       "Arthritis             0\n",
       "Diabetes              0\n",
       "Hyperlipidemia        0\n",
       "BackPain              0\n",
       "Anxiety               0\n",
       "Allergic_rhinitis     0\n",
       "Reflux_esophagitis    0\n",
       "Asthma                0\n",
       "Services              0\n",
       "Initial_days          0\n",
       "Additional_charges    0\n",
       "Total_Charges         0\n",
       "dtype: int64"
      ]
     },
     "execution_count": 40,
     "metadata": {},
     "output_type": "execute_result"
    }
   ],
   "source": [
    "df.isna().sum()"
   ]
  },
  {
   "cell_type": "markdown",
   "id": "65aa6c18",
   "metadata": {},
   "source": [
    "# outlier handling"
   ]
  },
  {
   "cell_type": "code",
   "execution_count": 41,
   "id": "316965f1",
   "metadata": {},
   "outputs": [],
   "source": [
    "# listt = []\n",
    "# for i in df.columns:\n",
    "#     if df[i].dtype=='int64':\n",
    "#         listt.append(i)\n",
    "#     elif df[i].dtype == 'float64':\n",
    "#         listt.append(i)\n",
    "# listt"
   ]
  },
  {
   "cell_type": "code",
   "execution_count": 42,
   "id": "316dcb5a",
   "metadata": {},
   "outputs": [
    {
     "name": "stderr",
     "output_type": "stream",
     "text": [
      "C:\\anacondaaa\\lib\\site-packages\\seaborn\\_decorators.py:36: FutureWarning: Pass the following variable as a keyword arg: x. From version 0.12, the only valid positional argument will be `data`, and passing other arguments without an explicit keyword will result in an error or misinterpretation.\n",
      "  warnings.warn(\n"
     ]
    },
    {
     "data": {
      "image/png": "[encoded data removed]",
      "text/plain": [
       "<Figure size 144x144 with 1 Axes>"
      ]
     },
     "metadata": {
      "needs_background": "light"
     },
     "output_type": "display_data"
    },
    {
     "name": "stderr",
     "output_type": "stream",
     "text": [
      "C:\\anacondaaa\\lib\\site-packages\\seaborn\\_decorators.py:36: FutureWarning: Pass the following variable as a keyword arg: x. From version 0.12, the only valid positional argument will be `data`, and passing other arguments without an explicit keyword will result in an error or misinterpretation.\n",
      "  warnings.warn(\n"
     ]
    },
    {
     "data": {
      "image/png": "[encoded data removed]",
      "text/plain": [
       "<Figure size 144x144 with 1 Axes>"
      ]
     },
     "metadata": {
      "needs_background": "light"
     },
     "output_type": "display_data"
    },
    {
     "name": "stderr",
     "output_type": "stream",
     "text": [
      "C:\\anacondaaa\\lib\\site-packages\\seaborn\\_decorators.py:36: FutureWarning: Pass the following variable as a keyword arg: x. From version 0.12, the only valid positional argument will be `data`, and passing other arguments without an explicit keyword will result in an error or misinterpretation.\n",
      "  warnings.warn(\n"
     ]
    },
    {
     "data": {
      "image/png": "[encoded data removed]",
      "text/plain": [
       "<Figure size 144x144 with 1 Axes>"
      ]
     },
     "metadata": {
      "needs_background": "light"
     },
     "output_type": "display_data"
    },
    {
     "name": "stderr",
     "output_type": "stream",
     "text": [
      "C:\\anacondaaa\\lib\\site-packages\\seaborn\\_decorators.py:36: FutureWarning: Pass the following variable as a keyword arg: x. From version 0.12, the only valid positional argument will be `data`, and passing other arguments without an explicit keyword will result in an error or misinterpretation.\n",
      "  warnings.warn(\n"
     ]
    },
    {
     "data": {
      "image/png": "[encoded data removed]",
      "text/plain": [
       "<Figure size 144x144 with 1 Axes>"
      ]
     },
     "metadata": {
      "needs_background": "light"
     },
     "output_type": "display_data"
    },
    {
     "name": "stderr",
     "output_type": "stream",
     "text": [
      "C:\\anacondaaa\\lib\\site-packages\\seaborn\\_decorators.py:36: FutureWarning: Pass the following variable as a keyword arg: x. From version 0.12, the only valid positional argument will be `data`, and passing other arguments without an explicit keyword will result in an error or misinterpretation.\n",
      "  warnings.warn(\n"
     ]
    },
    {
     "data": {
      "image/png": "[encoded data removed]",
      "text/plain": [
       "<Figure size 144x144 with 1 Axes>"
      ]
     },
     "metadata": {
      "needs_background": "light"
     },
     "output_type": "display_data"
    },
    {
     "name": "stderr",
     "output_type": "stream",
     "text": [
      "C:\\anacondaaa\\lib\\site-packages\\seaborn\\_decorators.py:36: FutureWarning: Pass the following variable as a keyword arg: x. From version 0.12, the only valid positional argument will be `data`, and passing other arguments without an explicit keyword will result in an error or misinterpretation.\n",
      "  warnings.warn(\n"
     ]
    },
    {
     "data": {
      "image/png": "[encoded data removed]",
      "text/plain": [
       "<Figure size 144x144 with 1 Axes>"
      ]
     },
     "metadata": {
      "needs_background": "light"
     },
     "output_type": "display_data"
    },
    {
     "name": "stderr",
     "output_type": "stream",
     "text": [
      "C:\\anacondaaa\\lib\\site-packages\\seaborn\\_decorators.py:36: FutureWarning: Pass the following variable as a keyword arg: x. From version 0.12, the only valid positional argument will be `data`, and passing other arguments without an explicit keyword will result in an error or misinterpretation.\n",
      "  warnings.warn(\n"
     ]
    },
    {
     "data": {
      "image/png": "[encoded data removed]",
      "text/plain": [
       "<Figure size 144x144 with 1 Axes>"
      ]
     },
     "metadata": {
      "needs_background": "light"
     },
     "output_type": "display_data"
    },
    {
     "name": "stderr",
     "output_type": "stream",
     "text": [
      "C:\\anacondaaa\\lib\\site-packages\\seaborn\\_decorators.py:36: FutureWarning: Pass the following variable as a keyword arg: x. From version 0.12, the only valid positional argument will be `data`, and passing other arguments without an explicit keyword will result in an error or misinterpretation.\n",
      "  warnings.warn(\n"
     ]
    },
    {
     "data": {
      "image/png": "[encoded data removed]",
      "text/plain": [
       "<Figure size 144x144 with 1 Axes>"
      ]
     },
     "metadata": {
      "needs_background": "light"
     },
     "output_type": "display_data"
    },
    {
     "name": "stderr",
     "output_type": "stream",
     "text": [
      "C:\\anacondaaa\\lib\\site-packages\\seaborn\\_decorators.py:36: FutureWarning: Pass the following variable as a keyword arg: x. From version 0.12, the only valid positional argument will be `data`, and passing other arguments without an explicit keyword will result in an error or misinterpretation.\n",
      "  warnings.warn(\n"
     ]
    },
    {
     "data": {
      "image/png": "[encoded data removed]",
      "text/plain": [
       "<Figure size 144x144 with 1 Axes>"
      ]
     },
     "metadata": {
      "needs_background": "light"
     },
     "output_type": "display_data"
    },
    {
     "name": "stderr",
     "output_type": "stream",
     "text": [
      "C:\\anacondaaa\\lib\\site-packages\\seaborn\\_decorators.py:36: FutureWarning: Pass the following variable as a keyword arg: x. From version 0.12, the only valid positional argument will be `data`, and passing other arguments without an explicit keyword will result in an error or misinterpretation.\n",
      "  warnings.warn(\n"
     ]
    },
    {
     "data": {
      "image/png": "[encoded data removed]",
      "text/plain": [
       "<Figure size 144x144 with 1 Axes>"
      ]
     },
     "metadata": {
      "needs_background": "light"
     },
     "output_type": "display_data"
    },
    {
     "name": "stderr",
     "output_type": "stream",
     "text": [
      "C:\\anacondaaa\\lib\\site-packages\\seaborn\\_decorators.py:36: FutureWarning: Pass the following variable as a keyword arg: x. From version 0.12, the only valid positional argument will be `data`, and passing other arguments without an explicit keyword will result in an error or misinterpretation.\n",
      "  warnings.warn(\n"
     ]
    },
    {
     "data": {
      "image/png": "[encoded data removed]",
      "text/plain": [
       "<Figure size 144x144 with 1 Axes>"
      ]
     },
     "metadata": {
      "needs_background": "light"
     },
     "output_type": "display_data"
    },
    {
     "name": "stderr",
     "output_type": "stream",
     "text": [
      "C:\\anacondaaa\\lib\\site-packages\\seaborn\\_decorators.py:36: FutureWarning: Pass the following variable as a keyword arg: x. From version 0.12, the only valid positional argument will be `data`, and passing other arguments without an explicit keyword will result in an error or misinterpretation.\n",
      "  warnings.warn(\n"
     ]
    },
    {
     "data": {
      "image/png": "[encoded data removed]",
      "text/plain": [
       "<Figure size 144x144 with 1 Axes>"
      ]
     },
     "metadata": {
      "needs_background": "light"
     },
     "output_type": "display_data"
    },
    {
     "name": "stderr",
     "output_type": "stream",
     "text": [
      "C:\\anacondaaa\\lib\\site-packages\\seaborn\\_decorators.py:36: FutureWarning: Pass the following variable as a keyword arg: x. From version 0.12, the only valid positional argument will be `data`, and passing other arguments without an explicit keyword will result in an error or misinterpretation.\n",
      "  warnings.warn(\n"
     ]
    },
    {
     "data": {
      "image/png": "[encoded data removed]",
      "text/plain": [
       "<Figure size 144x144 with 1 Axes>"
      ]
     },
     "metadata": {
      "needs_background": "light"
     },
     "output_type": "display_data"
    },
    {
     "name": "stderr",
     "output_type": "stream",
     "text": [
      "C:\\anacondaaa\\lib\\site-packages\\seaborn\\_decorators.py:36: FutureWarning: Pass the following variable as a keyword arg: x. From version 0.12, the only valid positional argument will be `data`, and passing other arguments without an explicit keyword will result in an error or misinterpretation.\n",
      "  warnings.warn(\n"
     ]
    },
    {
     "data": {
      "image/png": "[encoded data removed]",
      "text/plain": [
       "<Figure size 144x144 with 1 Axes>"
      ]
     },
     "metadata": {
      "needs_background": "light"
     },
     "output_type": "display_data"
    },
    {
     "name": "stderr",
     "output_type": "stream",
     "text": [
      "C:\\anacondaaa\\lib\\site-packages\\seaborn\\_decorators.py:36: FutureWarning: Pass the following variable as a keyword arg: x. From version 0.12, the only valid positional argument will be `data`, and passing other arguments without an explicit keyword will result in an error or misinterpretation.\n",
      "  warnings.warn(\n"
     ]
    },
    {
     "data": {
      "image/png": "[encoded data removed]",
      "text/plain": [
       "<Figure size 144x144 with 1 Axes>"
      ]
     },
     "metadata": {
      "needs_background": "light"
     },
     "output_type": "display_data"
    },
    {
     "name": "stderr",
     "output_type": "stream",
     "text": [
      "C:\\anacondaaa\\lib\\site-packages\\seaborn\\_decorators.py:36: FutureWarning: Pass the following variable as a keyword arg: x. From version 0.12, the only valid positional argument will be `data`, and passing other arguments without an explicit keyword will result in an error or misinterpretation.\n",
      "  warnings.warn(\n"
     ]
    },
    {
     "data": {
      "image/png": "[encoded data removed]",
      "text/plain": [
       "<Figure size 144x144 with 1 Axes>"
      ]
     },
     "metadata": {
      "needs_background": "light"
     },
     "output_type": "display_data"
    },
    {
     "name": "stderr",
     "output_type": "stream",
     "text": [
      "C:\\anacondaaa\\lib\\site-packages\\seaborn\\_decorators.py:36: FutureWarning: Pass the following variable as a keyword arg: x. From version 0.12, the only valid positional argument will be `data`, and passing other arguments without an explicit keyword will result in an error or misinterpretation.\n",
      "  warnings.warn(\n"
     ]
    },
    {
     "data": {
      "image/png": "[encoded data removed]",
      "text/plain": [
       "<Figure size 144x144 with 1 Axes>"
      ]
     },
     "metadata": {
      "needs_background": "light"
     },
     "output_type": "display_data"
    },
    {
     "name": "stderr",
     "output_type": "stream",
     "text": [
      "C:\\anacondaaa\\lib\\site-packages\\seaborn\\_decorators.py:36: FutureWarning: Pass the following variable as a keyword arg: x. From version 0.12, the only valid positional argument will be `data`, and passing other arguments without an explicit keyword will result in an error or misinterpretation.\n",
      "  warnings.warn(\n"
     ]
    },
    {
     "data": {
      "image/png": "[encoded data removed]",
      "text/plain": [
       "<Figure size 144x144 with 1 Axes>"
      ]
     },
     "metadata": {
      "needs_background": "light"
     },
     "output_type": "display_data"
    },
    {
     "name": "stderr",
     "output_type": "stream",
     "text": [
      "C:\\anacondaaa\\lib\\site-packages\\seaborn\\_decorators.py:36: FutureWarning: Pass the following variable as a keyword arg: x. From version 0.12, the only valid positional argument will be `data`, and passing other arguments without an explicit keyword will result in an error or misinterpretation.\n",
      "  warnings.warn(\n"
     ]
    },
    {
     "data": {
      "image/png": "[encoded data removed]",
      "text/plain": [
       "<Figure size 144x144 with 1 Axes>"
      ]
     },
     "metadata": {
      "needs_background": "light"
     },
     "output_type": "display_data"
    },
    {
     "name": "stderr",
     "output_type": "stream",
     "text": [
      "C:\\anacondaaa\\lib\\site-packages\\seaborn\\_decorators.py:36: FutureWarning: Pass the following variable as a keyword arg: x. From version 0.12, the only valid positional argument will be `data`, and passing other arguments without an explicit keyword will result in an error or misinterpretation.\n",
      "  warnings.warn(\n"
     ]
    },
    {
     "data": {
      "image/png": "[encoded data removed]",
      "text/plain": [
       "<Figure size 144x144 with 1 Axes>"
      ]
     },
     "metadata": {
      "needs_background": "light"
     },
     "output_type": "display_data"
    },
    {
     "name": "stderr",
     "output_type": "stream",
     "text": [
      "C:\\anacondaaa\\lib\\site-packages\\seaborn\\_decorators.py:36: FutureWarning: Pass the following variable as a keyword arg: x. From version 0.12, the only valid positional argument will be `data`, and passing other arguments without an explicit keyword will result in an error or misinterpretation.\n",
      "  warnings.warn(\n"
     ]
    },
    {
     "data": {
      "image/png": "[encoded data removed]",
      "text/plain": [
       "<Figure size 144x144 with 1 Axes>"
      ]
     },
     "metadata": {
      "needs_background": "light"
     },
     "output_type": "display_data"
    },
    {
     "name": "stderr",
     "output_type": "stream",
     "text": [
      "C:\\anacondaaa\\lib\\site-packages\\seaborn\\_decorators.py:36: FutureWarning: Pass the following variable as a keyword arg: x. From version 0.12, the only valid positional argument will be `data`, and passing other arguments without an explicit keyword will result in an error or misinterpretation.\n",
      "  warnings.warn(\n"
     ]
    },
    {
     "data": {
      "image/png": "[encoded data removed]",
      "text/plain": [
       "<Figure size 144x144 with 1 Axes>"
      ]
     },
     "metadata": {
      "needs_background": "light"
     },
     "output_type": "display_data"
    },
    {
     "name": "stderr",
     "output_type": "stream",
     "text": [
      "C:\\anacondaaa\\lib\\site-packages\\seaborn\\_decorators.py:36: FutureWarning: Pass the following variable as a keyword arg: x. From version 0.12, the only valid positional argument will be `data`, and passing other arguments without an explicit keyword will result in an error or misinterpretation.\n",
      "  warnings.warn(\n"
     ]
    },
    {
     "data": {
      "image/png": "[encoded data removed]",
      "text/plain": [
       "<Figure size 144x144 with 1 Axes>"
      ]
     },
     "metadata": {
      "needs_background": "light"
     },
     "output_type": "display_data"
    },
    {
     "name": "stderr",
     "output_type": "stream",
     "text": [
      "C:\\anacondaaa\\lib\\site-packages\\seaborn\\_decorators.py:36: FutureWarning: Pass the following variable as a keyword arg: x. From version 0.12, the only valid positional argument will be `data`, and passing other arguments without an explicit keyword will result in an error or misinterpretation.\n",
      "  warnings.warn(\n"
     ]
    },
    {
     "data": {
      "image/png": "[encoded data removed]",
      "text/plain": [
       "<Figure size 144x144 with 1 Axes>"
      ]
     },
     "metadata": {
      "needs_background": "light"
     },
     "output_type": "display_data"
    },
    {
     "name": "stderr",
     "output_type": "stream",
     "text": [
      "C:\\anacondaaa\\lib\\site-packages\\seaborn\\_decorators.py:36: FutureWarning: Pass the following variable as a keyword arg: x. From version 0.12, the only valid positional argument will be `data`, and passing other arguments without an explicit keyword will result in an error or misinterpretation.\n",
      "  warnings.warn(\n"
     ]
    },
    {
     "data": {
      "image/png": "[encoded data removed]",
      "text/plain": [
       "<Figure size 144x144 with 1 Axes>"
      ]
     },
     "metadata": {
      "needs_background": "light"
     },
     "output_type": "display_data"
    },
    {
     "name": "stderr",
     "output_type": "stream",
     "text": [
      "C:\\anacondaaa\\lib\\site-packages\\seaborn\\_decorators.py:36: FutureWarning: Pass the following variable as a keyword arg: x. From version 0.12, the only valid positional argument will be `data`, and passing other arguments without an explicit keyword will result in an error or misinterpretation.\n",
      "  warnings.warn(\n"
     ]
    },
    {
     "data": {
      "image/png": "[encoded data removed]",
      "text/plain": [
       "<Figure size 144x144 with 1 Axes>"
      ]
     },
     "metadata": {
      "needs_background": "light"
     },
     "output_type": "display_data"
    },
    {
     "name": "stderr",
     "output_type": "stream",
     "text": [
      "C:\\anacondaaa\\lib\\site-packages\\seaborn\\_decorators.py:36: FutureWarning: Pass the following variable as a keyword arg: x. From version 0.12, the only valid positional argument will be `data`, and passing other arguments without an explicit keyword will result in an error or misinterpretation.\n",
      "  warnings.warn(\n"
     ]
    },
    {
     "data": {
      "image/png": "[encoded data removed]",
      "text/plain": [
       "<Figure size 144x144 with 1 Axes>"
      ]
     },
     "metadata": {
      "needs_background": "light"
     },
     "output_type": "display_data"
    },
    {
     "name": "stderr",
     "output_type": "stream",
     "text": [
      "C:\\anacondaaa\\lib\\site-packages\\seaborn\\_decorators.py:36: FutureWarning: Pass the following variable as a keyword arg: x. From version 0.12, the only valid positional argument will be `data`, and passing other arguments without an explicit keyword will result in an error or misinterpretation.\n",
      "  warnings.warn(\n"
     ]
    },
    {
     "data": {
      "image/png": "[encoded data removed]",
      "text/plain": [
       "<Figure size 144x144 with 1 Axes>"
      ]
     },
     "metadata": {
      "needs_background": "light"
     },
     "output_type": "display_data"
    }
   ],
   "source": [
    "# df1  = df[['Zip',\n",
    "#              'Lat',\n",
    "#              'Lng',\n",
    "#              'Population',\n",
    "#              'Children',\n",
    "#              'Age',\n",
    "#              'Income',\n",
    "#              'VitD_levels',\n",
    "#              'Doc_visits',\n",
    "#              'Full_meals_eaten',\n",
    "#              'VitD_supp',\n",
    "#              'Overweight',\n",
    "#              'Anxiety',\n",
    "#              'Initial_days',\n",
    "#              'TotalCharge',\n",
    "#              'Additional_charges','Item1',\n",
    "#              'Item2',\n",
    "#              'Item3',\n",
    "#              'Item4',\n",
    "#              'Item5',\n",
    "#              'Item6',\n",
    "#              'Item7',\n",
    "#              'Item8']]\n",
    "for i in df.columns:\n",
    "    plt.figure(figsize=(2,2))\n",
    "    sns.boxplot(df[i])\n",
    "    plt.show()\n"
   ]
  },
  {
   "cell_type": "code",
   "execution_count": 43,
   "id": "0628eb86",
   "metadata": {},
   "outputs": [
    {
     "name": "stderr",
     "output_type": "stream",
     "text": [
      "C:\\anacondaaa\\lib\\site-packages\\seaborn\\_decorators.py:36: FutureWarning: Pass the following variable as a keyword arg: x. From version 0.12, the only valid positional argument will be `data`, and passing other arguments without an explicit keyword will result in an error or misinterpretation.\n",
      "  warnings.warn(\n"
     ]
    },
    {
     "data": {
      "image/png": "[encoded data removed]",
      "text/plain": [
       "<Figure size 144x144 with 1 Axes>"
      ]
     },
     "metadata": {
      "needs_background": "light"
     },
     "output_type": "display_data"
    },
    {
     "name": "stderr",
     "output_type": "stream",
     "text": [
      "C:\\anacondaaa\\lib\\site-packages\\seaborn\\_decorators.py:36: FutureWarning: Pass the following variable as a keyword arg: x. From version 0.12, the only valid positional argument will be `data`, and passing other arguments without an explicit keyword will result in an error or misinterpretation.\n",
      "  warnings.warn(\n"
     ]
    },
    {
     "data": {
      "image/png": "[encoded data removed]",
      "text/plain": [
       "<Figure size 144x144 with 1 Axes>"
      ]
     },
     "metadata": {
      "needs_background": "light"
     },
     "output_type": "display_data"
    },
    {
     "name": "stderr",
     "output_type": "stream",
     "text": [
      "C:\\anacondaaa\\lib\\site-packages\\seaborn\\_decorators.py:36: FutureWarning: Pass the following variable as a keyword arg: x. From version 0.12, the only valid positional argument will be `data`, and passing other arguments without an explicit keyword will result in an error or misinterpretation.\n",
      "  warnings.warn(\n"
     ]
    },
    {
     "data": {
      "image/png": "[encoded data removed]",
      "text/plain": [
       "<Figure size 144x144 with 1 Axes>"
      ]
     },
     "metadata": {
      "needs_background": "light"
     },
     "output_type": "display_data"
    },
    {
     "name": "stderr",
     "output_type": "stream",
     "text": [
      "C:\\anacondaaa\\lib\\site-packages\\seaborn\\_decorators.py:36: FutureWarning: Pass the following variable as a keyword arg: x. From version 0.12, the only valid positional argument will be `data`, and passing other arguments without an explicit keyword will result in an error or misinterpretation.\n",
      "  warnings.warn(\n"
     ]
    },
    {
     "data": {
      "image/png": "[encoded data removed]",
      "text/plain": [
       "<Figure size 144x144 with 1 Axes>"
      ]
     },
     "metadata": {
      "needs_background": "light"
     },
     "output_type": "display_data"
    },
    {
     "name": "stderr",
     "output_type": "stream",
     "text": [
      "C:\\anacondaaa\\lib\\site-packages\\seaborn\\_decorators.py:36: FutureWarning: Pass the following variable as a keyword arg: x. From version 0.12, the only valid positional argument will be `data`, and passing other arguments without an explicit keyword will result in an error or misinterpretation.\n",
      "  warnings.warn(\n"
     ]
    },
    {
     "data": {
      "image/png": "[encoded data removed]",
      "text/plain": [
       "<Figure size 144x144 with 1 Axes>"
      ]
     },
     "metadata": {
      "needs_background": "light"
     },
     "output_type": "display_data"
    },
    {
     "name": "stderr",
     "output_type": "stream",
     "text": [
      "C:\\anacondaaa\\lib\\site-packages\\seaborn\\_decorators.py:36: FutureWarning: Pass the following variable as a keyword arg: x. From version 0.12, the only valid positional argument will be `data`, and passing other arguments without an explicit keyword will result in an error or misinterpretation.\n",
      "  warnings.warn(\n"
     ]
    },
    {
     "data": {
      "image/png": "[encoded data removed]",
      "text/plain": [
       "<Figure size 144x144 with 1 Axes>"
      ]
     },
     "metadata": {
      "needs_background": "light"
     },
     "output_type": "display_data"
    },
    {
     "name": "stderr",
     "output_type": "stream",
     "text": [
      "C:\\anacondaaa\\lib\\site-packages\\seaborn\\_decorators.py:36: FutureWarning: Pass the following variable as a keyword arg: x. From version 0.12, the only valid positional argument will be `data`, and passing other arguments without an explicit keyword will result in an error or misinterpretation.\n",
      "  warnings.warn(\n"
     ]
    },
    {
     "data": {
      "image/png": "[encoded data removed]",
      "text/plain": [
       "<Figure size 144x144 with 1 Axes>"
      ]
     },
     "metadata": {
      "needs_background": "light"
     },
     "output_type": "display_data"
    },
    {
     "name": "stderr",
     "output_type": "stream",
     "text": [
      "C:\\anacondaaa\\lib\\site-packages\\seaborn\\_decorators.py:36: FutureWarning: Pass the following variable as a keyword arg: x. From version 0.12, the only valid positional argument will be `data`, and passing other arguments without an explicit keyword will result in an error or misinterpretation.\n",
      "  warnings.warn(\n"
     ]
    },
    {
     "data": {
      "image/png": "[encoded data removed]",
      "text/plain": [
       "<Figure size 144x144 with 1 Axes>"
      ]
     },
     "metadata": {
      "needs_background": "light"
     },
     "output_type": "display_data"
    },
    {
     "name": "stderr",
     "output_type": "stream",
     "text": [
      "C:\\anacondaaa\\lib\\site-packages\\seaborn\\_decorators.py:36: FutureWarning: Pass the following variable as a keyword arg: x. From version 0.12, the only valid positional argument will be `data`, and passing other arguments without an explicit keyword will result in an error or misinterpretation.\n",
      "  warnings.warn(\n"
     ]
    },
    {
     "data": {
      "image/png": "[encoded data removed]",
      "text/plain": [
       "<Figure size 144x144 with 1 Axes>"
      ]
     },
     "metadata": {
      "needs_background": "light"
     },
     "output_type": "display_data"
    },
    {
     "name": "stderr",
     "output_type": "stream",
     "text": [
      "C:\\anacondaaa\\lib\\site-packages\\seaborn\\_decorators.py:36: FutureWarning: Pass the following variable as a keyword arg: x. From version 0.12, the only valid positional argument will be `data`, and passing other arguments without an explicit keyword will result in an error or misinterpretation.\n",
      "  warnings.warn(\n"
     ]
    },
    {
     "data": {
      "image/png": "[encoded data removed]",
      "text/plain": [
       "<Figure size 144x144 with 1 Axes>"
      ]
     },
     "metadata": {
      "needs_background": "light"
     },
     "output_type": "display_data"
    },
    {
     "name": "stderr",
     "output_type": "stream",
     "text": [
      "C:\\anacondaaa\\lib\\site-packages\\seaborn\\_decorators.py:36: FutureWarning: Pass the following variable as a keyword arg: x. From version 0.12, the only valid positional argument will be `data`, and passing other arguments without an explicit keyword will result in an error or misinterpretation.\n",
      "  warnings.warn(\n"
     ]
    },
    {
     "data": {
      "image/png": "[encoded data removed]",
      "text/plain": [
       "<Figure size 144x144 with 1 Axes>"
      ]
     },
     "metadata": {
      "needs_background": "light"
     },
     "output_type": "display_data"
    },
    {
     "name": "stderr",
     "output_type": "stream",
     "text": [
      "C:\\anacondaaa\\lib\\site-packages\\seaborn\\_decorators.py:36: FutureWarning: Pass the following variable as a keyword arg: x. From version 0.12, the only valid positional argument will be `data`, and passing other arguments without an explicit keyword will result in an error or misinterpretation.\n",
      "  warnings.warn(\n"
     ]
    },
    {
     "data": {
      "image/png": "[encoded data removed]",
      "text/plain": [
       "<Figure size 144x144 with 1 Axes>"
      ]
     },
     "metadata": {
      "needs_background": "light"
     },
     "output_type": "display_data"
    },
    {
     "name": "stderr",
     "output_type": "stream",
     "text": [
      "C:\\anacondaaa\\lib\\site-packages\\seaborn\\_decorators.py:36: FutureWarning: Pass the following variable as a keyword arg: x. From version 0.12, the only valid positional argument will be `data`, and passing other arguments without an explicit keyword will result in an error or misinterpretation.\n",
      "  warnings.warn(\n"
     ]
    },
    {
     "data": {
      "image/png": "[encoded data removed]",
      "text/plain": [
       "<Figure size 144x144 with 1 Axes>"
      ]
     },
     "metadata": {
      "needs_background": "light"
     },
     "output_type": "display_data"
    },
    {
     "name": "stderr",
     "output_type": "stream",
     "text": [
      "C:\\anacondaaa\\lib\\site-packages\\seaborn\\_decorators.py:36: FutureWarning: Pass the following variable as a keyword arg: x. From version 0.12, the only valid positional argument will be `data`, and passing other arguments without an explicit keyword will result in an error or misinterpretation.\n",
      "  warnings.warn(\n"
     ]
    },
    {
     "data": {
      "image/png": "[encoded data removed]",
      "text/plain": [
       "<Figure size 144x144 with 1 Axes>"
      ]
     },
     "metadata": {
      "needs_background": "light"
     },
     "output_type": "display_data"
    },
    {
     "name": "stderr",
     "output_type": "stream",
     "text": [
      "C:\\anacondaaa\\lib\\site-packages\\seaborn\\_decorators.py:36: FutureWarning: Pass the following variable as a keyword arg: x. From version 0.12, the only valid positional argument will be `data`, and passing other arguments without an explicit keyword will result in an error or misinterpretation.\n",
      "  warnings.warn(\n"
     ]
    },
    {
     "data": {
      "image/png": "[encoded data removed]",
      "text/plain": [
       "<Figure size 144x144 with 1 Axes>"
      ]
     },
     "metadata": {
      "needs_background": "light"
     },
     "output_type": "display_data"
    },
    {
     "name": "stderr",
     "output_type": "stream",
     "text": [
      "C:\\anacondaaa\\lib\\site-packages\\seaborn\\_decorators.py:36: FutureWarning: Pass the following variable as a keyword arg: x. From version 0.12, the only valid positional argument will be `data`, and passing other arguments without an explicit keyword will result in an error or misinterpretation.\n",
      "  warnings.warn(\n"
     ]
    },
    {
     "data": {
      "image/png": "[encoded data removed]",
      "text/plain": [
       "<Figure size 144x144 with 1 Axes>"
      ]
     },
     "metadata": {
      "needs_background": "light"
     },
     "output_type": "display_data"
    },
    {
     "name": "stderr",
     "output_type": "stream",
     "text": [
      "C:\\anacondaaa\\lib\\site-packages\\seaborn\\_decorators.py:36: FutureWarning: Pass the following variable as a keyword arg: x. From version 0.12, the only valid positional argument will be `data`, and passing other arguments without an explicit keyword will result in an error or misinterpretation.\n",
      "  warnings.warn(\n"
     ]
    },
    {
     "data": {
      "image/png": "[encoded data removed]",
      "text/plain": [
       "<Figure size 144x144 with 1 Axes>"
      ]
     },
     "metadata": {
      "needs_background": "light"
     },
     "output_type": "display_data"
    },
    {
     "name": "stderr",
     "output_type": "stream",
     "text": [
      "C:\\anacondaaa\\lib\\site-packages\\seaborn\\_decorators.py:36: FutureWarning: Pass the following variable as a keyword arg: x. From version 0.12, the only valid positional argument will be `data`, and passing other arguments without an explicit keyword will result in an error or misinterpretation.\n",
      "  warnings.warn(\n"
     ]
    },
    {
     "data": {
      "image/png": "[encoded data removed]",
      "text/plain": [
       "<Figure size 144x144 with 1 Axes>"
      ]
     },
     "metadata": {
      "needs_background": "light"
     },
     "output_type": "display_data"
    },
    {
     "name": "stderr",
     "output_type": "stream",
     "text": [
      "C:\\anacondaaa\\lib\\site-packages\\seaborn\\_decorators.py:36: FutureWarning: Pass the following variable as a keyword arg: x. From version 0.12, the only valid positional argument will be `data`, and passing other arguments without an explicit keyword will result in an error or misinterpretation.\n",
      "  warnings.warn(\n"
     ]
    },
    {
     "data": {
      "image/png": "[encoded data removed]",
      "text/plain": [
       "<Figure size 144x144 with 1 Axes>"
      ]
     },
     "metadata": {
      "needs_background": "light"
     },
     "output_type": "display_data"
    },
    {
     "name": "stderr",
     "output_type": "stream",
     "text": [
      "C:\\anacondaaa\\lib\\site-packages\\seaborn\\_decorators.py:36: FutureWarning: Pass the following variable as a keyword arg: x. From version 0.12, the only valid positional argument will be `data`, and passing other arguments without an explicit keyword will result in an error or misinterpretation.\n",
      "  warnings.warn(\n"
     ]
    },
    {
     "data": {
      "image/png": "[encoded data removed]",
      "text/plain": [
       "<Figure size 144x144 with 1 Axes>"
      ]
     },
     "metadata": {
      "needs_background": "light"
     },
     "output_type": "display_data"
    },
    {
     "name": "stderr",
     "output_type": "stream",
     "text": [
      "C:\\anacondaaa\\lib\\site-packages\\seaborn\\_decorators.py:36: FutureWarning: Pass the following variable as a keyword arg: x. From version 0.12, the only valid positional argument will be `data`, and passing other arguments without an explicit keyword will result in an error or misinterpretation.\n",
      "  warnings.warn(\n"
     ]
    },
    {
     "data": {
      "image/png": "[encoded data removed]",
      "text/plain": [
       "<Figure size 144x144 with 1 Axes>"
      ]
     },
     "metadata": {
      "needs_background": "light"
     },
     "output_type": "display_data"
    },
    {
     "name": "stderr",
     "output_type": "stream",
     "text": [
      "C:\\anacondaaa\\lib\\site-packages\\seaborn\\_decorators.py:36: FutureWarning: Pass the following variable as a keyword arg: x. From version 0.12, the only valid positional argument will be `data`, and passing other arguments without an explicit keyword will result in an error or misinterpretation.\n",
      "  warnings.warn(\n"
     ]
    },
    {
     "data": {
      "image/png": "[encoded data removed]",
      "text/plain": [
       "<Figure size 144x144 with 1 Axes>"
      ]
     },
     "metadata": {
      "needs_background": "light"
     },
     "output_type": "display_data"
    },
    {
     "name": "stderr",
     "output_type": "stream",
     "text": [
      "C:\\anacondaaa\\lib\\site-packages\\seaborn\\_decorators.py:36: FutureWarning: Pass the following variable as a keyword arg: x. From version 0.12, the only valid positional argument will be `data`, and passing other arguments without an explicit keyword will result in an error or misinterpretation.\n",
      "  warnings.warn(\n"
     ]
    },
    {
     "data": {
      "image/png": "[encoded data removed]",
      "text/plain": [
       "<Figure size 144x144 with 1 Axes>"
      ]
     },
     "metadata": {
      "needs_background": "light"
     },
     "output_type": "display_data"
    },
    {
     "name": "stderr",
     "output_type": "stream",
     "text": [
      "C:\\anacondaaa\\lib\\site-packages\\seaborn\\_decorators.py:36: FutureWarning: Pass the following variable as a keyword arg: x. From version 0.12, the only valid positional argument will be `data`, and passing other arguments without an explicit keyword will result in an error or misinterpretation.\n",
      "  warnings.warn(\n"
     ]
    },
    {
     "data": {
      "image/png": "[encoded data removed]",
      "text/plain": [
       "<Figure size 144x144 with 1 Axes>"
      ]
     },
     "metadata": {
      "needs_background": "light"
     },
     "output_type": "display_data"
    },
    {
     "name": "stderr",
     "output_type": "stream",
     "text": [
      "C:\\anacondaaa\\lib\\site-packages\\seaborn\\_decorators.py:36: FutureWarning: Pass the following variable as a keyword arg: x. From version 0.12, the only valid positional argument will be `data`, and passing other arguments without an explicit keyword will result in an error or misinterpretation.\n",
      "  warnings.warn(\n"
     ]
    },
    {
     "data": {
      "image/png": "[encoded data removed]",
      "text/plain": [
       "<Figure size 144x144 with 1 Axes>"
      ]
     },
     "metadata": {
      "needs_background": "light"
     },
     "output_type": "display_data"
    },
    {
     "name": "stderr",
     "output_type": "stream",
     "text": [
      "C:\\anacondaaa\\lib\\site-packages\\seaborn\\_decorators.py:36: FutureWarning: Pass the following variable as a keyword arg: x. From version 0.12, the only valid positional argument will be `data`, and passing other arguments without an explicit keyword will result in an error or misinterpretation.\n",
      "  warnings.warn(\n"
     ]
    },
    {
     "data": {
      "image/png": "[encoded data removed]",
      "text/plain": [
       "<Figure size 144x144 with 1 Axes>"
      ]
     },
     "metadata": {
      "needs_background": "light"
     },
     "output_type": "display_data"
    },
    {
     "name": "stderr",
     "output_type": "stream",
     "text": [
      "C:\\anacondaaa\\lib\\site-packages\\seaborn\\_decorators.py:36: FutureWarning: Pass the following variable as a keyword arg: x. From version 0.12, the only valid positional argument will be `data`, and passing other arguments without an explicit keyword will result in an error or misinterpretation.\n",
      "  warnings.warn(\n"
     ]
    },
    {
     "data": {
      "image/png": "[encoded data removed]",
      "text/plain": [
       "<Figure size 144x144 with 1 Axes>"
      ]
     },
     "metadata": {
      "needs_background": "light"
     },
     "output_type": "display_data"
    },
    {
     "name": "stderr",
     "output_type": "stream",
     "text": [
      "C:\\anacondaaa\\lib\\site-packages\\seaborn\\_decorators.py:36: FutureWarning: Pass the following variable as a keyword arg: x. From version 0.12, the only valid positional argument will be `data`, and passing other arguments without an explicit keyword will result in an error or misinterpretation.\n",
      "  warnings.warn(\n"
     ]
    },
    {
     "data": {
      "image/png": "[encoded data removed]",
      "text/plain": [
       "<Figure size 144x144 with 1 Axes>"
      ]
     },
     "metadata": {
      "needs_background": "light"
     },
     "output_type": "display_data"
    }
   ],
   "source": [
    "# df1  = df2[['Zip',\n",
    "#              'Lat',\n",
    "#              'Lng',\n",
    "#              'Population',\n",
    "#              'Children',\n",
    "#              'Age',\n",
    "#              'Income',\n",
    "#              'VitD_levels',\n",
    "#              'Doc_visits',\n",
    "#              'Full_meals_eaten',\n",
    "#              'VitD_supp',\n",
    "#              'Overweight',\n",
    "#              'Anxiety',\n",
    "#              'Initial_days',\n",
    "#              'TotalCharge',\n",
    "#              'Additional_charges','Item1',\n",
    "#              'Item2',\n",
    "#              'Item3',\n",
    "#              'Item4',\n",
    "#              'Item5',\n",
    "#              'Item6',\n",
    "#              'Item7',\n",
    "#              'Item8']]\n",
    "\n",
    "for i in df.columns:\n",
    "    q1=df[i].quantile(0.25)\n",
    "    q3=df[i].quantile(0.75)\n",
    "    iqr = q3-q1\n",
    "    lt=q1-2.5*iqr\n",
    "    ut=q3+2.5*iqr\n",
    "    \n",
    "    df.loc[df[i]<lt,i] = lt\n",
    "    df.loc[df[i]>ut,i] = ut\n",
    "    plt.figure(figsize = (2,2))\n",
    "    sns.boxplot(df[i])\n",
    "    plt.show()"
   ]
  },
  {
   "cell_type": "code",
   "execution_count": null,
   "id": "1b334678",
   "metadata": {},
   "outputs": [],
   "source": []
  },
  {
   "cell_type": "code",
   "execution_count": null,
   "id": "eb08070d",
   "metadata": {},
   "outputs": [],
   "source": []
  },
  {
   "cell_type": "markdown",
   "id": "2c7e8d8c",
   "metadata": {},
   "source": [
    "# feature extraction"
   ]
  },
  {
   "cell_type": "markdown",
   "id": "01c97b77",
   "metadata": {},
   "source": [
    "# pca"
   ]
  },
  {
   "cell_type": "code",
   "execution_count": 44,
   "id": "e184e98b",
   "metadata": {},
   "outputs": [],
   "source": [
    "# x = df2.drop('TotalCharge',axis=1)\n",
    "# y = df2['TotalCharge']"
   ]
  },
  {
   "cell_type": "code",
   "execution_count": 45,
   "id": "5a9a6e36",
   "metadata": {},
   "outputs": [],
   "source": [
    "# pca = PCA(n_components=25,random_state=43)\n",
    "# arr = pca.fit_transform(x)\n",
    "# arr\n"
   ]
  },
  {
   "cell_type": "code",
   "execution_count": 46,
   "id": "781f63c2",
   "metadata": {},
   "outputs": [],
   "source": [
    "# t1 = list('P'*25)\n",
    "# t2 = list('c'*25)\n",
    "# t3 = list(range(1,26))\n",
    "\n",
    "# pca_list = []\n",
    "\n",
    "# for i in range (0,25):\n",
    "#     t=t1[i]+t2[i]+str(t3[i])\n",
    "#     pca_list.append(t)\n",
    "# pca_list    "
   ]
  },
  {
   "cell_type": "code",
   "execution_count": 47,
   "id": "7bded4aa",
   "metadata": {},
   "outputs": [],
   "source": [
    "# x_pca_df = pd.DataFrame(arr,columns =pca_list )\n",
    "# x_pca_df"
   ]
  },
  {
   "cell_type": "markdown",
   "id": "65f7a623",
   "metadata": {},
   "source": [
    "# linear regression"
   ]
  },
  {
   "cell_type": "markdown",
   "id": "6d418489",
   "metadata": {},
   "source": [
    "# assumption"
   ]
  },
  {
   "cell_type": "markdown",
   "id": "7ff4ca03",
   "metadata": {},
   "source": [
    "# Linearity"
   ]
  },
  {
   "cell_type": "code",
   "execution_count": 48,
   "id": "1791ebef",
   "metadata": {},
   "outputs": [],
   "source": [
    "x = df.drop('Total_Charges',axis=1)\n",
    "y = df['Total_Charges']"
   ]
  },
  {
   "cell_type": "code",
   "execution_count": 49,
   "id": "9049fefb",
   "metadata": {},
   "outputs": [
    {
     "data": {
      "text/plain": [
       "(10000, 27)"
      ]
     },
     "execution_count": 49,
     "metadata": {},
     "output_type": "execute_result"
    }
   ],
   "source": [
    "x.shape"
   ]
  },
  {
   "cell_type": "code",
   "execution_count": 50,
   "id": "a26723b2",
   "metadata": {},
   "outputs": [
    {
     "data": {
      "text/plain": [
       "(10000,)"
      ]
     },
     "execution_count": 50,
     "metadata": {},
     "output_type": "execute_result"
    }
   ],
   "source": [
    "y.shape"
   ]
  },
  {
   "cell_type": "code",
   "execution_count": 51,
   "id": "cc6dfbed",
   "metadata": {},
   "outputs": [],
   "source": [
    "# sns.pairplot(df)"
   ]
  },
  {
   "cell_type": "code",
   "execution_count": 52,
   "id": "efc9b8d5",
   "metadata": {},
   "outputs": [
    {
     "data": {
      "text/html": [
       "<div>\n",
       "<style scoped>\n",
       "    .dataframe tbody tr th:only-of-type {\n",
       "        vertical-align: middle;\n",
       "    }\n",
       "\n",
       "    .dataframe tbody tr th {\n",
       "        vertical-align: top;\n",
       "    }\n",
       "\n",
       "    .dataframe thead th {\n",
       "        text-align: right;\n",
       "    }\n",
       "</style>\n",
       "<table border=\"1\" class=\"dataframe\">\n",
       "  <thead>\n",
       "    <tr style=\"text-align: right;\">\n",
       "      <th></th>\n",
       "      <th>Area</th>\n",
       "      <th>Children</th>\n",
       "      <th>Age</th>\n",
       "      <th>Income</th>\n",
       "      <th>Gender</th>\n",
       "      <th>ReAdmis</th>\n",
       "      <th>VitD_levels</th>\n",
       "      <th>Doc_visits</th>\n",
       "      <th>Full_meals_eaten</th>\n",
       "      <th>VitD_supp</th>\n",
       "      <th>...</th>\n",
       "      <th>Hyperlipidemia</th>\n",
       "      <th>BackPain</th>\n",
       "      <th>Anxiety</th>\n",
       "      <th>Allergic_rhinitis</th>\n",
       "      <th>Reflux_esophagitis</th>\n",
       "      <th>Asthma</th>\n",
       "      <th>Services</th>\n",
       "      <th>Initial_days</th>\n",
       "      <th>Additional_charges</th>\n",
       "      <th>Total_Charges</th>\n",
       "    </tr>\n",
       "  </thead>\n",
       "  <tbody>\n",
       "    <tr>\n",
       "      <th>Total_Charges</th>\n",
       "      <td>-0.000536</td>\n",
       "      <td>0.009712</td>\n",
       "      <td>0.740262</td>\n",
       "      <td>-0.000969</td>\n",
       "      <td>0.008364</td>\n",
       "      <td>0.01362</td>\n",
       "      <td>0.018617</td>\n",
       "      <td>0.008072</td>\n",
       "      <td>0.018763</td>\n",
       "      <td>0.010348</td>\n",
       "      <td>...</td>\n",
       "      <td>-0.002475</td>\n",
       "      <td>0.014245</td>\n",
       "      <td>0.011763</td>\n",
       "      <td>0.016154</td>\n",
       "      <td>-0.011405</td>\n",
       "      <td>0.014083</td>\n",
       "      <td>0.016715</td>\n",
       "      <td>0.005584</td>\n",
       "      <td>0.02952</td>\n",
       "      <td>1.0</td>\n",
       "    </tr>\n",
       "  </tbody>\n",
       "</table>\n",
       "<p>1 rows × 28 columns</p>\n",
       "</div>"
      ],
      "text/plain": [
       "                   Area  Children       Age    Income    Gender  ReAdmis  \\\n",
       "Total_Charges -0.000536  0.009712  0.740262 -0.000969  0.008364  0.01362   \n",
       "\n",
       "               VitD_levels  Doc_visits  Full_meals_eaten  VitD_supp  ...  \\\n",
       "Total_Charges     0.018617    0.008072          0.018763   0.010348  ...   \n",
       "\n",
       "               Hyperlipidemia  BackPain   Anxiety  Allergic_rhinitis  \\\n",
       "Total_Charges       -0.002475  0.014245  0.011763           0.016154   \n",
       "\n",
       "               Reflux_esophagitis    Asthma  Services  Initial_days  \\\n",
       "Total_Charges           -0.011405  0.014083  0.016715      0.005584   \n",
       "\n",
       "               Additional_charges  Total_Charges  \n",
       "Total_Charges             0.02952            1.0  \n",
       "\n",
       "[1 rows x 28 columns]"
      ]
     },
     "execution_count": 52,
     "metadata": {},
     "output_type": "execute_result"
    }
   ],
   "source": [
    "df.corr()[27:]"
   ]
  },
  {
   "cell_type": "code",
   "execution_count": null,
   "id": "d0e8dcca",
   "metadata": {},
   "outputs": [],
   "source": []
  },
  {
   "cell_type": "markdown",
   "id": "994f87f0",
   "metadata": {},
   "source": [
    "# independance"
   ]
  },
  {
   "cell_type": "code",
   "execution_count": 53,
   "id": "a51db2c8",
   "metadata": {},
   "outputs": [
    {
     "data": {
      "text/plain": [
       "<AxesSubplot:>"
      ]
     },
     "execution_count": 53,
     "metadata": {},
     "output_type": "execute_result"
    },
    {
     "data": {
      "image/png": "[encoded data removed]",
      "text/plain": [
       "<Figure size 1800x72 with 2 Axes>"
      ]
     },
     "metadata": {
      "needs_background": "light"
     },
     "output_type": "display_data"
    }
   ],
   "source": [
    "plt.figure(figsize=(25,1))\n",
    "sns.heatmap(df.corr()[27:],annot = True)"
   ]
  },
  {
   "cell_type": "markdown",
   "id": "f6c08587",
   "metadata": {},
   "source": [
    "# No multicolinearity"
   ]
  },
  {
   "cell_type": "code",
   "execution_count": 54,
   "id": "d8ae96bf",
   "metadata": {},
   "outputs": [
    {
     "name": "stdout",
     "output_type": "stream",
     "text": [
      "************************************* \n",
      "vif\n",
      "Area = 2.4713910385490436\n",
      "************************************* \n",
      "vif\n",
      "Children = 2.229761998229977\n",
      "************************************* \n",
      "vif\n",
      "Age = 41.59121700231933\n",
      "************************************* \n",
      "vif\n",
      "Income = 3.6133014378822\n",
      "************************************* \n",
      "vif\n",
      "Gender = 1.911154588691945\n",
      "************************************* \n",
      "vif\n",
      "ReAdmis = 5.624105026074362\n",
      "************************************* \n",
      "vif\n",
      "VitD_levels = 39.302458761037954\n",
      "************************************* \n",
      "vif\n",
      "Doc_visits = 19.251815357278165\n",
      "************************************* \n",
      "vif\n",
      "Full_meals_eaten = 1.9789937129415378\n",
      "************************************* \n",
      "vif\n",
      "VitD_supp = 1.4051148289053026\n",
      "************************************* \n",
      "vif\n",
      "Soft_drink = nan\n",
      "************************************* \n",
      "vif\n",
      "Initial_admin = 1.8364802046282227\n",
      "************************************* \n",
      "vif\n",
      "HighBlood = 6.972417099284339\n",
      "************************************* \n",
      "vif\n",
      "Stroke = nan\n"
     ]
    },
    {
     "name": "stderr",
     "output_type": "stream",
     "text": [
      "C:\\anacondaaa\\lib\\site-packages\\statsmodels\\regression\\linear_model.py:1738: RuntimeWarning: invalid value encountered in double_scalars\n",
      "  return 1 - self.ssr/self.uncentered_tss\n"
     ]
    },
    {
     "name": "stdout",
     "output_type": "stream",
     "text": [
      "************************************* \n",
      "vif\n",
      "Complication_risk = 3.3075306055431857\n",
      "************************************* \n",
      "vif\n",
      "Overweight = 3.5781221416637456\n",
      "************************************* \n",
      "vif\n",
      "Arthritis = 1.5524426059507581\n",
      "************************************* \n",
      "vif\n",
      "Diabetes = 1.3741950841227657\n",
      "************************************* \n",
      "vif\n",
      "Hyperlipidemia = 1.4988729234340936\n",
      "************************************* \n",
      "vif\n",
      "BackPain = 1.6914809957204637\n",
      "************************************* \n",
      "vif\n",
      "Anxiety = 1.5151155383955766\n",
      "************************************* \n",
      "vif\n",
      "Allergic_rhinitis = 1.6430215344992014\n",
      "************************************* \n",
      "vif\n",
      "Reflux_esophagitis = 1.6929271130645882\n",
      "************************************* \n",
      "vif\n",
      "Asthma = 1.4065528399751888\n",
      "************************************* \n",
      "vif\n",
      "Services = 1.6453510054467502\n",
      "************************************* \n",
      "vif\n",
      "Initial_days = 12.155225121189607\n",
      "************************************* \n",
      "vif\n",
      "Additional_charges = 12.6534777657409\n",
      "************************************* \n",
      "vif\n",
      "Total_Charges = 44.68471506519482\n"
     ]
    }
   ],
   "source": [
    "from statsmodels.stats.outliers_influence import variance_inflation_factor\n",
    "for i in range(len(df.columns)):\n",
    "    vif = variance_inflation_factor(df,i)\n",
    "    print('*************************************',\"\\nvif\")\n",
    "    print(f\"{df.columns[i]} = {vif}\")"
   ]
  },
  {
   "cell_type": "code",
   "execution_count": null,
   "id": "0dc9999d",
   "metadata": {},
   "outputs": [],
   "source": []
  },
  {
   "cell_type": "code",
   "execution_count": null,
   "id": "1883dc1d",
   "metadata": {},
   "outputs": [],
   "source": []
  },
  {
   "cell_type": "code",
   "execution_count": null,
   "id": "edb6d920",
   "metadata": {},
   "outputs": [],
   "source": []
  },
  {
   "cell_type": "code",
   "execution_count": null,
   "id": "0b3abe68",
   "metadata": {},
   "outputs": [],
   "source": []
  },
  {
   "cell_type": "code",
   "execution_count": null,
   "id": "16d96c72",
   "metadata": {},
   "outputs": [],
   "source": []
  },
  {
   "cell_type": "code",
   "execution_count": null,
   "id": "d36c29af",
   "metadata": {},
   "outputs": [],
   "source": []
  },
  {
   "cell_type": "code",
   "execution_count": null,
   "id": "13056387",
   "metadata": {},
   "outputs": [],
   "source": []
  },
  {
   "cell_type": "code",
   "execution_count": null,
   "id": "026aeeff",
   "metadata": {},
   "outputs": [],
   "source": []
  },
  {
   "cell_type": "code",
   "execution_count": null,
   "id": "0c8fdc06",
   "metadata": {},
   "outputs": [],
   "source": []
  },
  {
   "cell_type": "markdown",
   "id": "32266181",
   "metadata": {},
   "source": [
    "# model training"
   ]
  },
  {
   "cell_type": "code",
   "execution_count": null,
   "id": "22a3cdf9",
   "metadata": {},
   "outputs": [],
   "source": []
  },
  {
   "cell_type": "code",
   "execution_count": 55,
   "id": "cd8dbc03",
   "metadata": {},
   "outputs": [
    {
     "data": {
      "text/plain": [
       "((7000, 27), (3000, 27), (7000,), (3000,))"
      ]
     },
     "execution_count": 55,
     "metadata": {},
     "output_type": "execute_result"
    }
   ],
   "source": [
    "x_train,x_test,y_train,y_test=train_test_split(x,y,train_size=0.7,random_state=56)\n",
    "x_train.shape,x_test.shape,y_train.shape,y_test.shape"
   ]
  },
  {
   "cell_type": "code",
   "execution_count": 56,
   "id": "efcaf7d2",
   "metadata": {},
   "outputs": [
    {
     "data": {
      "text/plain": [
       "LinearRegression()"
      ]
     },
     "execution_count": 56,
     "metadata": {},
     "output_type": "execute_result"
    }
   ],
   "source": [
    "lr = LinearRegression()\n",
    "lr.fit(x_train,y_train)"
   ]
  },
  {
   "cell_type": "code",
   "execution_count": 57,
   "id": "cc3c5475",
   "metadata": {},
   "outputs": [],
   "source": [
    "from sklearn.metrics import r2_score,mean_squared_error,mean_absolute_error"
   ]
  },
  {
   "cell_type": "markdown",
   "id": "5d0082cb",
   "metadata": {},
   "source": [
    "# modeleval fun"
   ]
  },
  {
   "cell_type": "code",
   "execution_count": 58,
   "id": "01b1a3fe",
   "metadata": {},
   "outputs": [],
   "source": [
    "def model_eval(x,y,model):\n",
    "    y_pred = model.predict(x)\n",
    "    R2_score = r2_score(y,y_pred)\n",
    "    print(f'R2 SCORE = {R2_score}')\n",
    "    print('*'*50)\n",
    "    MSE = mean_squared_error(y,y_pred)\n",
    "    print(f'MSE = {MSE}')\n",
    "    print('*'*50)\n",
    "    MAE = mean_absolute_error(y,y_pred)\n",
    "    print(f'MAE= {MAE}')\n",
    "    print('*'*50)"
   ]
  },
  {
   "cell_type": "code",
   "execution_count": 59,
   "id": "56ecbb94",
   "metadata": {},
   "outputs": [
    {
     "data": {
      "text/plain": [
       "array([10157.29811249,  6599.91389663, 23852.74746744, ...,\n",
       "       12729.12762157,  3538.202234  ,  2487.29190182])"
      ]
     },
     "execution_count": 59,
     "metadata": {},
     "output_type": "execute_result"
    }
   ],
   "source": [
    "y_pred = lr.predict(x_test)\n",
    "y_pred"
   ]
  },
  {
   "cell_type": "markdown",
   "id": "adca8b89",
   "metadata": {},
   "source": [
    " "
   ]
  },
  {
   "cell_type": "code",
   "execution_count": 60,
   "id": "2e5c7491",
   "metadata": {},
   "outputs": [
    {
     "name": "stdout",
     "output_type": "stream",
     "text": [
      "R2 SCORE = 0.8925947175076107\n",
      "**************************************************\n",
      "MSE = 4586400.15757208\n",
      "**************************************************\n",
      "MAE= 1629.1518178879594\n",
      "**************************************************\n"
     ]
    }
   ],
   "source": [
    "#training accuracy\n",
    "model_eval(x_train,y_train,lr)"
   ]
  },
  {
   "cell_type": "code",
   "execution_count": 61,
   "id": "e1015fd7",
   "metadata": {},
   "outputs": [
    {
     "name": "stdout",
     "output_type": "stream",
     "text": [
      "R2 SCORE = 0.8870562050097356\n",
      "**************************************************\n",
      "MSE = 4856941.580618074\n",
      "**************************************************\n",
      "MAE= 1665.7852330942633\n",
      "**************************************************\n"
     ]
    }
   ],
   "source": [
    "# testing accuracy \n",
    "model_eval(x_test,y_test,lr)"
   ]
  },
  {
   "cell_type": "code",
   "execution_count": 62,
   "id": "961a8db5",
   "metadata": {},
   "outputs": [],
   "source": [
    "Training_acc = lr.score(x_train,y_train)\n",
    "Testing_acc = lr.score(x_test,y_test)"
   ]
  },
  {
   "cell_type": "code",
   "execution_count": 63,
   "id": "ccd4ccf5",
   "metadata": {},
   "outputs": [
    {
     "data": {
      "text/html": [
       "<div>\n",
       "<style scoped>\n",
       "    .dataframe tbody tr th:only-of-type {\n",
       "        vertical-align: middle;\n",
       "    }\n",
       "\n",
       "    .dataframe tbody tr th {\n",
       "        vertical-align: top;\n",
       "    }\n",
       "\n",
       "    .dataframe thead th {\n",
       "        text-align: right;\n",
       "    }\n",
       "</style>\n",
       "<table border=\"1\" class=\"dataframe\">\n",
       "  <thead>\n",
       "    <tr style=\"text-align: right;\">\n",
       "      <th></th>\n",
       "      <th>MODEL</th>\n",
       "      <th>Traning_acc</th>\n",
       "      <th>Testing_acc</th>\n",
       "      <th>Variance</th>\n",
       "    </tr>\n",
       "  </thead>\n",
       "  <tbody>\n",
       "    <tr>\n",
       "      <th>0</th>\n",
       "      <td>Linear_red</td>\n",
       "      <td>0.892595</td>\n",
       "      <td>0.887056</td>\n",
       "      <td>0.005539</td>\n",
       "    </tr>\n",
       "  </tbody>\n",
       "</table>\n",
       "</div>"
      ],
      "text/plain": [
       "        MODEL  Traning_acc  Testing_acc  Variance\n",
       "0  Linear_red     0.892595     0.887056  0.005539"
      ]
     },
     "execution_count": 63,
     "metadata": {},
     "output_type": "execute_result"
    }
   ],
   "source": [
    "acc_df = pd.DataFrame({'MODEL':'Linear_red','Traning_acc':Training_acc,'Testing_acc':Testing_acc,'Variance':[Training_acc-Testing_acc]})\n",
    "acc_df"
   ]
  },
  {
   "cell_type": "markdown",
   "id": "c236bbec",
   "metadata": {},
   "source": [
    "# normality"
   ]
  },
  {
   "cell_type": "code",
   "execution_count": 64,
   "id": "857a8216",
   "metadata": {},
   "outputs": [],
   "source": [
    "residual = y_test - y_pred"
   ]
  },
  {
   "cell_type": "code",
   "execution_count": 65,
   "id": "fa4fb417",
   "metadata": {},
   "outputs": [
    {
     "data": {
      "text/plain": [
       "<AxesSubplot:xlabel='Total_Charges', ylabel='Density'>"
      ]
     },
     "execution_count": 65,
     "metadata": {},
     "output_type": "execute_result"
    },
    {
     "data": {
      "image/png": "[encoded data removed]",
      "text/plain": [
       "<Figure size 432x288 with 1 Axes>"
      ]
     },
     "metadata": {
      "needs_background": "light"
     },
     "output_type": "display_data"
    }
   ],
   "source": [
    "sns.kdeplot(residual)"
   ]
  },
  {
   "cell_type": "code",
   "execution_count": 66,
   "id": "6b7d2ed1",
   "metadata": {},
   "outputs": [
    {
     "data": {
      "image/png": "[encoded data removed]",
      "text/plain": [
       "<Figure size 432x288 with 1 Axes>"
      ]
     },
     "metadata": {
      "needs_background": "light"
     },
     "output_type": "display_data"
    }
   ],
   "source": [
    "import statsmodels.api as sm\n",
    "import scipy.stats as stats\n",
    "sm.qqplot(residual,stats.norm,fit = True,line = '45')\n",
    "plt.show()"
   ]
  },
  {
   "cell_type": "code",
   "execution_count": 67,
   "id": "438021f3",
   "metadata": {},
   "outputs": [
    {
     "name": "stdout",
     "output_type": "stream",
     "text": [
      "p_value = 1.3247875287121173e-34\n",
      "Residuals are not normally distributed\n"
     ]
    }
   ],
   "source": [
    "stats,p_value = shapiro(residual)\n",
    "if p_value > 0.05 :\n",
    "    print(f\"p_value = {p_value}\")\n",
    "    print(f\"Residuals are normally distributed\")\n",
    "else:\n",
    "    print(f\"p_value = {p_value}\")\n",
    "    print(f\"Residuals are not normally distributed\")"
   ]
  },
  {
   "cell_type": "code",
   "execution_count": 68,
   "id": "82409a45",
   "metadata": {},
   "outputs": [
    {
     "name": "stdout",
     "output_type": "stream",
     "text": [
      "p_value = 0.0\n",
      "Residuals are not normally distributed\n"
     ]
    }
   ],
   "source": [
    "stats,p_value = kstest(residual,'norm')\n",
    "if p_value > 0.05 :\n",
    "    print(f\"p_value = {p_value}\")\n",
    "    print(f\"Residuals are normally distributed\")\n",
    "else:\n",
    "    print(f\"p_value = {p_value}\")\n",
    "    print(f\"Residuals are not normally distributed\")"
   ]
  },
  {
   "cell_type": "code",
   "execution_count": null,
   "id": "5af580a8",
   "metadata": {},
   "outputs": [],
   "source": []
  },
  {
   "cell_type": "code",
   "execution_count": null,
   "id": "57d842ac",
   "metadata": {},
   "outputs": [],
   "source": []
  },
  {
   "cell_type": "markdown",
   "id": "a05e65b0",
   "metadata": {},
   "source": [
    "# KNN model"
   ]
  },
  {
   "cell_type": "code",
   "execution_count": 69,
   "id": "b5cb61c4",
   "metadata": {},
   "outputs": [
    {
     "data": {
      "text/html": [
       "<div>\n",
       "<style scoped>\n",
       "    .dataframe tbody tr th:only-of-type {\n",
       "        vertical-align: middle;\n",
       "    }\n",
       "\n",
       "    .dataframe tbody tr th {\n",
       "        vertical-align: top;\n",
       "    }\n",
       "\n",
       "    .dataframe thead th {\n",
       "        text-align: right;\n",
       "    }\n",
       "</style>\n",
       "<table border=\"1\" class=\"dataframe\">\n",
       "  <thead>\n",
       "    <tr style=\"text-align: right;\">\n",
       "      <th></th>\n",
       "      <th>Area</th>\n",
       "      <th>Children</th>\n",
       "      <th>Age</th>\n",
       "      <th>Income</th>\n",
       "      <th>Gender</th>\n",
       "      <th>ReAdmis</th>\n",
       "      <th>VitD_levels</th>\n",
       "      <th>Doc_visits</th>\n",
       "      <th>Full_meals_eaten</th>\n",
       "      <th>VitD_supp</th>\n",
       "      <th>...</th>\n",
       "      <th>Diabetes</th>\n",
       "      <th>Hyperlipidemia</th>\n",
       "      <th>BackPain</th>\n",
       "      <th>Anxiety</th>\n",
       "      <th>Allergic_rhinitis</th>\n",
       "      <th>Reflux_esophagitis</th>\n",
       "      <th>Asthma</th>\n",
       "      <th>Services</th>\n",
       "      <th>Initial_days</th>\n",
       "      <th>Additional_charges</th>\n",
       "    </tr>\n",
       "  </thead>\n",
       "  <tbody>\n",
       "    <tr>\n",
       "      <th>0</th>\n",
       "      <td>0.5</td>\n",
       "      <td>0.125</td>\n",
       "      <td>0.492958</td>\n",
       "      <td>0.694807</td>\n",
       "      <td>0.5</td>\n",
       "      <td>0.0</td>\n",
       "      <td>0.448665</td>\n",
       "      <td>0.625</td>\n",
       "      <td>0.000000</td>\n",
       "      <td>0.000000</td>\n",
       "      <td>...</td>\n",
       "      <td>1.0</td>\n",
       "      <td>0.0</td>\n",
       "      <td>1.0</td>\n",
       "      <td>1.0</td>\n",
       "      <td>1.0</td>\n",
       "      <td>0.0</td>\n",
       "      <td>1.0</td>\n",
       "      <td>0.000000</td>\n",
       "      <td>0.135022</td>\n",
       "      <td>0.112051</td>\n",
       "    </tr>\n",
       "    <tr>\n",
       "      <th>1</th>\n",
       "      <td>1.0</td>\n",
       "      <td>0.375</td>\n",
       "      <td>0.464789</td>\n",
       "      <td>0.375068</td>\n",
       "      <td>0.0</td>\n",
       "      <td>0.0</td>\n",
       "      <td>0.513246</td>\n",
       "      <td>0.375</td>\n",
       "      <td>0.285714</td>\n",
       "      <td>0.285714</td>\n",
       "      <td>...</td>\n",
       "      <td>0.0</td>\n",
       "      <td>0.0</td>\n",
       "      <td>0.0</td>\n",
       "      <td>0.6</td>\n",
       "      <td>0.0</td>\n",
       "      <td>1.0</td>\n",
       "      <td>0.0</td>\n",
       "      <td>0.333333</td>\n",
       "      <td>0.199037</td>\n",
       "      <td>0.171362</td>\n",
       "    </tr>\n",
       "    <tr>\n",
       "      <th>2</th>\n",
       "      <td>0.5</td>\n",
       "      <td>0.375</td>\n",
       "      <td>0.492958</td>\n",
       "      <td>0.114293</td>\n",
       "      <td>0.0</td>\n",
       "      <td>0.0</td>\n",
       "      <td>0.427733</td>\n",
       "      <td>0.375</td>\n",
       "      <td>0.142857</td>\n",
       "      <td>0.000000</td>\n",
       "      <td>...</td>\n",
       "      <td>1.0</td>\n",
       "      <td>0.0</td>\n",
       "      <td>0.0</td>\n",
       "      <td>0.4</td>\n",
       "      <td>0.0</td>\n",
       "      <td>0.0</td>\n",
       "      <td>0.0</td>\n",
       "      <td>0.000000</td>\n",
       "      <td>0.053117</td>\n",
       "      <td>0.053343</td>\n",
       "    </tr>\n",
       "    <tr>\n",
       "      <th>3</th>\n",
       "      <td>0.5</td>\n",
       "      <td>0.000</td>\n",
       "      <td>0.845070</td>\n",
       "      <td>0.318271</td>\n",
       "      <td>0.5</td>\n",
       "      <td>0.0</td>\n",
       "      <td>0.427960</td>\n",
       "      <td>0.375</td>\n",
       "      <td>0.142857</td>\n",
       "      <td>0.000000</td>\n",
       "      <td>...</td>\n",
       "      <td>0.0</td>\n",
       "      <td>0.0</td>\n",
       "      <td>0.0</td>\n",
       "      <td>0.8</td>\n",
       "      <td>0.0</td>\n",
       "      <td>1.0</td>\n",
       "      <td>1.0</td>\n",
       "      <td>0.000000</td>\n",
       "      <td>0.010044</td>\n",
       "      <td>0.069999</td>\n",
       "    </tr>\n",
       "    <tr>\n",
       "      <th>4</th>\n",
       "      <td>0.0</td>\n",
       "      <td>0.175</td>\n",
       "      <td>0.056338</td>\n",
       "      <td>0.008486</td>\n",
       "      <td>0.0</td>\n",
       "      <td>0.0</td>\n",
       "      <td>0.398194</td>\n",
       "      <td>0.500</td>\n",
       "      <td>0.000000</td>\n",
       "      <td>0.571429</td>\n",
       "      <td>...</td>\n",
       "      <td>0.0</td>\n",
       "      <td>1.0</td>\n",
       "      <td>0.0</td>\n",
       "      <td>0.0</td>\n",
       "      <td>1.0</td>\n",
       "      <td>0.0</td>\n",
       "      <td>0.0</td>\n",
       "      <td>0.666667</td>\n",
       "      <td>0.003562</td>\n",
       "      <td>0.036432</td>\n",
       "    </tr>\n",
       "    <tr>\n",
       "      <th>...</th>\n",
       "      <td>...</td>\n",
       "      <td>...</td>\n",
       "      <td>...</td>\n",
       "      <td>...</td>\n",
       "      <td>...</td>\n",
       "      <td>...</td>\n",
       "      <td>...</td>\n",
       "      <td>...</td>\n",
       "      <td>...</td>\n",
       "      <td>...</td>\n",
       "      <td>...</td>\n",
       "      <td>...</td>\n",
       "      <td>...</td>\n",
       "      <td>...</td>\n",
       "      <td>...</td>\n",
       "      <td>...</td>\n",
       "      <td>...</td>\n",
       "      <td>...</td>\n",
       "      <td>...</td>\n",
       "      <td>...</td>\n",
       "      <td>...</td>\n",
       "    </tr>\n",
       "    <tr>\n",
       "      <th>9995</th>\n",
       "      <td>1.0</td>\n",
       "      <td>0.200</td>\n",
       "      <td>0.098592</td>\n",
       "      <td>0.368327</td>\n",
       "      <td>0.5</td>\n",
       "      <td>0.0</td>\n",
       "      <td>0.377128</td>\n",
       "      <td>0.375</td>\n",
       "      <td>0.285714</td>\n",
       "      <td>0.285714</td>\n",
       "      <td>...</td>\n",
       "      <td>0.0</td>\n",
       "      <td>0.0</td>\n",
       "      <td>0.0</td>\n",
       "      <td>1.0</td>\n",
       "      <td>0.0</td>\n",
       "      <td>1.0</td>\n",
       "      <td>0.0</td>\n",
       "      <td>0.333333</td>\n",
       "      <td>0.712308</td>\n",
       "      <td>0.312496</td>\n",
       "    </tr>\n",
       "    <tr>\n",
       "      <th>9996</th>\n",
       "      <td>1.0</td>\n",
       "      <td>0.500</td>\n",
       "      <td>0.971831</td>\n",
       "      <td>0.119220</td>\n",
       "      <td>0.5</td>\n",
       "      <td>1.0</td>\n",
       "      <td>0.483833</td>\n",
       "      <td>0.500</td>\n",
       "      <td>0.000000</td>\n",
       "      <td>0.000000</td>\n",
       "      <td>...</td>\n",
       "      <td>1.0</td>\n",
       "      <td>0.0</td>\n",
       "      <td>0.0</td>\n",
       "      <td>0.0</td>\n",
       "      <td>0.0</td>\n",
       "      <td>0.0</td>\n",
       "      <td>1.0</td>\n",
       "      <td>0.666667</td>\n",
       "      <td>0.953321</td>\n",
       "      <td>0.382026</td>\n",
       "    </tr>\n",
       "    <tr>\n",
       "      <th>9997</th>\n",
       "      <td>0.0</td>\n",
       "      <td>0.375</td>\n",
       "      <td>0.746479</td>\n",
       "      <td>0.528721</td>\n",
       "      <td>0.0</td>\n",
       "      <td>1.0</td>\n",
       "      <td>0.337650</td>\n",
       "      <td>0.375</td>\n",
       "      <td>0.285714</td>\n",
       "      <td>0.000000</td>\n",
       "      <td>...</td>\n",
       "      <td>0.0</td>\n",
       "      <td>0.0</td>\n",
       "      <td>0.0</td>\n",
       "      <td>1.0</td>\n",
       "      <td>1.0</td>\n",
       "      <td>0.0</td>\n",
       "      <td>0.0</td>\n",
       "      <td>0.333333</td>\n",
       "      <td>0.833685</td>\n",
       "      <td>0.374752</td>\n",
       "    </tr>\n",
       "    <tr>\n",
       "      <th>9998</th>\n",
       "      <td>0.0</td>\n",
       "      <td>0.375</td>\n",
       "      <td>0.352113</td>\n",
       "      <td>0.237559</td>\n",
       "      <td>0.5</td>\n",
       "      <td>1.0</td>\n",
       "      <td>0.673664</td>\n",
       "      <td>0.500</td>\n",
       "      <td>0.285714</td>\n",
       "      <td>0.285714</td>\n",
       "      <td>...</td>\n",
       "      <td>0.0</td>\n",
       "      <td>0.0</td>\n",
       "      <td>1.0</td>\n",
       "      <td>0.0</td>\n",
       "      <td>0.0</td>\n",
       "      <td>0.0</td>\n",
       "      <td>0.0</td>\n",
       "      <td>0.000000</td>\n",
       "      <td>0.878492</td>\n",
       "      <td>0.417439</td>\n",
       "    </tr>\n",
       "    <tr>\n",
       "      <th>9999</th>\n",
       "      <td>1.0</td>\n",
       "      <td>1.000</td>\n",
       "      <td>0.490141</td>\n",
       "      <td>0.502711</td>\n",
       "      <td>0.0</td>\n",
       "      <td>1.0</td>\n",
       "      <td>0.590553</td>\n",
       "      <td>0.500</td>\n",
       "      <td>0.000000</td>\n",
       "      <td>0.285714</td>\n",
       "      <td>...</td>\n",
       "      <td>0.0</td>\n",
       "      <td>1.0</td>\n",
       "      <td>0.0</td>\n",
       "      <td>0.0</td>\n",
       "      <td>1.0</td>\n",
       "      <td>0.0</td>\n",
       "      <td>0.0</td>\n",
       "      <td>0.000000</td>\n",
       "      <td>0.984067</td>\n",
       "      <td>0.431227</td>\n",
       "    </tr>\n",
       "  </tbody>\n",
       "</table>\n",
       "<p>10000 rows × 27 columns</p>\n",
       "</div>"
      ],
      "text/plain": [
       "      Area  Children       Age    Income  Gender  ReAdmis  VitD_levels  \\\n",
       "0      0.5     0.125  0.492958  0.694807     0.5      0.0     0.448665   \n",
       "1      1.0     0.375  0.464789  0.375068     0.0      0.0     0.513246   \n",
       "2      0.5     0.375  0.492958  0.114293     0.0      0.0     0.427733   \n",
       "3      0.5     0.000  0.845070  0.318271     0.5      0.0     0.427960   \n",
       "4      0.0     0.175  0.056338  0.008486     0.0      0.0     0.398194   \n",
       "...    ...       ...       ...       ...     ...      ...          ...   \n",
       "9995   1.0     0.200  0.098592  0.368327     0.5      0.0     0.377128   \n",
       "9996   1.0     0.500  0.971831  0.119220     0.5      1.0     0.483833   \n",
       "9997   0.0     0.375  0.746479  0.528721     0.0      1.0     0.337650   \n",
       "9998   0.0     0.375  0.352113  0.237559     0.5      1.0     0.673664   \n",
       "9999   1.0     1.000  0.490141  0.502711     0.0      1.0     0.590553   \n",
       "\n",
       "      Doc_visits  Full_meals_eaten  VitD_supp  ...  Diabetes  Hyperlipidemia  \\\n",
       "0          0.625          0.000000   0.000000  ...       1.0             0.0   \n",
       "1          0.375          0.285714   0.285714  ...       0.0             0.0   \n",
       "2          0.375          0.142857   0.000000  ...       1.0             0.0   \n",
       "3          0.375          0.142857   0.000000  ...       0.0             0.0   \n",
       "4          0.500          0.000000   0.571429  ...       0.0             1.0   \n",
       "...          ...               ...        ...  ...       ...             ...   \n",
       "9995       0.375          0.285714   0.285714  ...       0.0             0.0   \n",
       "9996       0.500          0.000000   0.000000  ...       1.0             0.0   \n",
       "9997       0.375          0.285714   0.000000  ...       0.0             0.0   \n",
       "9998       0.500          0.285714   0.285714  ...       0.0             0.0   \n",
       "9999       0.500          0.000000   0.285714  ...       0.0             1.0   \n",
       "\n",
       "      BackPain  Anxiety  Allergic_rhinitis  Reflux_esophagitis  Asthma  \\\n",
       "0          1.0      1.0                1.0                 0.0     1.0   \n",
       "1          0.0      0.6                0.0                 1.0     0.0   \n",
       "2          0.0      0.4                0.0                 0.0     0.0   \n",
       "3          0.0      0.8                0.0                 1.0     1.0   \n",
       "4          0.0      0.0                1.0                 0.0     0.0   \n",
       "...        ...      ...                ...                 ...     ...   \n",
       "9995       0.0      1.0                0.0                 1.0     0.0   \n",
       "9996       0.0      0.0                0.0                 0.0     1.0   \n",
       "9997       0.0      1.0                1.0                 0.0     0.0   \n",
       "9998       1.0      0.0                0.0                 0.0     0.0   \n",
       "9999       0.0      0.0                1.0                 0.0     0.0   \n",
       "\n",
       "      Services  Initial_days  Additional_charges  \n",
       "0     0.000000      0.135022            0.112051  \n",
       "1     0.333333      0.199037            0.171362  \n",
       "2     0.000000      0.053117            0.053343  \n",
       "3     0.000000      0.010044            0.069999  \n",
       "4     0.666667      0.003562            0.036432  \n",
       "...        ...           ...                 ...  \n",
       "9995  0.333333      0.712308            0.312496  \n",
       "9996  0.666667      0.953321            0.382026  \n",
       "9997  0.333333      0.833685            0.374752  \n",
       "9998  0.000000      0.878492            0.417439  \n",
       "9999  0.000000      0.984067            0.431227  \n",
       "\n",
       "[10000 rows x 27 columns]"
      ]
     },
     "execution_count": 69,
     "metadata": {},
     "output_type": "execute_result"
    }
   ],
   "source": [
    "scale = MinMaxScaler()\n",
    "arr = scale.fit_transform(x)\n",
    "scale_df_x = pd.DataFrame(arr,columns=x.columns)\n",
    "scale_df_x"
   ]
  },
  {
   "cell_type": "code",
   "execution_count": 70,
   "id": "26473d94",
   "metadata": {},
   "outputs": [],
   "source": [
    "x_train1,x_test1,y_train1,y_test1 = train_test_split(scale_df_x,y,train_size=0.7,random_state=45)"
   ]
  },
  {
   "cell_type": "code",
   "execution_count": 71,
   "id": "d5cb6d44",
   "metadata": {},
   "outputs": [
    {
     "data": {
      "text/plain": [
       "KNeighborsRegressor()"
      ]
     },
     "execution_count": 71,
     "metadata": {},
     "output_type": "execute_result"
    }
   ],
   "source": [
    "knn = KNeighborsRegressor()\n",
    "knn.fit(x_train1,y_train1)"
   ]
  },
  {
   "cell_type": "markdown",
   "id": "c8bdeb48",
   "metadata": {},
   "source": [
    "# Training eval"
   ]
  },
  {
   "cell_type": "code",
   "execution_count": 72,
   "id": "2a50ece4",
   "metadata": {},
   "outputs": [
    {
     "name": "stdout",
     "output_type": "stream",
     "text": [
      "R2 SCORE = 0.7387554237919118\n",
      "**************************************************\n",
      "MSE = 11327319.796777278\n",
      "**************************************************\n",
      "MAE= 2612.296664298057\n",
      "**************************************************\n"
     ]
    }
   ],
   "source": [
    "model_eval(x_train1,y_train1,knn)"
   ]
  },
  {
   "cell_type": "markdown",
   "id": "6b7b7904",
   "metadata": {},
   "source": [
    "# TESting eval"
   ]
  },
  {
   "cell_type": "code",
   "execution_count": 73,
   "id": "497f01cf",
   "metadata": {},
   "outputs": [
    {
     "name": "stdout",
     "output_type": "stream",
     "text": [
      "R2 SCORE = 0.592262278660628\n",
      "**************************************************\n",
      "MSE = 16907480.54209382\n",
      "**************************************************\n",
      "MAE= 3194.0109330565997\n",
      "**************************************************\n"
     ]
    }
   ],
   "source": [
    "model_eval(x_test1,y_test1,knn)"
   ]
  },
  {
   "cell_type": "code",
   "execution_count": 74,
   "id": "754b038f",
   "metadata": {},
   "outputs": [
    {
     "data": {
      "text/plain": [
       "0.7387554237919118"
      ]
     },
     "execution_count": 74,
     "metadata": {},
     "output_type": "execute_result"
    }
   ],
   "source": [
    "# Training_acc \n",
    "Training_acc=knn.score(x_train1,y_train1)\n",
    "Training_acc"
   ]
  },
  {
   "cell_type": "code",
   "execution_count": 75,
   "id": "728f4ec6",
   "metadata": {},
   "outputs": [
    {
     "data": {
      "text/plain": [
       "0.592262278660628"
      ]
     },
     "execution_count": 75,
     "metadata": {},
     "output_type": "execute_result"
    }
   ],
   "source": [
    "# Testing_acc\n",
    "Testing_acc = knn.score(x_test1,y_test1)\n",
    "Testing_acc"
   ]
  },
  {
   "cell_type": "markdown",
   "id": "6cc29277",
   "metadata": {},
   "source": [
    "# Hyperparameter tunning"
   ]
  },
  {
   "cell_type": "code",
   "execution_count": 76,
   "id": "32804271",
   "metadata": {},
   "outputs": [
    {
     "name": "stdout",
     "output_type": "stream",
     "text": [
      "KNeighborsRegressor(n_neighbors=14, p=1)\n"
     ]
    },
    {
     "data": {
      "text/plain": [
       "KNeighborsRegressor(n_neighbors=14, p=1)"
      ]
     },
     "execution_count": 76,
     "metadata": {},
     "output_type": "execute_result"
    }
   ],
   "source": [
    "hyp_knn = KNeighborsRegressor()\n",
    "hyp = {'n_neighbors': np.arange(2,20),'p':[1,2]}\n",
    "rmsv = RandomizedSearchCV(hyp_knn,hyp)\n",
    "rmsv.fit(x_train1,y_train1)\n",
    "print(rmsv.best_estimator_)\n",
    "hyp_knn=rmsv.best_estimator_\n",
    "hyp_knn.fit(x_train1,y_train1)"
   ]
  },
  {
   "cell_type": "code",
   "execution_count": 77,
   "id": "0a058d71",
   "metadata": {},
   "outputs": [
    {
     "data": {
      "text/plain": [
       "0.7209540954103419"
      ]
     },
     "execution_count": 77,
     "metadata": {},
     "output_type": "execute_result"
    }
   ],
   "source": [
    "# Training_acc \n",
    "Training_acc=hyp_knn.score(x_train1,y_train1)\n",
    "Training_acc"
   ]
  },
  {
   "cell_type": "code",
   "execution_count": 78,
   "id": "95818bf1",
   "metadata": {},
   "outputs": [
    {
     "data": {
      "text/plain": [
       "0.6633018065036407"
      ]
     },
     "execution_count": 78,
     "metadata": {},
     "output_type": "execute_result"
    }
   ],
   "source": [
    "# # Testing_acc\n",
    "Testing_acc = hyp_knn.score(x_test1,y_test1)\n",
    "Testing_acc"
   ]
  },
  {
   "cell_type": "code",
   "execution_count": null,
   "id": "6a9a06a0",
   "metadata": {},
   "outputs": [],
   "source": []
  },
  {
   "cell_type": "code",
   "execution_count": 79,
   "id": "98d7c710",
   "metadata": {},
   "outputs": [
    {
     "name": "stdout",
     "output_type": "stream",
     "text": [
      "KNeighborsRegressor(n_neighbors=14, p=1)\n"
     ]
    },
    {
     "data": {
      "text/plain": [
       "KNeighborsRegressor(n_neighbors=14, p=1)"
      ]
     },
     "execution_count": 79,
     "metadata": {},
     "output_type": "execute_result"
    }
   ],
   "source": [
    "hyp_knn = KNeighborsRegressor()\n",
    "hyp = {'n_neighbors': np.arange(2,20),'p':[1,2]}\n",
    "gscv = GridSearchCV(hyp_knn,hyp)\n",
    "gscv.fit(x_train1,y_train1)\n",
    "print(gscv.best_estimator_)\n",
    "hyp_knn=gscv.best_estimator_\n",
    "hyp_knn.fit(x_train1,y_train1)"
   ]
  },
  {
   "cell_type": "code",
   "execution_count": 80,
   "id": "4f315a7d",
   "metadata": {},
   "outputs": [
    {
     "data": {
      "text/plain": [
       "0.7209540954103419"
      ]
     },
     "execution_count": 80,
     "metadata": {},
     "output_type": "execute_result"
    }
   ],
   "source": [
    "# Training_acc \n",
    "Training_acc=hyp_knn.score(x_train1,y_train1)\n",
    "Training_acc"
   ]
  },
  {
   "cell_type": "code",
   "execution_count": 81,
   "id": "f9fa519a",
   "metadata": {},
   "outputs": [
    {
     "data": {
      "text/plain": [
       "0.6633018065036407"
      ]
     },
     "execution_count": 81,
     "metadata": {},
     "output_type": "execute_result"
    }
   ],
   "source": [
    "# # Testing_acc\n",
    "Testing_acc = hyp_knn.score(x_test1,y_test1)\n",
    "Testing_acc"
   ]
  },
  {
   "cell_type": "code",
   "execution_count": 82,
   "id": "29c9d92e",
   "metadata": {},
   "outputs": [
    {
     "data": {
      "text/html": [
       "<div>\n",
       "<style scoped>\n",
       "    .dataframe tbody tr th:only-of-type {\n",
       "        vertical-align: middle;\n",
       "    }\n",
       "\n",
       "    .dataframe tbody tr th {\n",
       "        vertical-align: top;\n",
       "    }\n",
       "\n",
       "    .dataframe thead th {\n",
       "        text-align: right;\n",
       "    }\n",
       "</style>\n",
       "<table border=\"1\" class=\"dataframe\">\n",
       "  <thead>\n",
       "    <tr style=\"text-align: right;\">\n",
       "      <th></th>\n",
       "      <th>MODEL</th>\n",
       "      <th>Traning_acc</th>\n",
       "      <th>Testing_acc</th>\n",
       "      <th>Variance</th>\n",
       "    </tr>\n",
       "  </thead>\n",
       "  <tbody>\n",
       "    <tr>\n",
       "      <th>0</th>\n",
       "      <td>Linear_red</td>\n",
       "      <td>0.892595</td>\n",
       "      <td>0.887056</td>\n",
       "      <td>0.005539</td>\n",
       "    </tr>\n",
       "    <tr>\n",
       "      <th>1</th>\n",
       "      <td>KNN</td>\n",
       "      <td>0.720954</td>\n",
       "      <td>0.663302</td>\n",
       "      <td>[0.057652288906701266]</td>\n",
       "    </tr>\n",
       "  </tbody>\n",
       "</table>\n",
       "</div>"
      ],
      "text/plain": [
       "        MODEL  Traning_acc  Testing_acc                Variance\n",
       "0  Linear_red     0.892595     0.887056                0.005539\n",
       "1         KNN     0.720954     0.663302  [0.057652288906701266]"
      ]
     },
     "execution_count": 82,
     "metadata": {},
     "output_type": "execute_result"
    }
   ],
   "source": [
    "acc_df.loc[1] =({'MODEL':'KNN','Traning_acc':Training_acc,'Testing_acc':Testing_acc,'Variance':[Training_acc-Testing_acc]})\n",
    "acc_df"
   ]
  },
  {
   "cell_type": "markdown",
   "id": "77dd3b80",
   "metadata": {},
   "source": [
    "# Dtree"
   ]
  },
  {
   "cell_type": "code",
   "execution_count": 83,
   "id": "b4d3f085",
   "metadata": {},
   "outputs": [
    {
     "data": {
      "text/plain": [
       "DecisionTreeRegressor(random_state=45)"
      ]
     },
     "execution_count": 83,
     "metadata": {},
     "output_type": "execute_result"
    }
   ],
   "source": [
    "dt = DecisionTreeRegressor(random_state=45)\n",
    "dt.fit(x_train,y_train)"
   ]
  },
  {
   "cell_type": "code",
   "execution_count": 84,
   "id": "912a3136",
   "metadata": {},
   "outputs": [
    {
     "name": "stdout",
     "output_type": "stream",
     "text": [
      "R2 SCORE = 1.0\n",
      "**************************************************\n",
      "MSE = 5.6720956289350466e-27\n",
      "**************************************************\n",
      "MAE= 1.5591337744678769e-15\n",
      "**************************************************\n"
     ]
    }
   ],
   "source": [
    "# training accuracy \n",
    "\n",
    "model_eval(x_train,y_train,dt)"
   ]
  },
  {
   "cell_type": "code",
   "execution_count": 85,
   "id": "42edb196",
   "metadata": {},
   "outputs": [
    {
     "name": "stdout",
     "output_type": "stream",
     "text": [
      "R2 SCORE = 0.888620739588149\n",
      "**************************************************\n",
      "MSE = 4789661.629126574\n",
      "**************************************************\n",
      "MAE= 919.8667572540002\n",
      "**************************************************\n"
     ]
    }
   ],
   "source": [
    "# testing accuracy \n",
    "\n",
    "model_eval(x_test,y_test,dt)"
   ]
  },
  {
   "cell_type": "markdown",
   "id": "891711dc",
   "metadata": {},
   "source": [
    "# HYPERparameter tunning"
   ]
  },
  {
   "cell_type": "code",
   "execution_count": 86,
   "id": "1a118688",
   "metadata": {},
   "outputs": [
    {
     "data": {
      "text/plain": [
       "DecisionTreeRegressor(max_depth=5, min_samples_leaf=8, min_samples_split=7)"
      ]
     },
     "execution_count": 86,
     "metadata": {},
     "output_type": "execute_result"
    }
   ],
   "source": [
    "hyp_dt = DecisionTreeRegressor()\n",
    "hyp = {'criterion':[\"squared_error\",'absolute_error'],\n",
    "        'max_depth':np.arange(3,10),\n",
    "        'min_samples_split':np.arange(2,10),\n",
    "        'min_samples_leaf':np.arange(3,10)}\n",
    "rscv_dt = RandomizedSearchCV(hyp_dt,hyp)\n",
    "rscv_dt.fit(x_train,y_train)\n",
    "rscv_dt.best_estimator_\n",
    "hyp_dt = rscv_dt.best_estimator_\n",
    "hyp_dt.fit(x_train,y_train)"
   ]
  },
  {
   "cell_type": "code",
   "execution_count": 87,
   "id": "c2e248a1",
   "metadata": {},
   "outputs": [
    {
     "name": "stdout",
     "output_type": "stream",
     "text": [
      "R2 SCORE = 0.9446565486823272\n",
      "**************************************************\n",
      "MSE = 2363265.641631205\n",
      "**************************************************\n",
      "MAE= 857.8149706828299\n",
      "**************************************************\n"
     ]
    }
   ],
   "source": [
    "# training accuracy \n",
    "\n",
    "model_eval(x_train,y_train,hyp_dt)"
   ]
  },
  {
   "cell_type": "code",
   "execution_count": 88,
   "id": "48ef3e85",
   "metadata": {},
   "outputs": [
    {
     "name": "stdout",
     "output_type": "stream",
     "text": [
      "R2 SCORE = 0.9369431885250028\n",
      "**************************************************\n",
      "MSE = 2711642.9868547274\n",
      "**************************************************\n",
      "MAE= 884.5248087887209\n",
      "**************************************************\n"
     ]
    }
   ],
   "source": [
    "# testing accuracy \n",
    "\n",
    "model_eval(x_test,y_test,hyp_dt)"
   ]
  },
  {
   "cell_type": "code",
   "execution_count": 89,
   "id": "5c9934ef",
   "metadata": {},
   "outputs": [
    {
     "name": "stdout",
     "output_type": "stream",
     "text": [
      " training acc =0.9446565486823272\n",
      " testing acc = 0.9369431885250028\n"
     ]
    }
   ],
   "source": [
    "# Training_acc \n",
    "Training_acc=hyp_dt.score(x_train,y_train)\n",
    "print(f' training acc ={Training_acc}')\n",
    "# # Testing_acc\n",
    "Testing_acc = hyp_dt.score(x_test,y_test)\n",
    "print(f' testing acc = {Testing_acc}')"
   ]
  },
  {
   "cell_type": "code",
   "execution_count": 90,
   "id": "befc2739",
   "metadata": {},
   "outputs": [
    {
     "data": {
      "text/html": [
       "<div>\n",
       "<style scoped>\n",
       "    .dataframe tbody tr th:only-of-type {\n",
       "        vertical-align: middle;\n",
       "    }\n",
       "\n",
       "    .dataframe tbody tr th {\n",
       "        vertical-align: top;\n",
       "    }\n",
       "\n",
       "    .dataframe thead th {\n",
       "        text-align: right;\n",
       "    }\n",
       "</style>\n",
       "<table border=\"1\" class=\"dataframe\">\n",
       "  <thead>\n",
       "    <tr style=\"text-align: right;\">\n",
       "      <th></th>\n",
       "      <th>MODEL</th>\n",
       "      <th>Traning_acc</th>\n",
       "      <th>Testing_acc</th>\n",
       "      <th>Variance</th>\n",
       "    </tr>\n",
       "  </thead>\n",
       "  <tbody>\n",
       "    <tr>\n",
       "      <th>0</th>\n",
       "      <td>Linear_red</td>\n",
       "      <td>0.892595</td>\n",
       "      <td>0.887056</td>\n",
       "      <td>0.005539</td>\n",
       "    </tr>\n",
       "    <tr>\n",
       "      <th>1</th>\n",
       "      <td>KNN</td>\n",
       "      <td>0.720954</td>\n",
       "      <td>0.663302</td>\n",
       "      <td>[0.057652288906701266]</td>\n",
       "    </tr>\n",
       "    <tr>\n",
       "      <th>2</th>\n",
       "      <td>DTREE</td>\n",
       "      <td>0.944657</td>\n",
       "      <td>0.936943</td>\n",
       "      <td>[0.007713360157324378]</td>\n",
       "    </tr>\n",
       "  </tbody>\n",
       "</table>\n",
       "</div>"
      ],
      "text/plain": [
       "        MODEL  Traning_acc  Testing_acc                Variance\n",
       "0  Linear_red     0.892595     0.887056                0.005539\n",
       "1         KNN     0.720954     0.663302  [0.057652288906701266]\n",
       "2       DTREE     0.944657     0.936943  [0.007713360157324378]"
      ]
     },
     "execution_count": 90,
     "metadata": {},
     "output_type": "execute_result"
    }
   ],
   "source": [
    "acc_df.loc[2] =({'MODEL':'DTREE','Traning_acc':Training_acc,'Testing_acc':Testing_acc,'Variance':[Training_acc-Testing_acc]})\n",
    "acc_df"
   ]
  },
  {
   "cell_type": "markdown",
   "id": "1dd765c8",
   "metadata": {},
   "source": [
    "# Random forest"
   ]
  },
  {
   "cell_type": "code",
   "execution_count": 91,
   "id": "9c9c5ed5",
   "metadata": {},
   "outputs": [
    {
     "data": {
      "text/plain": [
       "RandomForestRegressor()"
      ]
     },
     "execution_count": 91,
     "metadata": {},
     "output_type": "execute_result"
    }
   ],
   "source": [
    "rf = RandomForestRegressor()\n",
    "rf.fit(x_train,y_train)"
   ]
  },
  {
   "cell_type": "markdown",
   "id": "611dcbe7",
   "metadata": {},
   "source": [
    "# model eval"
   ]
  },
  {
   "cell_type": "code",
   "execution_count": 92,
   "id": "415620cd",
   "metadata": {},
   "outputs": [
    {
     "name": "stdout",
     "output_type": "stream",
     "text": [
      "R2 SCORE = 0.9927003627279769\n",
      "**************************************************\n",
      "MSE = 311707.7368796846\n",
      "**************************************************\n",
      "MAE= 279.1481209601184\n",
      "**************************************************\n"
     ]
    }
   ],
   "source": [
    "# training acc \n",
    "\n",
    "model_eval(x_train,y_train,rf)"
   ]
  },
  {
   "cell_type": "code",
   "execution_count": 93,
   "id": "28790be3",
   "metadata": {},
   "outputs": [
    {
     "name": "stdout",
     "output_type": "stream",
     "text": [
      "R2 SCORE = 0.9400979760039241\n",
      "**************************************************\n",
      "MSE = 2575977.1144116535\n",
      "**************************************************\n",
      "MAE= 775.6795446172831\n",
      "**************************************************\n"
     ]
    }
   ],
   "source": [
    "# testing acc \n",
    "\n",
    "model_eval(x_test,y_test,rf)"
   ]
  },
  {
   "cell_type": "markdown",
   "id": "bda9a837",
   "metadata": {},
   "source": [
    "# Hyperparameter tunning"
   ]
  },
  {
   "cell_type": "code",
   "execution_count": 94,
   "id": "d56341b8",
   "metadata": {},
   "outputs": [
    {
     "data": {
      "text/plain": [
       "RandomForestRegressor(criterion='absolute_error', max_depth=9,\n",
       "                      min_samples_leaf=3, min_samples_split=3, n_estimators=74,\n",
       "                      random_state=45)"
      ]
     },
     "execution_count": 94,
     "metadata": {},
     "output_type": "execute_result"
    }
   ],
   "source": [
    "rf2 = RandomForestRegressor(random_state=45)\n",
    "hype = {\"criterion\":['squared_error','absolute_error'],\n",
    "       \"max_depth\":np.arange(2,10),\n",
    "       \"min_samples_leaf\": np.arange(3,10),\n",
    "       \"min_samples_split\":np.arange(2,20),\n",
    "       \"n_estimators\":np.arange(50,100)}\n",
    "rscv_rf = RandomizedSearchCV(rf2,hype)\n",
    "rscv_rf.fit(x_train,y_train)\n",
    "rscv_rf.best_estimator_\n",
    "rf2 = rscv_rf.best_estimator_\n",
    "rf2.fit(x_train,y_train)"
   ]
  },
  {
   "cell_type": "markdown",
   "id": "f4f10924",
   "metadata": {},
   "source": [
    "# model eval"
   ]
  },
  {
   "cell_type": "code",
   "execution_count": 95,
   "id": "42be1683",
   "metadata": {},
   "outputs": [
    {
     "name": "stdout",
     "output_type": "stream",
     "text": [
      "R2 SCORE = 0.9648406944032515\n",
      "**************************************************\n",
      "MSE = 1501366.0500402183\n",
      "**************************************************\n",
      "MAE= 497.1376312218204\n",
      "**************************************************\n"
     ]
    }
   ],
   "source": [
    "# training accuracy \n",
    "\n",
    "model_eval(x_train,y_train,rf2)"
   ]
  },
  {
   "cell_type": "code",
   "execution_count": 96,
   "id": "d89e3c68",
   "metadata": {},
   "outputs": [
    {
     "name": "stdout",
     "output_type": "stream",
     "text": [
      "R2 SCORE = 0.9425330714878192\n",
      "**************************************************\n",
      "MSE = 2471260.2814990976\n",
      "**************************************************\n",
      "MAE= 665.6118953243175\n",
      "**************************************************\n"
     ]
    }
   ],
   "source": [
    "# testing accuracy \n",
    "\n",
    "model_eval(x_test,y_test,rf2)"
   ]
  },
  {
   "cell_type": "code",
   "execution_count": 97,
   "id": "b087919c",
   "metadata": {},
   "outputs": [
    {
     "name": "stdout",
     "output_type": "stream",
     "text": [
      " training acc =0.9648406944032515\n",
      " testing acc = 0.9425330714878192\n"
     ]
    }
   ],
   "source": [
    "# Training_acc \n",
    "Training_acc=rf2.score(x_train,y_train)\n",
    "print(f' training acc ={Training_acc}')\n",
    "# # Testing_acc\n",
    "Testing_acc = rf2.score(x_test,y_test)\n",
    "print(f' testing acc = {Testing_acc}')"
   ]
  },
  {
   "cell_type": "code",
   "execution_count": 98,
   "id": "bcab3a40",
   "metadata": {},
   "outputs": [
    {
     "data": {
      "text/html": [
       "<div>\n",
       "<style scoped>\n",
       "    .dataframe tbody tr th:only-of-type {\n",
       "        vertical-align: middle;\n",
       "    }\n",
       "\n",
       "    .dataframe tbody tr th {\n",
       "        vertical-align: top;\n",
       "    }\n",
       "\n",
       "    .dataframe thead th {\n",
       "        text-align: right;\n",
       "    }\n",
       "</style>\n",
       "<table border=\"1\" class=\"dataframe\">\n",
       "  <thead>\n",
       "    <tr style=\"text-align: right;\">\n",
       "      <th></th>\n",
       "      <th>MODEL</th>\n",
       "      <th>Traning_acc</th>\n",
       "      <th>Testing_acc</th>\n",
       "      <th>Variance</th>\n",
       "    </tr>\n",
       "  </thead>\n",
       "  <tbody>\n",
       "    <tr>\n",
       "      <th>0</th>\n",
       "      <td>Linear_red</td>\n",
       "      <td>0.892595</td>\n",
       "      <td>0.887056</td>\n",
       "      <td>0.005539</td>\n",
       "    </tr>\n",
       "    <tr>\n",
       "      <th>1</th>\n",
       "      <td>KNN</td>\n",
       "      <td>0.720954</td>\n",
       "      <td>0.663302</td>\n",
       "      <td>[0.057652288906701266]</td>\n",
       "    </tr>\n",
       "    <tr>\n",
       "      <th>2</th>\n",
       "      <td>DTREE</td>\n",
       "      <td>0.944657</td>\n",
       "      <td>0.936943</td>\n",
       "      <td>[0.007713360157324378]</td>\n",
       "    </tr>\n",
       "    <tr>\n",
       "      <th>3</th>\n",
       "      <td>Random Forest</td>\n",
       "      <td>0.964841</td>\n",
       "      <td>0.942533</td>\n",
       "      <td>[0.022307622915432312]</td>\n",
       "    </tr>\n",
       "  </tbody>\n",
       "</table>\n",
       "</div>"
      ],
      "text/plain": [
       "           MODEL  Traning_acc  Testing_acc                Variance\n",
       "0     Linear_red     0.892595     0.887056                0.005539\n",
       "1            KNN     0.720954     0.663302  [0.057652288906701266]\n",
       "2          DTREE     0.944657     0.936943  [0.007713360157324378]\n",
       "3  Random Forest     0.964841     0.942533  [0.022307622915432312]"
      ]
     },
     "execution_count": 98,
     "metadata": {},
     "output_type": "execute_result"
    }
   ],
   "source": [
    "acc_df.loc[3] =({'MODEL':'Random Forest','Traning_acc':Training_acc,'Testing_acc':Testing_acc,'Variance':[Training_acc-Testing_acc]})\n",
    "acc_df"
   ]
  },
  {
   "cell_type": "markdown",
   "id": "509f8e74",
   "metadata": {},
   "source": [
    "# feature selection"
   ]
  },
  {
   "cell_type": "code",
   "execution_count": 99,
   "id": "902dc49f",
   "metadata": {},
   "outputs": [
    {
     "data": {
      "text/plain": [
       "array([3.97738969e-04, 1.56884486e-03, 6.23268998e-01, 3.17737336e-03,\n",
       "       4.00806942e-04, 1.13137090e-04, 2.53079703e-03, 6.46080971e-04,\n",
       "       5.95173240e-04, 6.44379864e-04, 0.00000000e+00, 9.87839850e-03,\n",
       "       3.40721864e-01, 0.00000000e+00, 7.71561674e-03, 3.00098611e-04,\n",
       "       2.07646270e-04, 2.63190258e-04, 2.12642813e-04, 2.23119841e-04,\n",
       "       4.90968127e-04, 2.31643351e-04, 2.14309183e-04, 1.99740660e-04,\n",
       "       5.97774316e-04, 2.63429817e-03, 2.76535865e-03])"
      ]
     },
     "execution_count": 99,
     "metadata": {},
     "output_type": "execute_result"
    }
   ],
   "source": [
    "rf2.feature_importances_"
   ]
  },
  {
   "cell_type": "code",
   "execution_count": 100,
   "id": "9917322e",
   "metadata": {},
   "outputs": [
    {
     "data": {
      "text/plain": [
       "Stroke                0.000000\n",
       "Soft_drink            0.000000\n",
       "ReAdmis               0.000113\n",
       "Asthma                0.000200\n",
       "Arthritis             0.000208\n",
       "Hyperlipidemia        0.000213\n",
       "Reflux_esophagitis    0.000214\n",
       "BackPain              0.000223\n",
       "Allergic_rhinitis     0.000232\n",
       "Diabetes              0.000263\n",
       "Overweight            0.000300\n",
       "Area                  0.000398\n",
       "Gender                0.000401\n",
       "Anxiety               0.000491\n",
       "Full_meals_eaten      0.000595\n",
       "Services              0.000598\n",
       "VitD_supp             0.000644\n",
       "Doc_visits            0.000646\n",
       "Children              0.001569\n",
       "VitD_levels           0.002531\n",
       "Initial_days          0.002634\n",
       "Additional_charges    0.002765\n",
       "Income                0.003177\n",
       "Complication_risk     0.007716\n",
       "Initial_admin         0.009878\n",
       "HighBlood             0.340722\n",
       "Age                   0.623269\n",
       "dtype: float64"
      ]
     },
     "execution_count": 100,
     "metadata": {},
     "output_type": "execute_result"
    }
   ],
   "source": [
    "s = pd.Series(rf2.feature_importances_,index=x.columns)\n",
    "s.sort_values()"
   ]
  },
  {
   "cell_type": "code",
   "execution_count": 101,
   "id": "113af0d0",
   "metadata": {},
   "outputs": [],
   "source": [
    "df2 = x.drop(['Stroke','Soft_drink','ReAdmis','Reflux_esophagitis','Allergic_rhinitis','Diabetes','Hyperlipidemia','Asthma','Arthritis','Gender'],axis=1)"
   ]
  },
  {
   "cell_type": "code",
   "execution_count": 102,
   "id": "28cc1106",
   "metadata": {},
   "outputs": [
    {
     "data": {
      "text/html": [
       "<div>\n",
       "<style scoped>\n",
       "    .dataframe tbody tr th:only-of-type {\n",
       "        vertical-align: middle;\n",
       "    }\n",
       "\n",
       "    .dataframe tbody tr th {\n",
       "        vertical-align: top;\n",
       "    }\n",
       "\n",
       "    .dataframe thead th {\n",
       "        text-align: right;\n",
       "    }\n",
       "</style>\n",
       "<table border=\"1\" class=\"dataframe\">\n",
       "  <thead>\n",
       "    <tr style=\"text-align: right;\">\n",
       "      <th></th>\n",
       "      <th>Area</th>\n",
       "      <th>Children</th>\n",
       "      <th>Age</th>\n",
       "      <th>Income</th>\n",
       "      <th>VitD_levels</th>\n",
       "      <th>Doc_visits</th>\n",
       "      <th>Full_meals_eaten</th>\n",
       "      <th>VitD_supp</th>\n",
       "      <th>Initial_admin</th>\n",
       "      <th>HighBlood</th>\n",
       "      <th>Complication_risk</th>\n",
       "      <th>Overweight</th>\n",
       "      <th>BackPain</th>\n",
       "      <th>Anxiety</th>\n",
       "      <th>Services</th>\n",
       "      <th>Initial_days</th>\n",
       "      <th>Additional_charges</th>\n",
       "    </tr>\n",
       "  </thead>\n",
       "  <tbody>\n",
       "    <tr>\n",
       "      <th>0</th>\n",
       "      <td>1.0</td>\n",
       "      <td>1.0</td>\n",
       "      <td>53.0</td>\n",
       "      <td>86575.93</td>\n",
       "      <td>17.802330</td>\n",
       "      <td>6.0</td>\n",
       "      <td>0.0</td>\n",
       "      <td>0.0</td>\n",
       "      <td>0.0</td>\n",
       "      <td>1.0</td>\n",
       "      <td>1.0</td>\n",
       "      <td>0.0</td>\n",
       "      <td>1.0</td>\n",
       "      <td>1.0</td>\n",
       "      <td>0.0</td>\n",
       "      <td>10.585770</td>\n",
       "      <td>3191.048774</td>\n",
       "    </tr>\n",
       "    <tr>\n",
       "      <th>1</th>\n",
       "      <td>2.0</td>\n",
       "      <td>3.0</td>\n",
       "      <td>51.0</td>\n",
       "      <td>46805.99</td>\n",
       "      <td>18.994640</td>\n",
       "      <td>4.0</td>\n",
       "      <td>2.0</td>\n",
       "      <td>1.0</td>\n",
       "      <td>0.0</td>\n",
       "      <td>1.0</td>\n",
       "      <td>2.0</td>\n",
       "      <td>1.0</td>\n",
       "      <td>0.0</td>\n",
       "      <td>0.6</td>\n",
       "      <td>1.0</td>\n",
       "      <td>15.129562</td>\n",
       "      <td>4214.905346</td>\n",
       "    </tr>\n",
       "    <tr>\n",
       "      <th>2</th>\n",
       "      <td>1.0</td>\n",
       "      <td>3.0</td>\n",
       "      <td>53.0</td>\n",
       "      <td>14370.14</td>\n",
       "      <td>17.415889</td>\n",
       "      <td>4.0</td>\n",
       "      <td>1.0</td>\n",
       "      <td>0.0</td>\n",
       "      <td>1.0</td>\n",
       "      <td>1.0</td>\n",
       "      <td>1.0</td>\n",
       "      <td>1.0</td>\n",
       "      <td>0.0</td>\n",
       "      <td>0.4</td>\n",
       "      <td>0.0</td>\n",
       "      <td>4.772177</td>\n",
       "      <td>2177.586768</td>\n",
       "    </tr>\n",
       "    <tr>\n",
       "      <th>3</th>\n",
       "      <td>1.0</td>\n",
       "      <td>0.0</td>\n",
       "      <td>78.0</td>\n",
       "      <td>39741.49</td>\n",
       "      <td>17.420079</td>\n",
       "      <td>4.0</td>\n",
       "      <td>1.0</td>\n",
       "      <td>0.0</td>\n",
       "      <td>1.0</td>\n",
       "      <td>0.0</td>\n",
       "      <td>1.0</td>\n",
       "      <td>0.0</td>\n",
       "      <td>0.0</td>\n",
       "      <td>0.8</td>\n",
       "      <td>0.0</td>\n",
       "      <td>1.714879</td>\n",
       "      <td>2465.118965</td>\n",
       "    </tr>\n",
       "    <tr>\n",
       "      <th>4</th>\n",
       "      <td>0.0</td>\n",
       "      <td>1.4</td>\n",
       "      <td>22.0</td>\n",
       "      <td>1209.56</td>\n",
       "      <td>16.870524</td>\n",
       "      <td>5.0</td>\n",
       "      <td>0.0</td>\n",
       "      <td>2.0</td>\n",
       "      <td>1.0</td>\n",
       "      <td>0.0</td>\n",
       "      <td>0.0</td>\n",
       "      <td>0.0</td>\n",
       "      <td>0.0</td>\n",
       "      <td>0.0</td>\n",
       "      <td>2.0</td>\n",
       "      <td>1.254807</td>\n",
       "      <td>1885.655137</td>\n",
       "    </tr>\n",
       "    <tr>\n",
       "      <th>...</th>\n",
       "      <td>...</td>\n",
       "      <td>...</td>\n",
       "      <td>...</td>\n",
       "      <td>...</td>\n",
       "      <td>...</td>\n",
       "      <td>...</td>\n",
       "      <td>...</td>\n",
       "      <td>...</td>\n",
       "      <td>...</td>\n",
       "      <td>...</td>\n",
       "      <td>...</td>\n",
       "      <td>...</td>\n",
       "      <td>...</td>\n",
       "      <td>...</td>\n",
       "      <td>...</td>\n",
       "      <td>...</td>\n",
       "      <td>...</td>\n",
       "    </tr>\n",
       "    <tr>\n",
       "      <th>9995</th>\n",
       "      <td>2.0</td>\n",
       "      <td>1.6</td>\n",
       "      <td>25.0</td>\n",
       "      <td>45967.61</td>\n",
       "      <td>16.481612</td>\n",
       "      <td>4.0</td>\n",
       "      <td>2.0</td>\n",
       "      <td>1.0</td>\n",
       "      <td>0.0</td>\n",
       "      <td>1.0</td>\n",
       "      <td>1.0</td>\n",
       "      <td>1.0</td>\n",
       "      <td>0.0</td>\n",
       "      <td>1.0</td>\n",
       "      <td>1.0</td>\n",
       "      <td>51.561217</td>\n",
       "      <td>6651.241294</td>\n",
       "    </tr>\n",
       "    <tr>\n",
       "      <th>9996</th>\n",
       "      <td>2.0</td>\n",
       "      <td>4.0</td>\n",
       "      <td>87.0</td>\n",
       "      <td>14983.02</td>\n",
       "      <td>18.451601</td>\n",
       "      <td>5.0</td>\n",
       "      <td>0.0</td>\n",
       "      <td>0.0</td>\n",
       "      <td>1.0</td>\n",
       "      <td>1.0</td>\n",
       "      <td>1.0</td>\n",
       "      <td>1.0</td>\n",
       "      <td>0.0</td>\n",
       "      <td>0.0</td>\n",
       "      <td>2.0</td>\n",
       "      <td>68.668237</td>\n",
       "      <td>7851.522660</td>\n",
       "    </tr>\n",
       "    <tr>\n",
       "      <th>9997</th>\n",
       "      <td>0.0</td>\n",
       "      <td>3.0</td>\n",
       "      <td>71.0</td>\n",
       "      <td>65917.81</td>\n",
       "      <td>15.752751</td>\n",
       "      <td>4.0</td>\n",
       "      <td>2.0</td>\n",
       "      <td>0.0</td>\n",
       "      <td>1.0</td>\n",
       "      <td>1.0</td>\n",
       "      <td>2.0</td>\n",
       "      <td>1.0</td>\n",
       "      <td>0.0</td>\n",
       "      <td>1.0</td>\n",
       "      <td>1.0</td>\n",
       "      <td>60.176523</td>\n",
       "      <td>7725.953391</td>\n",
       "    </tr>\n",
       "    <tr>\n",
       "      <th>9998</th>\n",
       "      <td>0.0</td>\n",
       "      <td>3.0</td>\n",
       "      <td>43.0</td>\n",
       "      <td>29702.32</td>\n",
       "      <td>21.956305</td>\n",
       "      <td>5.0</td>\n",
       "      <td>2.0</td>\n",
       "      <td>1.0</td>\n",
       "      <td>0.0</td>\n",
       "      <td>0.0</td>\n",
       "      <td>1.0</td>\n",
       "      <td>1.0</td>\n",
       "      <td>1.0</td>\n",
       "      <td>0.0</td>\n",
       "      <td>0.0</td>\n",
       "      <td>63.356903</td>\n",
       "      <td>8462.831883</td>\n",
       "    </tr>\n",
       "    <tr>\n",
       "      <th>9999</th>\n",
       "      <td>2.0</td>\n",
       "      <td>8.0</td>\n",
       "      <td>52.8</td>\n",
       "      <td>62682.63</td>\n",
       "      <td>20.421883</td>\n",
       "      <td>5.0</td>\n",
       "      <td>0.0</td>\n",
       "      <td>1.0</td>\n",
       "      <td>2.0</td>\n",
       "      <td>0.0</td>\n",
       "      <td>0.0</td>\n",
       "      <td>1.0</td>\n",
       "      <td>0.0</td>\n",
       "      <td>0.0</td>\n",
       "      <td>0.0</td>\n",
       "      <td>70.850592</td>\n",
       "      <td>8700.856021</td>\n",
       "    </tr>\n",
       "  </tbody>\n",
       "</table>\n",
       "<p>10000 rows × 17 columns</p>\n",
       "</div>"
      ],
      "text/plain": [
       "      Area  Children   Age    Income  VitD_levels  Doc_visits  \\\n",
       "0      1.0       1.0  53.0  86575.93    17.802330         6.0   \n",
       "1      2.0       3.0  51.0  46805.99    18.994640         4.0   \n",
       "2      1.0       3.0  53.0  14370.14    17.415889         4.0   \n",
       "3      1.0       0.0  78.0  39741.49    17.420079         4.0   \n",
       "4      0.0       1.4  22.0   1209.56    16.870524         5.0   \n",
       "...    ...       ...   ...       ...          ...         ...   \n",
       "9995   2.0       1.6  25.0  45967.61    16.481612         4.0   \n",
       "9996   2.0       4.0  87.0  14983.02    18.451601         5.0   \n",
       "9997   0.0       3.0  71.0  65917.81    15.752751         4.0   \n",
       "9998   0.0       3.0  43.0  29702.32    21.956305         5.0   \n",
       "9999   2.0       8.0  52.8  62682.63    20.421883         5.0   \n",
       "\n",
       "      Full_meals_eaten  VitD_supp  Initial_admin  HighBlood  \\\n",
       "0                  0.0        0.0            0.0        1.0   \n",
       "1                  2.0        1.0            0.0        1.0   \n",
       "2                  1.0        0.0            1.0        1.0   \n",
       "3                  1.0        0.0            1.0        0.0   \n",
       "4                  0.0        2.0            1.0        0.0   \n",
       "...                ...        ...            ...        ...   \n",
       "9995               2.0        1.0            0.0        1.0   \n",
       "9996               0.0        0.0            1.0        1.0   \n",
       "9997               2.0        0.0            1.0        1.0   \n",
       "9998               2.0        1.0            0.0        0.0   \n",
       "9999               0.0        1.0            2.0        0.0   \n",
       "\n",
       "      Complication_risk  Overweight  BackPain  Anxiety  Services  \\\n",
       "0                   1.0         0.0       1.0      1.0       0.0   \n",
       "1                   2.0         1.0       0.0      0.6       1.0   \n",
       "2                   1.0         1.0       0.0      0.4       0.0   \n",
       "3                   1.0         0.0       0.0      0.8       0.0   \n",
       "4                   0.0         0.0       0.0      0.0       2.0   \n",
       "...                 ...         ...       ...      ...       ...   \n",
       "9995                1.0         1.0       0.0      1.0       1.0   \n",
       "9996                1.0         1.0       0.0      0.0       2.0   \n",
       "9997                2.0         1.0       0.0      1.0       1.0   \n",
       "9998                1.0         1.0       1.0      0.0       0.0   \n",
       "9999                0.0         1.0       0.0      0.0       0.0   \n",
       "\n",
       "      Initial_days  Additional_charges  \n",
       "0        10.585770         3191.048774  \n",
       "1        15.129562         4214.905346  \n",
       "2         4.772177         2177.586768  \n",
       "3         1.714879         2465.118965  \n",
       "4         1.254807         1885.655137  \n",
       "...            ...                 ...  \n",
       "9995     51.561217         6651.241294  \n",
       "9996     68.668237         7851.522660  \n",
       "9997     60.176523         7725.953391  \n",
       "9998     63.356903         8462.831883  \n",
       "9999     70.850592         8700.856021  \n",
       "\n",
       "[10000 rows x 17 columns]"
      ]
     },
     "execution_count": 102,
     "metadata": {},
     "output_type": "execute_result"
    }
   ],
   "source": [
    "df2"
   ]
  },
  {
   "cell_type": "code",
   "execution_count": 103,
   "id": "c9c0c5a0",
   "metadata": {},
   "outputs": [],
   "source": [
    "x_train2,x_test2,y_train2,y_test2 = train_test_split(df2,y,train_size=0.7,random_state=45)"
   ]
  },
  {
   "cell_type": "code",
   "execution_count": 104,
   "id": "c153049b",
   "metadata": {},
   "outputs": [
    {
     "data": {
      "text/plain": [
       "((7000, 17), (3000, 17), (7000,), (3000,))"
      ]
     },
     "execution_count": 104,
     "metadata": {},
     "output_type": "execute_result"
    }
   ],
   "source": [
    "x_train2.shape,x_test2.shape,y_train2.shape,y_test2.shape"
   ]
  },
  {
   "cell_type": "code",
   "execution_count": 105,
   "id": "3ec62835",
   "metadata": {},
   "outputs": [
    {
     "data": {
      "text/plain": [
       "RandomForestRegressor(max_depth=7, min_samples_leaf=5, min_samples_split=13,\n",
       "                      n_estimators=95, random_state=45)"
      ]
     },
     "execution_count": 105,
     "metadata": {},
     "output_type": "execute_result"
    }
   ],
   "source": [
    "rf3 = RandomForestRegressor(max_depth=7, min_samples_leaf=5, min_samples_split=13,\n",
    "                      n_estimators=95, random_state=45)\n",
    "rf3.fit(x_train2,y_train2)"
   ]
  },
  {
   "cell_type": "markdown",
   "id": "838f5712",
   "metadata": {},
   "source": [
    "# training accuracy"
   ]
  },
  {
   "cell_type": "code",
   "execution_count": 106,
   "id": "44392859",
   "metadata": {},
   "outputs": [
    {
     "name": "stdout",
     "output_type": "stream",
     "text": [
      "R2 SCORE = 0.958505518129782\n",
      "**************************************************\n",
      "MSE = 1799161.8152146882\n",
      "**************************************************\n",
      "MAE= 701.7207243120433\n",
      "**************************************************\n"
     ]
    }
   ],
   "source": [
    "model_eval(x_train2,y_train2,rf3)"
   ]
  },
  {
   "cell_type": "markdown",
   "id": "ded6cbb6",
   "metadata": {},
   "source": [
    "# testing accuracy"
   ]
  },
  {
   "cell_type": "code",
   "execution_count": 107,
   "id": "1d52a445",
   "metadata": {},
   "outputs": [
    {
     "name": "stdout",
     "output_type": "stream",
     "text": [
      "R2 SCORE = 0.9392940399543722\n",
      "**************************************************\n",
      "MSE = 2517267.3131370298\n",
      "**************************************************\n",
      "MAE= 789.8645637626514\n",
      "**************************************************\n"
     ]
    }
   ],
   "source": [
    "model_eval(x_test2,y_test2,rf3)"
   ]
  },
  {
   "cell_type": "code",
   "execution_count": 108,
   "id": "39c7af8c",
   "metadata": {},
   "outputs": [
    {
     "name": "stdout",
     "output_type": "stream",
     "text": [
      " training acc =0.958505518129782\n",
      " testing acc = 0.9392940399543722\n"
     ]
    }
   ],
   "source": [
    "# Training_acc \n",
    "Training_acc=rf3.score(x_train2,y_train2)\n",
    "print(f' training acc ={Training_acc}')\n",
    "# # Testing_acc\n",
    "Testing_acc = rf3.score(x_test2,y_test2)\n",
    "print(f' testing acc = {Testing_acc}')"
   ]
  },
  {
   "cell_type": "code",
   "execution_count": 109,
   "id": "e33db2c9",
   "metadata": {},
   "outputs": [
    {
     "data": {
      "text/html": [
       "<div>\n",
       "<style scoped>\n",
       "    .dataframe tbody tr th:only-of-type {\n",
       "        vertical-align: middle;\n",
       "    }\n",
       "\n",
       "    .dataframe tbody tr th {\n",
       "        vertical-align: top;\n",
       "    }\n",
       "\n",
       "    .dataframe thead th {\n",
       "        text-align: right;\n",
       "    }\n",
       "</style>\n",
       "<table border=\"1\" class=\"dataframe\">\n",
       "  <thead>\n",
       "    <tr style=\"text-align: right;\">\n",
       "      <th></th>\n",
       "      <th>MODEL</th>\n",
       "      <th>Traning_acc</th>\n",
       "      <th>Testing_acc</th>\n",
       "      <th>Variance</th>\n",
       "    </tr>\n",
       "  </thead>\n",
       "  <tbody>\n",
       "    <tr>\n",
       "      <th>0</th>\n",
       "      <td>Linear_red</td>\n",
       "      <td>0.892595</td>\n",
       "      <td>0.887056</td>\n",
       "      <td>0.005539</td>\n",
       "    </tr>\n",
       "    <tr>\n",
       "      <th>1</th>\n",
       "      <td>KNN</td>\n",
       "      <td>0.720954</td>\n",
       "      <td>0.663302</td>\n",
       "      <td>[0.057652288906701266]</td>\n",
       "    </tr>\n",
       "    <tr>\n",
       "      <th>2</th>\n",
       "      <td>DTREE</td>\n",
       "      <td>0.944657</td>\n",
       "      <td>0.936943</td>\n",
       "      <td>[0.007713360157324378]</td>\n",
       "    </tr>\n",
       "    <tr>\n",
       "      <th>3</th>\n",
       "      <td>Random Forest</td>\n",
       "      <td>0.964841</td>\n",
       "      <td>0.942533</td>\n",
       "      <td>[0.022307622915432312]</td>\n",
       "    </tr>\n",
       "    <tr>\n",
       "      <th>4</th>\n",
       "      <td>Random Forest After Feature selection</td>\n",
       "      <td>0.958506</td>\n",
       "      <td>0.939294</td>\n",
       "      <td>[0.019211478175409802]</td>\n",
       "    </tr>\n",
       "  </tbody>\n",
       "</table>\n",
       "</div>"
      ],
      "text/plain": [
       "                                   MODEL  Traning_acc  Testing_acc  \\\n",
       "0                             Linear_red     0.892595     0.887056   \n",
       "1                                    KNN     0.720954     0.663302   \n",
       "2                                  DTREE     0.944657     0.936943   \n",
       "3                          Random Forest     0.964841     0.942533   \n",
       "4  Random Forest After Feature selection     0.958506     0.939294   \n",
       "\n",
       "                 Variance  \n",
       "0                0.005539  \n",
       "1  [0.057652288906701266]  \n",
       "2  [0.007713360157324378]  \n",
       "3  [0.022307622915432312]  \n",
       "4  [0.019211478175409802]  "
      ]
     },
     "execution_count": 109,
     "metadata": {},
     "output_type": "execute_result"
    }
   ],
   "source": [
    "acc_df.loc[4] =({'MODEL':'Random Forest After Feature selection','Traning_acc':Training_acc,'Testing_acc':Testing_acc,'Variance':[Training_acc-Testing_acc]})\n",
    "acc_df"
   ]
  },
  {
   "cell_type": "markdown",
   "id": "c2d6fc5f",
   "metadata": {},
   "source": [
    "# Hyperparameter tunning"
   ]
  },
  {
   "cell_type": "code",
   "execution_count": 110,
   "id": "3c9eacab",
   "metadata": {},
   "outputs": [
    {
     "data": {
      "text/plain": [
       "RandomForestRegressor(max_depth=8, min_samples_leaf=5, min_samples_split=10,\n",
       "                      n_estimators=69, random_state=45)"
      ]
     },
     "execution_count": 110,
     "metadata": {},
     "output_type": "execute_result"
    }
   ],
   "source": [
    "final_rf = RandomForestRegressor(random_state=45)\n",
    "hype = {\"criterion\":['squared_error','absolute_error'],\n",
    "       \"max_depth\":np.arange(2,10),\n",
    "       \"min_samples_leaf\": np.arange(3,10),\n",
    "       \"min_samples_split\":np.arange(2,20),\n",
    "       \"n_estimators\":np.arange(50,100)}\n",
    "rscv_rf = RandomizedSearchCV(final_rf,hype)\n",
    "rscv_rf.fit(x_train2,y_train2)\n",
    "rscv_rf.best_estimator_\n",
    "final_rf = rscv_rf.best_estimator_\n",
    "final_rf.fit(x_train2,y_train2)"
   ]
  },
  {
   "cell_type": "markdown",
   "id": "3bfffd18",
   "metadata": {},
   "source": [
    "# training accuracy"
   ]
  },
  {
   "cell_type": "code",
   "execution_count": 111,
   "id": "4b3689d7",
   "metadata": {},
   "outputs": [
    {
     "name": "stdout",
     "output_type": "stream",
     "text": [
      "R2 SCORE = 0.9638651217274213\n",
      "**************************************************\n",
      "MSE = 1566774.4301228663\n",
      "**************************************************\n",
      "MAE= 643.1045134399641\n",
      "**************************************************\n"
     ]
    }
   ],
   "source": [
    "model_eval(x_train2,y_train2,final_rf)"
   ]
  },
  {
   "cell_type": "markdown",
   "id": "3951c020",
   "metadata": {},
   "source": [
    "# testing accuracy"
   ]
  },
  {
   "cell_type": "code",
   "execution_count": 112,
   "id": "daf10404",
   "metadata": {},
   "outputs": [
    {
     "name": "stdout",
     "output_type": "stream",
     "text": [
      "R2 SCORE = 0.9395732791825321\n",
      "**************************************************\n",
      "MSE = 2505688.223026864\n",
      "**************************************************\n",
      "MAE= 775.9277685796038\n",
      "**************************************************\n"
     ]
    }
   ],
   "source": [
    "model_eval(x_test2,y_test2,final_rf)"
   ]
  },
  {
   "cell_type": "code",
   "execution_count": 113,
   "id": "fa16bc12",
   "metadata": {},
   "outputs": [
    {
     "name": "stdout",
     "output_type": "stream",
     "text": [
      " training acc =0.9638651217274213\n",
      " testing acc = 0.9395732791825321\n"
     ]
    }
   ],
   "source": [
    "# Training_acc \n",
    "Training_acc=final_rf.score(x_train2,y_train2)\n",
    "print(f' training acc ={Training_acc}')\n",
    "# # Testing_acc\n",
    "Testing_acc = final_rf.score(x_test2,y_test2)\n",
    "print(f' testing acc = {Testing_acc}')"
   ]
  },
  {
   "cell_type": "code",
   "execution_count": 114,
   "id": "bcb3c9da",
   "metadata": {},
   "outputs": [
    {
     "data": {
      "text/html": [
       "<div>\n",
       "<style scoped>\n",
       "    .dataframe tbody tr th:only-of-type {\n",
       "        vertical-align: middle;\n",
       "    }\n",
       "\n",
       "    .dataframe tbody tr th {\n",
       "        vertical-align: top;\n",
       "    }\n",
       "\n",
       "    .dataframe thead th {\n",
       "        text-align: right;\n",
       "    }\n",
       "</style>\n",
       "<table border=\"1\" class=\"dataframe\">\n",
       "  <thead>\n",
       "    <tr style=\"text-align: right;\">\n",
       "      <th></th>\n",
       "      <th>MODEL</th>\n",
       "      <th>Traning_acc</th>\n",
       "      <th>Testing_acc</th>\n",
       "      <th>Variance</th>\n",
       "    </tr>\n",
       "  </thead>\n",
       "  <tbody>\n",
       "    <tr>\n",
       "      <th>0</th>\n",
       "      <td>Linear_red</td>\n",
       "      <td>0.892595</td>\n",
       "      <td>0.887056</td>\n",
       "      <td>0.005539</td>\n",
       "    </tr>\n",
       "    <tr>\n",
       "      <th>1</th>\n",
       "      <td>KNN</td>\n",
       "      <td>0.720954</td>\n",
       "      <td>0.663302</td>\n",
       "      <td>[0.057652288906701266]</td>\n",
       "    </tr>\n",
       "    <tr>\n",
       "      <th>2</th>\n",
       "      <td>DTREE</td>\n",
       "      <td>0.944657</td>\n",
       "      <td>0.936943</td>\n",
       "      <td>[0.007713360157324378]</td>\n",
       "    </tr>\n",
       "    <tr>\n",
       "      <th>3</th>\n",
       "      <td>Random Forest</td>\n",
       "      <td>0.964841</td>\n",
       "      <td>0.942533</td>\n",
       "      <td>[0.022307622915432312]</td>\n",
       "    </tr>\n",
       "    <tr>\n",
       "      <th>4</th>\n",
       "      <td>Random Forest After Feature selection</td>\n",
       "      <td>0.958506</td>\n",
       "      <td>0.939294</td>\n",
       "      <td>[0.019211478175409802]</td>\n",
       "    </tr>\n",
       "    <tr>\n",
       "      <th>5</th>\n",
       "      <td>Final Random Forest After Hyper params</td>\n",
       "      <td>0.963865</td>\n",
       "      <td>0.939573</td>\n",
       "      <td>[0.024291842544889253]</td>\n",
       "    </tr>\n",
       "  </tbody>\n",
       "</table>\n",
       "</div>"
      ],
      "text/plain": [
       "                                    MODEL  Traning_acc  Testing_acc  \\\n",
       "0                              Linear_red     0.892595     0.887056   \n",
       "1                                     KNN     0.720954     0.663302   \n",
       "2                                   DTREE     0.944657     0.936943   \n",
       "3                           Random Forest     0.964841     0.942533   \n",
       "4   Random Forest After Feature selection     0.958506     0.939294   \n",
       "5  Final Random Forest After Hyper params     0.963865     0.939573   \n",
       "\n",
       "                 Variance  \n",
       "0                0.005539  \n",
       "1  [0.057652288906701266]  \n",
       "2  [0.007713360157324378]  \n",
       "3  [0.022307622915432312]  \n",
       "4  [0.019211478175409802]  \n",
       "5  [0.024291842544889253]  "
      ]
     },
     "execution_count": 114,
     "metadata": {},
     "output_type": "execute_result"
    }
   ],
   "source": [
    "acc_df.loc[5] =({'MODEL':'Final Random Forest After Hyper params','Traning_acc':Training_acc,'Testing_acc':Testing_acc,'Variance':[Training_acc-Testing_acc]})\n",
    "acc_df"
   ]
  },
  {
   "cell_type": "code",
   "execution_count": null,
   "id": "3796d75a",
   "metadata": {},
   "outputs": [],
   "source": []
  },
  {
   "cell_type": "code",
   "execution_count": null,
   "id": "94ec350d",
   "metadata": {},
   "outputs": [],
   "source": []
  },
  {
   "cell_type": "code",
   "execution_count": null,
   "id": "6d3f184a",
   "metadata": {},
   "outputs": [],
   "source": []
  },
  {
   "cell_type": "markdown",
   "id": "7d2bd64b",
   "metadata": {},
   "source": [
    "# AdaBoost"
   ]
  },
  {
   "cell_type": "code",
   "execution_count": 115,
   "id": "440136df",
   "metadata": {},
   "outputs": [
    {
     "data": {
      "text/plain": [
       "AdaBoostRegressor(random_state=45)"
      ]
     },
     "execution_count": 115,
     "metadata": {},
     "output_type": "execute_result"
    }
   ],
   "source": [
    "ada = AdaBoostRegressor(random_state=45)\n",
    "ada.fit(x_train,y_train)"
   ]
  },
  {
   "cell_type": "markdown",
   "id": "0894532b",
   "metadata": {},
   "source": [
    "# model eval"
   ]
  },
  {
   "cell_type": "code",
   "execution_count": 116,
   "id": "1333e04e",
   "metadata": {},
   "outputs": [
    {
     "name": "stdout",
     "output_type": "stream",
     "text": [
      "R2 SCORE = 0.8807275183758753\n",
      "**************************************************\n",
      "MSE = 5093151.061295899\n",
      "**************************************************\n",
      "MAE= 1698.143008107743\n",
      "**************************************************\n"
     ]
    }
   ],
   "source": [
    "# training accuracy \n",
    "\n",
    "model_eval(x_train,y_train,ada)"
   ]
  },
  {
   "cell_type": "code",
   "execution_count": 117,
   "id": "ccd495d7",
   "metadata": {},
   "outputs": [
    {
     "name": "stdout",
     "output_type": "stream",
     "text": [
      "R2 SCORE = 0.8750347505400007\n",
      "**************************************************\n",
      "MSE = 5373902.269592578\n",
      "**************************************************\n",
      "MAE= 1724.812266352511\n",
      "**************************************************\n"
     ]
    }
   ],
   "source": [
    "# testing accuracy \n",
    "\n",
    "model_eval(x_test,y_test,ada)"
   ]
  },
  {
   "cell_type": "code",
   "execution_count": null,
   "id": "5beaadff",
   "metadata": {},
   "outputs": [],
   "source": []
  },
  {
   "cell_type": "markdown",
   "id": "780e8f5d",
   "metadata": {},
   "source": [
    "# Hyperparameter tunning"
   ]
  },
  {
   "cell_type": "code",
   "execution_count": 118,
   "id": "47a7ed51",
   "metadata": {},
   "outputs": [
    {
     "data": {
      "text/plain": [
       "AdaBoostRegressor(learning_rate=0.1, n_estimators=59, random_state=45)"
      ]
     },
     "execution_count": 118,
     "metadata": {},
     "output_type": "execute_result"
    }
   ],
   "source": [
    "ada1 = AdaBoostRegressor(random_state  = 45)\n",
    "hype = {\"n_estimators\":np.arange(50,100),\n",
    "       \"learning_rate\":np.arange(0.1,1.1,0.1)}\n",
    "rscv = RandomizedSearchCV(ada1,hype)\n",
    "rscv.fit(x_train,y_train)\n",
    "rscv.best_estimator_\n",
    "ada1 = rscv.best_estimator_\n",
    "ada1.fit(x_train,y_train)"
   ]
  },
  {
   "cell_type": "code",
   "execution_count": 119,
   "id": "f0b965a7",
   "metadata": {},
   "outputs": [
    {
     "name": "stdout",
     "output_type": "stream",
     "text": [
      "R2 SCORE = 0.9113715241592651\n",
      "**************************************************\n",
      "MSE = 3784596.4940329897\n",
      "**************************************************\n",
      "MAE= 1414.6116296722748\n",
      "**************************************************\n"
     ]
    }
   ],
   "source": [
    "# training accuracy \n",
    "\n",
    "model_eval(x_train,y_train,ada1)"
   ]
  },
  {
   "cell_type": "code",
   "execution_count": 120,
   "id": "3f51281d",
   "metadata": {},
   "outputs": [
    {
     "name": "stdout",
     "output_type": "stream",
     "text": [
      "R2 SCORE = 0.9060535957216519\n",
      "**************************************************\n",
      "MSE = 4039993.497016781\n",
      "**************************************************\n",
      "MAE= 1433.715193168268\n",
      "**************************************************\n"
     ]
    }
   ],
   "source": [
    "# testing accuracy \n",
    "\n",
    "model_eval(x_test,y_test,ada1)"
   ]
  },
  {
   "cell_type": "code",
   "execution_count": 121,
   "id": "ba4765f6",
   "metadata": {},
   "outputs": [
    {
     "name": "stdout",
     "output_type": "stream",
     "text": [
      " training acc =0.9113715241592651\n",
      " testing acc = 0.9060535957216519\n"
     ]
    }
   ],
   "source": [
    "# Training_acc \n",
    "Training_acc=ada1.score(x_train,y_train)\n",
    "print(f' training acc ={Training_acc}')\n",
    "# # Testing_acc\n",
    "Testing_acc = ada1.score(x_test,y_test)\n",
    "print(f' testing acc = {Testing_acc}')"
   ]
  },
  {
   "cell_type": "code",
   "execution_count": 122,
   "id": "86bd4430",
   "metadata": {},
   "outputs": [
    {
     "data": {
      "text/html": [
       "<div>\n",
       "<style scoped>\n",
       "    .dataframe tbody tr th:only-of-type {\n",
       "        vertical-align: middle;\n",
       "    }\n",
       "\n",
       "    .dataframe tbody tr th {\n",
       "        vertical-align: top;\n",
       "    }\n",
       "\n",
       "    .dataframe thead th {\n",
       "        text-align: right;\n",
       "    }\n",
       "</style>\n",
       "<table border=\"1\" class=\"dataframe\">\n",
       "  <thead>\n",
       "    <tr style=\"text-align: right;\">\n",
       "      <th></th>\n",
       "      <th>MODEL</th>\n",
       "      <th>Traning_acc</th>\n",
       "      <th>Testing_acc</th>\n",
       "      <th>Variance</th>\n",
       "    </tr>\n",
       "  </thead>\n",
       "  <tbody>\n",
       "    <tr>\n",
       "      <th>0</th>\n",
       "      <td>Linear_red</td>\n",
       "      <td>0.892595</td>\n",
       "      <td>0.887056</td>\n",
       "      <td>0.005539</td>\n",
       "    </tr>\n",
       "    <tr>\n",
       "      <th>1</th>\n",
       "      <td>KNN</td>\n",
       "      <td>0.720954</td>\n",
       "      <td>0.663302</td>\n",
       "      <td>[0.057652288906701266]</td>\n",
       "    </tr>\n",
       "    <tr>\n",
       "      <th>2</th>\n",
       "      <td>DTREE</td>\n",
       "      <td>0.944657</td>\n",
       "      <td>0.936943</td>\n",
       "      <td>[0.007713360157324378]</td>\n",
       "    </tr>\n",
       "    <tr>\n",
       "      <th>3</th>\n",
       "      <td>Random Forest</td>\n",
       "      <td>0.964841</td>\n",
       "      <td>0.942533</td>\n",
       "      <td>[0.022307622915432312]</td>\n",
       "    </tr>\n",
       "    <tr>\n",
       "      <th>4</th>\n",
       "      <td>Random Forest After Feature selection</td>\n",
       "      <td>0.958506</td>\n",
       "      <td>0.939294</td>\n",
       "      <td>[0.019211478175409802]</td>\n",
       "    </tr>\n",
       "    <tr>\n",
       "      <th>5</th>\n",
       "      <td>AdaBoost</td>\n",
       "      <td>0.911372</td>\n",
       "      <td>0.906054</td>\n",
       "      <td>[0.005317928437613251]</td>\n",
       "    </tr>\n",
       "  </tbody>\n",
       "</table>\n",
       "</div>"
      ],
      "text/plain": [
       "                                   MODEL  Traning_acc  Testing_acc  \\\n",
       "0                             Linear_red     0.892595     0.887056   \n",
       "1                                    KNN     0.720954     0.663302   \n",
       "2                                  DTREE     0.944657     0.936943   \n",
       "3                          Random Forest     0.964841     0.942533   \n",
       "4  Random Forest After Feature selection     0.958506     0.939294   \n",
       "5                               AdaBoost     0.911372     0.906054   \n",
       "\n",
       "                 Variance  \n",
       "0                0.005539  \n",
       "1  [0.057652288906701266]  \n",
       "2  [0.007713360157324378]  \n",
       "3  [0.022307622915432312]  \n",
       "4  [0.019211478175409802]  \n",
       "5  [0.005317928437613251]  "
      ]
     },
     "execution_count": 122,
     "metadata": {},
     "output_type": "execute_result"
    }
   ],
   "source": [
    "acc_df.loc[5] =({'MODEL':'AdaBoost','Traning_acc':Training_acc,'Testing_acc':Testing_acc,'Variance':[Training_acc-Testing_acc]})\n",
    "acc_df"
   ]
  },
  {
   "cell_type": "markdown",
   "id": "2432ad3e",
   "metadata": {},
   "source": [
    "# Serialisation"
   ]
  },
  {
   "cell_type": "markdown",
   "id": "cb4c275a",
   "metadata": {},
   "source": [
    "# user defined function"
   ]
  },
  {
   "cell_type": "code",
   "execution_count": 127,
   "id": "636deb37",
   "metadata": {},
   "outputs": [],
   "source": [
    "import json\n",
    "\n",
    "patient_data = { 'columns':df2.columns.to_numpy().tolist(),\n",
    "               \n",
    "                'Area':{'Rural':0, 'Suburban': 1, 'Urban': 2},\n",
    "                \n",
    "#                 'Employment':{'Full Time': 3,\n",
    "#                          'Student': 0,\n",
    "#                          'Part Time': 1,\n",
    "#                          'Unemployed': 2,\n",
    "#                          'Retired': 4},\n",
    "\n",
    "#                 'Marital':{'Widowed': 3,\n",
    "#                          'Married': 1,\n",
    "#                          'Separated': 2,\n",
    "#                          'Never Married': 0,\n",
    "#                          'Divorced': 2},\n",
    "\n",
    "#                 'Gender':{'Female': 0, 'Male': 1, 'Prefer not to answer': 2},\n",
    "\n",
    "#                 'ReAdmis':{'No': 0, 'Yes': 1},\n",
    "\n",
    "#                 'Soft_drink':{'No': 0, 'Yes': 1},\n",
    "\n",
    "                'Initial_admin':{'Emergency Admission': 0,\n",
    "                         'Elective Admission': 1,\n",
    "                         'Observation Admission': 2},\n",
    "\n",
    "\n",
    "                'HighBlood':{'No': 0, 'Yes': 1},\n",
    "\n",
    "#                 'Stroke':{'No': 0, 'Yes': 1},\n",
    "\n",
    "                'Complication_risk':{'Medium': 1, 'High': 2, 'Low': 0},\n",
    "\n",
    "\n",
    "#                 'Arthritis':{'No': 0, 'Yes': 1},\n",
    "\n",
    "#                 'Diabetes':{'No': 0, 'Yes': 1},\n",
    "\n",
    "#                 'Hyperlipidemia':{'No': 0, 'Yes': 1},\n",
    "\n",
    "                'BackPain':{'No': 0, 'Yes': 1},\n",
    "\n",
    "#                 'Allergic_rhinitis':{'No': 0, 'Yes': 1},\n",
    "\n",
    "#                 'Reflux_esophagitis':{'No': 0, 'Yes': 1},\n",
    "\n",
    "\n",
    "#                 'Asthma':{'No': 0, 'Yes': 1},\n",
    "\n",
    "\n",
    "                'Services':{'Blood Work': 0, 'Intravenous': 1, 'CT Scan': 2, 'MRI': 3}\n",
    "               }\n",
    "with open('patient_data.json','w') as file:\n",
    "    json.dump(patient_data,file)"
   ]
  },
  {
   "cell_type": "code",
   "execution_count": 128,
   "id": "ec5a27ce",
   "metadata": {},
   "outputs": [],
   "source": [
    "import pickle\n",
    "\n",
    "with open('rf_model.pkl','wb') as file:\n",
    "    pickle.dump(final_rf,file)"
   ]
  },
  {
   "cell_type": "code",
   "execution_count": 129,
   "id": "23e3a31d",
   "metadata": {},
   "outputs": [],
   "source": [
    "# with open('pca.pkl','wb') as file:\n",
    "#     pickle.dump(pca,file)"
   ]
  },
  {
   "cell_type": "code",
   "execution_count": 130,
   "id": "e03c3f4b",
   "metadata": {},
   "outputs": [
    {
     "name": "stdout",
     "output_type": "stream",
     "text": [
      "Area:Urban\n",
      "Children:0\n",
      "Age:25\n",
      "Income:25000\n",
      "VitD_levels:15\n",
      "Doc_visits:2\n",
      "Full_meals_eaten:4\n",
      "VitD_supp:2\n",
      "Initial_admin:Emergency Admission\n",
      "HighBlood:No\n",
      "Complication_risk:Medium\n",
      "Overweight:0\n",
      "BackPain:No\n",
      "Anxiety:0.8\n",
      "Services:Blood Work\n",
      "Initial_days:2\n",
      "Additional_charges:800\n"
     ]
    },
    {
     "name": "stderr",
     "output_type": "stream",
     "text": [
      "C:\\anacondaaa\\lib\\site-packages\\sklearn\\base.py:450: UserWarning: X does not have valid feature names, but RandomForestRegressor was fitted with feature names\n",
      "  warnings.warn(\n"
     ]
    },
    {
     "data": {
      "text/plain": [
       "4903.327882386088"
      ]
     },
     "execution_count": 130,
     "metadata": {},
     "output_type": "execute_result"
    }
   ],
   "source": [
    "\n",
    "user_data = np.zeros(len(df2.columns.tolist()))\n",
    "Area = str(input('Area:'))                         \n",
    "Children = eval(input('Children:'))             \n",
    "Age = eval(input('Age:'))                                      \n",
    "Income = eval(input('Income:'))                         \n",
    "# Gender = eval(input('Gender:'))                \n",
    "# ReAdmis = eval(input('ReAdmis:'))               \n",
    "VitD_levels = eval(input('VitD_levels:'))          \n",
    "Doc_visits = eval(input('Doc_visits:'))            \n",
    "Full_meals_eaten = eval(input('Full_meals_eaten:'))      \n",
    "VitD_supp = eval(input('VitD_supp:'))            \n",
    "# Soft_drink = eval(input('Soft_drink:'))           \n",
    "Initial_admin = str(input('Initial_admin:'))         \n",
    "HighBlood = str(input('HighBlood:'))             \n",
    "# Stroke = eval(input('Stroke:'))               \n",
    "Complication_risk = str(input('Complication_risk:'))     \n",
    "Overweight = eval(input('Overweight:'))           \n",
    "# Arthritis = eval(input('Arthritis:'))             \n",
    "# Diabetes = eval(input('Diabetes:'))              \n",
    "# Hyperlipidemia = eval(input('Hyperlipidemia:'))        \n",
    "BackPain = str(input('BackPain:'))              \n",
    "Anxiety = eval(input('Anxiety:'))               \n",
    "# Allergic_rhinitis = eval(input('Allergic_rhinitis:'))     \n",
    "# Reflux_esophagitis = eval(input('Reflux_esophagitis:'))   \n",
    "# Asthma = eval(input('Asthma:'))                \n",
    "Services = str(input('Services:'))              \n",
    "Initial_days = eval(input('Initial_days:'))          \n",
    "Additional_charges = eval(input('Additional_charges:'))  \n",
    "\n",
    "\n",
    "\n",
    "\n",
    "\n",
    "\n",
    "user_data[0] = patient_data['Area'][Area]\n",
    "user_data[1] = Children\n",
    "user_data[2] = Age\n",
    "user_data[3] = Income\n",
    "# user_data[4] = user_data['Gender'][Gender]\n",
    "# user_data[5] = user_data['ReAdmis'][ReAdmis]\n",
    "user_data[4] = VitD_levels\n",
    "user_data[5] = Doc_visits\n",
    "user_data[6] = Full_meals_eaten\n",
    "user_data[7] = VitD_supp\n",
    "# user_data[10] = user_data['Soft_drink'][Soft_drink]\n",
    "user_data[8] = patient_data['Initial_admin'][Initial_admin]\n",
    "user_data[9] = patient_data['HighBlood'][HighBlood]\n",
    "# user_data[13] = user_data['Stroke'][Stroke]\n",
    "user_data[10] = patient_data['Complication_risk'][Complication_risk]\n",
    "user_data[11] = Overweight\n",
    "# user_data[16] = user_data['Arthritis'][Arthritis]\n",
    "# user_data[17] = user_data['Diabetes'][Diabetes]\n",
    "# user_data[18] = user_data['Hyperlipidemia'][Hyperlipidemia]\n",
    "user_data[12] = patient_data['BackPain'][BackPain]\n",
    "user_data[13] = Anxiety\n",
    "# user_data[21] = user_data['Allergic_rhinitis'][Allergic_rhinitis]\n",
    "# user_data[22] = user_data['Reflux_esophagitis'][Reflux_esophagitis]\n",
    "# user_data[23] = user_data['Asthma'][Asthma]\n",
    "user_data[14] = patient_data['Services'][Services]\n",
    "user_data[15] = Initial_days\n",
    "user_data[16] = Additional_charges\n",
    "\n",
    "result = final_rf.predict([user_data])\n",
    "result[0]\n",
    "\n",
    "\n"
   ]
  },
  {
   "cell_type": "code",
   "execution_count": null,
   "id": "edbcf676",
   "metadata": {},
   "outputs": [],
   "source": [
    "# Area:\"Urban\"\n",
    "# Children:2\n",
    "# Age:48\n",
    "# Income:45000\n",
    "# VitD_levels:15\n",
    "# Doc_visits:2\n",
    "# Full_meals_eaten:2\n",
    "# VitD_supp:2\n",
    "# Initial_admin:\"Elective Admission\"\n",
    "# HighBlood:\"Yes\"\n",
    "# Complication_risk:\"Medium\"\n",
    "# Overweight:1.0\n",
    "# BackPain:\"Yes\"\n",
    "# Anxiety:0.8\n",
    "# Services:\"Blood Work\"\n",
    "# Initial_days:2\n",
    "# Additional_charges:1500"
   ]
  },
  {
   "cell_type": "code",
   "execution_count": null,
   "id": "8102cba6",
   "metadata": {},
   "outputs": [],
   "source": [
    "# user_data = np.zeros(len(df2.columns.tolist()))\n",
    "\n",
    "\n",
    "\n",
    "\n",
    "\n",
    "\n",
    "# user_data[0] = patient_data['Area'][Area]\n",
    "# user_data[1] = Children\n",
    "# user_data[2] = Age\n",
    "# user_data[3] = Income\n",
    "# # user_data[4] = user_data['Gender'][Gender]\n",
    "# # user_data[5] = user_data['ReAdmis'][ReAdmis]\n",
    "# user_data[4] = VitD_levels\n",
    "# user_data[5] = Doc_visits\n",
    "# user_data[6] = Full_meals_eaten\n",
    "# user_data[7] = VitD_supp\n",
    "# # user_data[10] = user_data['Soft_drink'][Soft_drink]\n",
    "# user_data[8] = patient_data['Initial_admin'][Initial_admin]\n",
    "# user_data[9] = patient_data['HighBlood'][HighBlood]\n",
    "# # user_data[13] = user_data['Stroke'][Stroke]\n",
    "# user_data[10] = patient_data['Complication_risk'][Complication_risk]\n",
    "# user_data[11] = Overweight\n",
    "# # user_data[16] = user_data['Arthritis'][Arthritis]\n",
    "# # user_data[17] = user_data['Diabetes'][Diabetes]\n",
    "# # user_data[18] = user_data['Hyperlipidemia'][Hyperlipidemia]\n",
    "# user_data[12] = patient_data['BackPain'][BackPain]\n",
    "# user_data[13] = Anxiety\n",
    "# # user_data[21] = user_data['Allergic_rhinitis'][Allergic_rhinitis]\n",
    "# # user_data[22] = user_data['Reflux_esophagitis'][Reflux_esophagitis]\n",
    "# # user_data[23] = user_data['Asthma'][Asthma]\n",
    "# user_data[14] = patient_data['Services'][Services]\n",
    "# user_data[15] = Initial_days\n",
    "# user_data[16] = Additional_charges\n",
    "\n",
    "# result = final_rf.predict([user_data])\n",
    "# result[0]\n",
    "\n"
   ]
  },
  {
   "cell_type": "code",
   "execution_count": null,
   "id": "c656d010",
   "metadata": {},
   "outputs": [],
   "source": []
  },
  {
   "cell_type": "code",
   "execution_count": null,
   "id": "b1e222d3",
   "metadata": {},
   "outputs": [],
   "source": []
  },
  {
   "cell_type": "code",
   "execution_count": null,
   "id": "b045c249",
   "metadata": {},
   "outputs": [],
   "source": []
  }
 ],
 "metadata": {
  "kernelspec": {
   "display_name": "Python 3 (ipykernel)",
   "language": "python",
   "name": "python3"
  },
  "language_info": {
   "codemirror_mode": {
    "name": "ipython",
    "version": 3
   },
   "file_extension": ".py",
   "mimetype": "text/x-python",
   "name": "python",
   "nbconvert_exporter": "python",
   "pygments_lexer": "ipython3",
   "version": "3.9.12"
  }
 },
 "nbformat": 4,
 "nbformat_minor": 5
}
